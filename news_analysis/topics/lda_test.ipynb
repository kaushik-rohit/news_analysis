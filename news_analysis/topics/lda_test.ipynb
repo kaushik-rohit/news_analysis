{
 "cells": [
  {
   "cell_type": "markdown",
   "metadata": {},
   "source": [
    "# Import"
   ]
  },
  {
   "cell_type": "code",
   "execution_count": 1,
   "metadata": {},
   "outputs": [],
   "source": [
    "import pandas as pd\n",
    "from gensim import models, corpora\n",
    "from gensim.parsing.preprocessing import preprocess_string, strip_tags, strip_punctuation\n",
    "from gensim.parsing.preprocessing import remove_stopwords, stem_text, strip_non_alphanum, strip_multiple_whitespaces\n",
    "from gensim.parsing.preprocessing import strip_short, strip_numeric\n",
    "from gensim.parsing.preprocessing import STOPWORDS\n",
    "from gensim.models.phrases import Phrases, Phraser\n",
    "import nltk\n",
    "import pandas as pd\n",
    "import numpy as np\n",
    "import tensorflow as tf"
   ]
  },
  {
   "cell_type": "code",
   "execution_count": 10,
   "metadata": {},
   "outputs": [],
   "source": [
    "def build_network():\n",
    "    model = tf.keras.models.Sequential([\n",
    "        tf.keras.Input(shape=(1000)),\n",
    "        tf.keras.layers.Dense(512, activation='relu', kernel_regularizer=tf.keras.regularizers.l2(l=0.00001)),\n",
    "        tf.keras.layers.Dense(256, activation='relu', kernel_regularizer=tf.keras.regularizers.l2(l=0.00001)),\n",
    "        tf.keras.layers.Dense(128, activation='relu'),\n",
    "        tf.keras.layers.Dense(21, activation='softmax')\n",
    "    ])\n",
    "    loss_fn = tf.keras.losses.CategoricalCrossentropy(from_logits=False, label_smoothing=0, name='categorical_crossentropy')\n",
    "\n",
    "    model.compile(optimizer=tf.keras.optimizers.Adam(),\n",
    "              loss=loss_fn,\n",
    "              metrics=['accuracy'])\n",
    "    \n",
    "    return model"
   ]
  },
  {
   "cell_type": "markdown",
   "metadata": {},
   "source": [
    "# Load Models"
   ]
  },
  {
   "cell_type": "code",
   "execution_count": 11,
   "metadata": {},
   "outputs": [
    {
     "data": {
      "text/plain": [
       "<tensorflow.python.training.tracking.util.CheckpointLoadStatus at 0x7ffa112f1990>"
      ]
     },
     "execution_count": 11,
     "metadata": {},
     "output_type": "execute_result"
    }
   ],
   "source": [
    "lda_model = models.ldamulticore.LdaMulticore.load('./lda_model_2012-13.pkl')\n",
    "bigram_model = Phraser.load('./bigram_2012-13.pkl')\n",
    "dictionary = corpora.Dictionary.load('./topics_vocab_2012-13.dict')\n",
    "classifier = build_network()\n",
    "classifier.load_weights('./lda_topics_classifier')"
   ]
  },
  {
   "cell_type": "markdown",
   "metadata": {},
   "source": [
    "# Preprocess"
   ]
  },
  {
   "cell_type": "code",
   "execution_count": 12,
   "metadata": {},
   "outputs": [],
   "source": [
    "topics_index_to_name_map = {\n",
    "    0: 'Agriculture, animals, food and rural affairs',\n",
    "    1: 'Asylum, immigration and nationality',\n",
    "    2: 'Business, industry and consumers',\n",
    "    3: 'Communities and families',\n",
    "    4: 'Crime, civil law, justice and rights',\n",
    "    5: 'Culture, media and sport',\n",
    "    6: 'Defence',\n",
    "    7: 'Economy and finance',\n",
    "    8: 'Education',\n",
    "    9: 'Employment and training',\n",
    "    10: 'Energy and environment',\n",
    "    11: 'European Union',\n",
    "    12: 'Health services and medicine',\n",
    "    13: 'Housing and planning',\n",
    "    14: 'International affairs',\n",
    "    15: 'Parliament, government and politics',\n",
    "    16: 'Science and technology',\n",
    "    17: 'Social security and pensions',\n",
    "    18: 'Social services',\n",
    "    19: 'Transport',\n",
    "    20: 'Others'\n",
    "}\n",
    "topics_name_to_index_map = {y:x for x,y in topics_index_to_name_map.items()}\n",
    "\n",
    "def strip_short2(text):\n",
    "    return strip_short(text, minsize=4)\n",
    "\n",
    "def remove_non_nouns(text):\n",
    "    tokens = nltk.word_tokenize(text)\n",
    "    tags = nltk.pos_tag(tokens)\n",
    "    filter_tokens = [t[0] for t in tags if t[1] == \"NN\" or t[1] == \"VB\"]\n",
    "    return ' '.join(filter_tokens)\n",
    "\n",
    "\n",
    "def remove_custom_stopwords(s):\n",
    "    my_stop_words = STOPWORDS.union(set(['time', 'year', 'number', 'today', 'week', 'month', 'night', 'world', 'home',\n",
    "                                         'place', 'yesterday', 'life', 'wife']))\n",
    "    return \" \".join(w for w in s.split() if w not in my_stop_words)\n",
    "\n",
    "\n",
    "def preprocess_text_for_lda(text):\n",
    "    LDA_FILTERS = [lambda x: x.lower(), strip_multiple_whitespaces, strip_tags, strip_punctuation,\n",
    "                   remove_custom_stopwords, strip_short2, strip_non_alphanum, strip_numeric, remove_non_nouns]\n",
    "    return preprocess_string(text, LDA_FILTERS)\n",
    "\n",
    "\n",
    "def filter_multiple_topics(topic):\n",
    "    if '|' in topic:\n",
    "        return topic.split('|')[0].strip()\n",
    "    return topic\n",
    "\n",
    "def preprocess(topic):\n",
    "    t = filter_multiple_topics(topic)\n",
    "    if t == 'admin':\n",
    "        t = 'Others'\n",
    "        \n",
    "    return t"
   ]
  },
  {
   "cell_type": "markdown",
   "metadata": {},
   "source": [
    "# Load Data"
   ]
  },
  {
   "cell_type": "code",
   "execution_count": 13,
   "metadata": {},
   "outputs": [
    {
     "name": "stdout",
     "output_type": "stream",
     "text": [
      "WARNING:tensorflow:Unresolved object in checkpoint: (root).layer_with_weights-3\n",
      "WARNING:tensorflow:Unresolved object in checkpoint: (root).layer_with_weights-3.kernel\n",
      "WARNING:tensorflow:Unresolved object in checkpoint: (root).layer_with_weights-3.bias\n",
      "WARNING:tensorflow:Unresolved object in checkpoint: (root).optimizer.iter\n",
      "WARNING:tensorflow:Unresolved object in checkpoint: (root).optimizer.beta_1\n",
      "WARNING:tensorflow:Unresolved object in checkpoint: (root).optimizer.beta_2\n",
      "WARNING:tensorflow:Unresolved object in checkpoint: (root).optimizer.decay\n",
      "WARNING:tensorflow:Unresolved object in checkpoint: (root).optimizer.learning_rate\n",
      "WARNING:tensorflow:Unresolved object in checkpoint: (root).optimizer's state 'm' for (root).layer_with_weights-3.kernel\n",
      "WARNING:tensorflow:Unresolved object in checkpoint: (root).optimizer's state 'm' for (root).layer_with_weights-3.bias\n",
      "WARNING:tensorflow:Unresolved object in checkpoint: (root).optimizer's state 'v' for (root).layer_with_weights-3.kernel\n",
      "WARNING:tensorflow:Unresolved object in checkpoint: (root).optimizer's state 'v' for (root).layer_with_weights-3.bias\n",
      "WARNING:tensorflow:A checkpoint was restored (e.g. tf.train.Checkpoint.restore or tf.keras.Model.load_weights) but not all checkpointed values were used. See above for specific issues. Use expect_partial() on the load status object, e.g. tf.train.Checkpoint.restore(...).expect_partial(), to silence these warnings, or use assert_consumed() to make the check explicit. See https://www.tensorflow.org/guide/checkpoint#loading_mechanics for details.\n"
     ]
    }
   ],
   "source": [
    "df = pd.read_csv('./data/2014_speech.csv')\n",
    "df = df.drop(df[df.topic == 'admin'].index)\n",
    "df = df.drop(df[df.transcript.str.split().map(len) < 10].index).reset_index()\n",
    "df['topic'] = df.apply(lambda row: preprocess(row['topic']), axis=1)"
   ]
  },
  {
   "cell_type": "code",
   "execution_count": 14,
   "metadata": {},
   "outputs": [
    {
     "data": {
      "text/html": [
       "<div>\n",
       "<style scoped>\n",
       "    .dataframe tbody tr th:only-of-type {\n",
       "        vertical-align: middle;\n",
       "    }\n",
       "\n",
       "    .dataframe tbody tr th {\n",
       "        vertical-align: top;\n",
       "    }\n",
       "\n",
       "    .dataframe thead th {\n",
       "        text-align: right;\n",
       "    }\n",
       "</style>\n",
       "<table border=\"1\" class=\"dataframe\">\n",
       "  <thead>\n",
       "    <tr style=\"text-align: right;\">\n",
       "      <th></th>\n",
       "      <th>index</th>\n",
       "      <th>date</th>\n",
       "      <th>topic</th>\n",
       "      <th>transcript</th>\n",
       "    </tr>\n",
       "  </thead>\n",
       "  <tbody>\n",
       "    <tr>\n",
       "      <th>0</th>\n",
       "      <td>0</td>\n",
       "      <td>2014-01-06</td>\n",
       "      <td>Education</td>\n",
       "      <td>1.  What assessment he has made of the perform...</td>\n",
       "    </tr>\n",
       "    <tr>\n",
       "      <th>1</th>\n",
       "      <td>1</td>\n",
       "      <td>2014-01-06</td>\n",
       "      <td>Education</td>\n",
       "      <td>I associate myself and those on the Front Benc...</td>\n",
       "    </tr>\n",
       "    <tr>\n",
       "      <th>2</th>\n",
       "      <td>2</td>\n",
       "      <td>2014-01-06</td>\n",
       "      <td>Education</td>\n",
       "      <td>I wish you, Mr Speaker, and the whole House al...</td>\n",
       "    </tr>\n",
       "    <tr>\n",
       "      <th>3</th>\n",
       "      <td>3</td>\n",
       "      <td>2014-01-06</td>\n",
       "      <td>Education</td>\n",
       "      <td>My hon. Friend is absolutely right. Parents ar...</td>\n",
       "    </tr>\n",
       "    <tr>\n",
       "      <th>4</th>\n",
       "      <td>4</td>\n",
       "      <td>2014-01-06</td>\n",
       "      <td>Education</td>\n",
       "      <td>Does not the evidence show that the most impor...</td>\n",
       "    </tr>\n",
       "    <tr>\n",
       "      <th>...</th>\n",
       "      <td>...</td>\n",
       "      <td>...</td>\n",
       "      <td>...</td>\n",
       "      <td>...</td>\n",
       "    </tr>\n",
       "    <tr>\n",
       "      <th>53055</th>\n",
       "      <td>60274</td>\n",
       "      <td>2014-12-18</td>\n",
       "      <td>Employment and training</td>\n",
       "      <td>We are not going to get into that. It is Chris...</td>\n",
       "    </tr>\n",
       "    <tr>\n",
       "      <th>53056</th>\n",
       "      <td>60275</td>\n",
       "      <td>2014-12-18</td>\n",
       "      <td>Employment and training</td>\n",
       "      <td>Thank you, Mr Deputy Speaker. As the hon. Gent...</td>\n",
       "    </tr>\n",
       "    <tr>\n",
       "      <th>53057</th>\n",
       "      <td>60276</td>\n",
       "      <td>2014-12-18</td>\n",
       "      <td>Employment and training</td>\n",
       "      <td>On a point of order, Mr Deputy Speaker. If you...</td>\n",
       "    </tr>\n",
       "    <tr>\n",
       "      <th>53058</th>\n",
       "      <td>60277</td>\n",
       "      <td>2014-12-18</td>\n",
       "      <td>Employment and training</td>\n",
       "      <td>I do not want this debate to deteriorate any f...</td>\n",
       "    </tr>\n",
       "    <tr>\n",
       "      <th>53059</th>\n",
       "      <td>60278</td>\n",
       "      <td>2014-12-18</td>\n",
       "      <td>Employment and training</td>\n",
       "      <td>As I said to the right hon. Member for East Ha...</td>\n",
       "    </tr>\n",
       "  </tbody>\n",
       "</table>\n",
       "<p>53060 rows × 4 columns</p>\n",
       "</div>"
      ],
      "text/plain": [
       "       index        date                    topic  \\\n",
       "0          0  2014-01-06                Education   \n",
       "1          1  2014-01-06                Education   \n",
       "2          2  2014-01-06                Education   \n",
       "3          3  2014-01-06                Education   \n",
       "4          4  2014-01-06                Education   \n",
       "...      ...         ...                      ...   \n",
       "53055  60274  2014-12-18  Employment and training   \n",
       "53056  60275  2014-12-18  Employment and training   \n",
       "53057  60276  2014-12-18  Employment and training   \n",
       "53058  60277  2014-12-18  Employment and training   \n",
       "53059  60278  2014-12-18  Employment and training   \n",
       "\n",
       "                                              transcript  \n",
       "0      1.  What assessment he has made of the perform...  \n",
       "1      I associate myself and those on the Front Benc...  \n",
       "2      I wish you, Mr Speaker, and the whole House al...  \n",
       "3      My hon. Friend is absolutely right. Parents ar...  \n",
       "4      Does not the evidence show that the most impor...  \n",
       "...                                                  ...  \n",
       "53055  We are not going to get into that. It is Chris...  \n",
       "53056  Thank you, Mr Deputy Speaker. As the hon. Gent...  \n",
       "53057  On a point of order, Mr Deputy Speaker. If you...  \n",
       "53058  I do not want this debate to deteriorate any f...  \n",
       "53059  As I said to the right hon. Member for East Ha...  \n",
       "\n",
       "[53060 rows x 4 columns]"
      ]
     },
     "execution_count": 14,
     "metadata": {},
     "output_type": "execute_result"
    }
   ],
   "source": [
    "df"
   ]
  },
  {
   "cell_type": "markdown",
   "metadata": {},
   "source": [
    "# Predict"
   ]
  },
  {
   "cell_type": "code",
   "execution_count": 15,
   "metadata": {},
   "outputs": [],
   "source": [
    "def predict(text, topn=3):\n",
    "    preprocessed_text = preprocess_text_for_lda(text)\n",
    "    bigrams = bigram_model[preprocessed_text]\n",
    "    bow = dictionary.doc2bow(bigrams)\n",
    "    lda_vector = lda_model.get_document_topics(bow, minimum_probability=0.0)\n",
    "    lda_vector = np.array([x[1] for x in lda_vector])\n",
    "    lda_vector = lda_vector.reshape(1, 1000,)\n",
    "    pred = classifier.predict(lda_vector)\n",
    "    pred_i = [(topics_index_to_name_map[i], p) for i,p in enumerate(pred[0])]\n",
    "    pred_sorted = sorted(pred_i, key=lambda x: x[1], reverse=True)\n",
    "    return pred_sorted[:topn]\n",
    "    "
   ]
  },
  {
   "cell_type": "code",
   "execution_count": 16,
   "metadata": {},
   "outputs": [
    {
     "name": "stdout",
     "output_type": "stream",
     "text": [
      "Does not the evidence show that the most important factor is the quality of teaching in our schools? Thousands of schools around the country have chosen not to go down the academy route. Will the Secretary of State join me in congratulating Ranworth Square primary school in my constituency, where the majority of children are on free school meals but where last summer 93% achieved at least a level 4 in English, maths and writing? \n"
     ]
    }
   ],
   "source": [
    "text = df['transcript'].iloc[4]\n",
    "print(text)"
   ]
  },
  {
   "cell_type": "code",
   "execution_count": 17,
   "metadata": {},
   "outputs": [
    {
     "data": {
      "text/plain": [
       "[('Education', 0.46267793), ('Others', 0.15650004), ('Transport', 0.05563398)]"
      ]
     },
     "execution_count": 17,
     "metadata": {},
     "output_type": "execute_result"
    }
   ],
   "source": [
    "predict(text)"
   ]
  },
  {
   "cell_type": "code",
   "execution_count": 18,
   "metadata": {},
   "outputs": [],
   "source": [
    "df['predicted_topic'] = df.apply(lambda x: predict(x['transcript']), axis=1)"
   ]
  },
  {
   "cell_type": "code",
   "execution_count": 19,
   "metadata": {},
   "outputs": [],
   "source": [
    "df.to_csv('./lda_pred.csv')"
   ]
  },
  {
   "cell_type": "code",
   "execution_count": 20,
   "metadata": {},
   "outputs": [
    {
     "data": {
      "text/html": [
       "<div>\n",
       "<style scoped>\n",
       "    .dataframe tbody tr th:only-of-type {\n",
       "        vertical-align: middle;\n",
       "    }\n",
       "\n",
       "    .dataframe tbody tr th {\n",
       "        vertical-align: top;\n",
       "    }\n",
       "\n",
       "    .dataframe thead th {\n",
       "        text-align: right;\n",
       "    }\n",
       "</style>\n",
       "<table border=\"1\" class=\"dataframe\">\n",
       "  <thead>\n",
       "    <tr style=\"text-align: right;\">\n",
       "      <th></th>\n",
       "      <th>index</th>\n",
       "      <th>date</th>\n",
       "      <th>topic</th>\n",
       "      <th>transcript</th>\n",
       "      <th>predicted_topic</th>\n",
       "    </tr>\n",
       "  </thead>\n",
       "  <tbody>\n",
       "    <tr>\n",
       "      <th>0</th>\n",
       "      <td>0</td>\n",
       "      <td>2014-01-06</td>\n",
       "      <td>Education</td>\n",
       "      <td>1.  What assessment he has made of the perform...</td>\n",
       "      <td>[(Parliament, government and politics, 0.14581...</td>\n",
       "    </tr>\n",
       "    <tr>\n",
       "      <th>1</th>\n",
       "      <td>1</td>\n",
       "      <td>2014-01-06</td>\n",
       "      <td>Education</td>\n",
       "      <td>I associate myself and those on the Front Benc...</td>\n",
       "      <td>[(Communities and families, 0.3535391), (Parli...</td>\n",
       "    </tr>\n",
       "    <tr>\n",
       "      <th>2</th>\n",
       "      <td>2</td>\n",
       "      <td>2014-01-06</td>\n",
       "      <td>Education</td>\n",
       "      <td>I wish you, Mr Speaker, and the whole House al...</td>\n",
       "      <td>[(Education, 0.5249328), (Employment and train...</td>\n",
       "    </tr>\n",
       "    <tr>\n",
       "      <th>3</th>\n",
       "      <td>3</td>\n",
       "      <td>2014-01-06</td>\n",
       "      <td>Education</td>\n",
       "      <td>My hon. Friend is absolutely right. Parents ar...</td>\n",
       "      <td>[(Education, 0.683318), (Health services and m...</td>\n",
       "    </tr>\n",
       "    <tr>\n",
       "      <th>4</th>\n",
       "      <td>4</td>\n",
       "      <td>2014-01-06</td>\n",
       "      <td>Education</td>\n",
       "      <td>Does not the evidence show that the most impor...</td>\n",
       "      <td>[(Education, 0.34625402), (Others, 0.177424), ...</td>\n",
       "    </tr>\n",
       "    <tr>\n",
       "      <th>...</th>\n",
       "      <td>...</td>\n",
       "      <td>...</td>\n",
       "      <td>...</td>\n",
       "      <td>...</td>\n",
       "      <td>...</td>\n",
       "    </tr>\n",
       "    <tr>\n",
       "      <th>53055</th>\n",
       "      <td>60274</td>\n",
       "      <td>2014-12-18</td>\n",
       "      <td>Employment and training</td>\n",
       "      <td>We are not going to get into that. It is Chris...</td>\n",
       "      <td>[(Energy and environment, 0.1504166), (Parliam...</td>\n",
       "    </tr>\n",
       "    <tr>\n",
       "      <th>53056</th>\n",
       "      <td>60275</td>\n",
       "      <td>2014-12-18</td>\n",
       "      <td>Employment and training</td>\n",
       "      <td>Thank you, Mr Deputy Speaker. As the hon. Gent...</td>\n",
       "      <td>[(Others, 0.13572422), (Parliament, government...</td>\n",
       "    </tr>\n",
       "    <tr>\n",
       "      <th>53057</th>\n",
       "      <td>60276</td>\n",
       "      <td>2014-12-18</td>\n",
       "      <td>Employment and training</td>\n",
       "      <td>On a point of order, Mr Deputy Speaker. If you...</td>\n",
       "      <td>[(European Union, 0.24168938), (Economy and fi...</td>\n",
       "    </tr>\n",
       "    <tr>\n",
       "      <th>53058</th>\n",
       "      <td>60277</td>\n",
       "      <td>2014-12-18</td>\n",
       "      <td>Employment and training</td>\n",
       "      <td>I do not want this debate to deteriorate any f...</td>\n",
       "      <td>[(Parliament, government and politics, 0.14678...</td>\n",
       "    </tr>\n",
       "    <tr>\n",
       "      <th>53059</th>\n",
       "      <td>60278</td>\n",
       "      <td>2014-12-18</td>\n",
       "      <td>Employment and training</td>\n",
       "      <td>As I said to the right hon. Member for East Ha...</td>\n",
       "      <td>[(Crime, civil law, justice and rights, 0.1618...</td>\n",
       "    </tr>\n",
       "  </tbody>\n",
       "</table>\n",
       "<p>53060 rows × 5 columns</p>\n",
       "</div>"
      ],
      "text/plain": [
       "       index        date                    topic  \\\n",
       "0          0  2014-01-06                Education   \n",
       "1          1  2014-01-06                Education   \n",
       "2          2  2014-01-06                Education   \n",
       "3          3  2014-01-06                Education   \n",
       "4          4  2014-01-06                Education   \n",
       "...      ...         ...                      ...   \n",
       "53055  60274  2014-12-18  Employment and training   \n",
       "53056  60275  2014-12-18  Employment and training   \n",
       "53057  60276  2014-12-18  Employment and training   \n",
       "53058  60277  2014-12-18  Employment and training   \n",
       "53059  60278  2014-12-18  Employment and training   \n",
       "\n",
       "                                              transcript  \\\n",
       "0      1.  What assessment he has made of the perform...   \n",
       "1      I associate myself and those on the Front Benc...   \n",
       "2      I wish you, Mr Speaker, and the whole House al...   \n",
       "3      My hon. Friend is absolutely right. Parents ar...   \n",
       "4      Does not the evidence show that the most impor...   \n",
       "...                                                  ...   \n",
       "53055  We are not going to get into that. It is Chris...   \n",
       "53056  Thank you, Mr Deputy Speaker. As the hon. Gent...   \n",
       "53057  On a point of order, Mr Deputy Speaker. If you...   \n",
       "53058  I do not want this debate to deteriorate any f...   \n",
       "53059  As I said to the right hon. Member for East Ha...   \n",
       "\n",
       "                                         predicted_topic  \n",
       "0      [(Parliament, government and politics, 0.14581...  \n",
       "1      [(Communities and families, 0.3535391), (Parli...  \n",
       "2      [(Education, 0.5249328), (Employment and train...  \n",
       "3      [(Education, 0.683318), (Health services and m...  \n",
       "4      [(Education, 0.34625402), (Others, 0.177424), ...  \n",
       "...                                                  ...  \n",
       "53055  [(Energy and environment, 0.1504166), (Parliam...  \n",
       "53056  [(Others, 0.13572422), (Parliament, government...  \n",
       "53057  [(European Union, 0.24168938), (Economy and fi...  \n",
       "53058  [(Parliament, government and politics, 0.14678...  \n",
       "53059  [(Crime, civil law, justice and rights, 0.1618...  \n",
       "\n",
       "[53060 rows x 5 columns]"
      ]
     },
     "execution_count": 20,
     "metadata": {},
     "output_type": "execute_result"
    }
   ],
   "source": [
    "df"
   ]
  },
  {
   "cell_type": "code",
   "execution_count": null,
   "metadata": {},
   "outputs": [],
   "source": []
  }
 ],
 "metadata": {
  "kernelspec": {
   "display_name": "Python [conda env:econ] *",
   "language": "python",
   "name": "conda-env-econ-py"
  },
  "language_info": {
   "codemirror_mode": {
    "name": "ipython",
    "version": 3
   },
   "file_extension": ".py",
   "mimetype": "text/x-python",
   "name": "python",
   "nbconvert_exporter": "python",
   "pygments_lexer": "ipython3",
   "version": "3.7.7"
  }
 },
 "nbformat": 4,
 "nbformat_minor": 4
}
