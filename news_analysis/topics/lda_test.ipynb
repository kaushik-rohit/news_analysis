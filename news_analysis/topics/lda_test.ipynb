{
 "cells": [
  {
   "cell_type": "markdown",
   "metadata": {},
   "source": [
    "# Import"
   ]
  },
  {
   "cell_type": "code",
   "execution_count": 1,
   "metadata": {},
   "outputs": [
    {
     "name": "stderr",
     "output_type": "stream",
     "text": [
      "/home/rohit/.local/lib/python3.7/site-packages/tensorboard/compat/tensorflow_stub/dtypes.py:541: FutureWarning: Passing (type, 1) or '1type' as a synonym of type is deprecated; in a future version of numpy, it will be understood as (type, (1,)) / '(1,)type'.\n",
      "  _np_qint8 = np.dtype([(\"qint8\", np.int8, 1)])\n",
      "/home/rohit/.local/lib/python3.7/site-packages/tensorboard/compat/tensorflow_stub/dtypes.py:542: FutureWarning: Passing (type, 1) or '1type' as a synonym of type is deprecated; in a future version of numpy, it will be understood as (type, (1,)) / '(1,)type'.\n",
      "  _np_quint8 = np.dtype([(\"quint8\", np.uint8, 1)])\n",
      "/home/rohit/.local/lib/python3.7/site-packages/tensorboard/compat/tensorflow_stub/dtypes.py:543: FutureWarning: Passing (type, 1) or '1type' as a synonym of type is deprecated; in a future version of numpy, it will be understood as (type, (1,)) / '(1,)type'.\n",
      "  _np_qint16 = np.dtype([(\"qint16\", np.int16, 1)])\n",
      "/home/rohit/.local/lib/python3.7/site-packages/tensorboard/compat/tensorflow_stub/dtypes.py:544: FutureWarning: Passing (type, 1) or '1type' as a synonym of type is deprecated; in a future version of numpy, it will be understood as (type, (1,)) / '(1,)type'.\n",
      "  _np_quint16 = np.dtype([(\"quint16\", np.uint16, 1)])\n",
      "/home/rohit/.local/lib/python3.7/site-packages/tensorboard/compat/tensorflow_stub/dtypes.py:545: FutureWarning: Passing (type, 1) or '1type' as a synonym of type is deprecated; in a future version of numpy, it will be understood as (type, (1,)) / '(1,)type'.\n",
      "  _np_qint32 = np.dtype([(\"qint32\", np.int32, 1)])\n",
      "/home/rohit/.local/lib/python3.7/site-packages/tensorboard/compat/tensorflow_stub/dtypes.py:550: FutureWarning: Passing (type, 1) or '1type' as a synonym of type is deprecated; in a future version of numpy, it will be understood as (type, (1,)) / '(1,)type'.\n",
      "  np_resource = np.dtype([(\"resource\", np.ubyte, 1)])\n"
     ]
    }
   ],
   "source": [
    "import pandas as pd\n",
    "from gensim import models, corpora\n",
    "from gensim.parsing.preprocessing import preprocess_string, strip_tags, strip_punctuation\n",
    "from gensim.parsing.preprocessing import remove_stopwords, stem_text, strip_non_alphanum, strip_multiple_whitespaces\n",
    "from gensim.parsing.preprocessing import strip_short, strip_numeric\n",
    "from gensim.parsing.preprocessing import STOPWORDS\n",
    "from gensim.models.phrases import Phrases, Phraser\n",
    "import nltk\n",
    "import pandas as pd\n",
    "import numpy as np\n",
    "import tensorflow as tf"
   ]
  },
  {
   "cell_type": "code",
   "execution_count": 2,
   "metadata": {},
   "outputs": [],
   "source": [
    "def build_network():\n",
    "    model = tf.keras.models.Sequential([\n",
    "        tf.keras.Input(shape=(1000)),\n",
    "        tf.keras.layers.Dense(64, activation='relu'),\n",
    "        tf.keras.layers.Dropout(0.1),\n",
    "        tf.keras.layers.Dense(21)\n",
    "    ])\n",
    "    loss_fn = tf.keras.losses.CategoricalCrossentropy(from_logits=True, label_smoothing=0, name='categorical_crossentropy')\n",
    "\n",
    "    model.compile(optimizer=tf.keras.optimizers.Adam(),\n",
    "              loss=loss_fn,\n",
    "              metrics=['accuracy'])\n",
    "    \n",
    "    return model"
   ]
  },
  {
   "cell_type": "markdown",
   "metadata": {},
   "source": [
    "# Load Models"
   ]
  },
  {
   "cell_type": "code",
   "execution_count": null,
   "metadata": {},
   "outputs": [],
   "source": [
    "lda_model = models.ldamulticore.LdaMulticore.load('./lda_model_2015.pkl')\n",
    "bigram_model = Phraser.load('./bigram_2015.pkl')\n",
    "dictionary = corpora.Dictionary.load('./topics_vocab_2015.dict')\n",
    "classifier = build_network()\n",
    "classifier.load_weights('./topics_classifier')"
   ]
  },
  {
   "cell_type": "markdown",
   "metadata": {},
   "source": [
    "# Preprocess"
   ]
  },
  {
   "cell_type": "code",
   "execution_count": 4,
   "metadata": {},
   "outputs": [],
   "source": [
    "topics_index_to_name_map = {\n",
    "    0: 'Agriculture, animals, food and rural affairs',\n",
    "    1: 'Asylum, immigration and nationality',\n",
    "    2: 'Business, industry and consumers',\n",
    "    3: 'Communities and families',\n",
    "    4: 'Crime, civil law, justice and rights',\n",
    "    5: 'Culture, media and sport',\n",
    "    6: 'Defence',\n",
    "    7: 'Economy and finance',\n",
    "    8: 'Education',\n",
    "    9: 'Employment and training',\n",
    "    10: 'Energy and environment',\n",
    "    11: 'European Union',\n",
    "    12: 'Health services and medicine',\n",
    "    13: 'Housing and planning',\n",
    "    14: 'International affairs',\n",
    "    15: 'Parliament, government and politics',\n",
    "    16: 'Science and technology',\n",
    "    17: 'Social security and pensions',\n",
    "    18: 'Social services',\n",
    "    19: 'Transport',\n",
    "    20: 'Others'\n",
    "}\n",
    "topics_name_to_index_map = {y:x for x,y in topics_index_to_name_map.items()}\n",
    "\n",
    "def strip_short2(text):\n",
    "    return strip_short(text, minsize=4)\n",
    "\n",
    "def remove_non_nouns(text):\n",
    "    tokens = nltk.word_tokenize(text)\n",
    "    tags = nltk.pos_tag(tokens)\n",
    "    filter_tokens = [t[0] for t in tags if t[1] == \"NN\" or t[1] == \"VB\"]\n",
    "    return ' '.join(filter_tokens)\n",
    "\n",
    "\n",
    "def remove_custom_stopwords(s):\n",
    "    my_stop_words = STOPWORDS.union(set(['time', 'year', 'number', 'today', 'week', 'month', 'night', 'world', 'home',\n",
    "                                         'place', 'yesterday', 'life', 'wife']))\n",
    "    return \" \".join(w for w in s.split() if w not in my_stop_words)\n",
    "\n",
    "\n",
    "def preprocess_text_for_lda(text):\n",
    "    LDA_FILTERS = [lambda x: x.lower(), strip_multiple_whitespaces, strip_tags, strip_punctuation,\n",
    "                   remove_custom_stopwords, strip_short2, strip_non_alphanum, strip_numeric, remove_non_nouns]\n",
    "    return preprocess_string(text, LDA_FILTERS)\n",
    "\n",
    "\n",
    "def filter_multiple_topics(topic):\n",
    "    if '|' in topic:\n",
    "        return topic.split('|')[0].strip()\n",
    "    return topic\n",
    "\n",
    "def preprocess(topic):\n",
    "    t = filter_multiple_topics(topic)\n",
    "    if t == 'admin':\n",
    "        t = 'Others'\n",
    "        \n",
    "    return t"
   ]
  },
  {
   "cell_type": "markdown",
   "metadata": {},
   "source": [
    "# Load Data"
   ]
  },
  {
   "cell_type": "code",
   "execution_count": 18,
   "metadata": {},
   "outputs": [],
   "source": [
    "df = pd.read_csv('./data/2017_speech.csv')\n",
    "df['topic'] = df.apply(lambda row: preprocess(row['topic']), axis=1)"
   ]
  },
  {
   "cell_type": "code",
   "execution_count": 19,
   "metadata": {},
   "outputs": [
    {
     "data": {
      "text/html": [
       "<div>\n",
       "<style scoped>\n",
       "    .dataframe tbody tr th:only-of-type {\n",
       "        vertical-align: middle;\n",
       "    }\n",
       "\n",
       "    .dataframe tbody tr th {\n",
       "        vertical-align: top;\n",
       "    }\n",
       "\n",
       "    .dataframe thead th {\n",
       "        text-align: right;\n",
       "    }\n",
       "</style>\n",
       "<table border=\"1\" class=\"dataframe\">\n",
       "  <thead>\n",
       "    <tr style=\"text-align: right;\">\n",
       "      <th></th>\n",
       "      <th>date</th>\n",
       "      <th>topic</th>\n",
       "      <th>transcript</th>\n",
       "    </tr>\n",
       "  </thead>\n",
       "  <tbody>\n",
       "    <tr>\n",
       "      <th>0</th>\n",
       "      <td>2017-01-09</td>\n",
       "      <td>Employment and training</td>\n",
       "      <td>2. What recent assessment he has made of trend...</td>\n",
       "    </tr>\n",
       "    <tr>\n",
       "      <th>1</th>\n",
       "      <td>2017-01-09</td>\n",
       "      <td>Employment and training</td>\n",
       "      <td>The Government support those who aspire to be ...</td>\n",
       "    </tr>\n",
       "    <tr>\n",
       "      <th>2</th>\n",
       "      <td>2017-01-09</td>\n",
       "      <td>Employment and training</td>\n",
       "      <td>A Citizens Advice report in August 2015 said t...</td>\n",
       "    </tr>\n",
       "    <tr>\n",
       "      <th>3</th>\n",
       "      <td>2017-01-09</td>\n",
       "      <td>Employment and training</td>\n",
       "      <td>The hon. Gentleman is right that there should ...</td>\n",
       "    </tr>\n",
       "    <tr>\n",
       "      <th>4</th>\n",
       "      <td>2017-01-09</td>\n",
       "      <td>Employment and training</td>\n",
       "      <td>Happy new year, Mr Speaker.  Does my right hon...</td>\n",
       "    </tr>\n",
       "    <tr>\n",
       "      <th>...</th>\n",
       "      <td>...</td>\n",
       "      <td>...</td>\n",
       "      <td>...</td>\n",
       "    </tr>\n",
       "    <tr>\n",
       "      <th>61087</th>\n",
       "      <td>2017-12-21</td>\n",
       "      <td>Transport</td>\n",
       "      <td>I congratulate my hon. Friend on initiating th...</td>\n",
       "    </tr>\n",
       "    <tr>\n",
       "      <th>61088</th>\n",
       "      <td>2017-12-21</td>\n",
       "      <td>Transport</td>\n",
       "      <td>I shall deal with the issue of careless versus...</td>\n",
       "    </tr>\n",
       "    <tr>\n",
       "      <th>61089</th>\n",
       "      <td>2017-12-21</td>\n",
       "      <td>Transport</td>\n",
       "      <td>I am a member of the Justice Committee, and on...</td>\n",
       "    </tr>\n",
       "    <tr>\n",
       "      <th>61090</th>\n",
       "      <td>2017-12-21</td>\n",
       "      <td>Transport</td>\n",
       "      <td>Again, I thank my hon. Friend for her helpful ...</td>\n",
       "    </tr>\n",
       "    <tr>\n",
       "      <th>61091</th>\n",
       "      <td>2017-12-21</td>\n",
       "      <td>Transport</td>\n",
       "      <td>I begin by thanking you for your stewardship o...</td>\n",
       "    </tr>\n",
       "  </tbody>\n",
       "</table>\n",
       "<p>61092 rows × 3 columns</p>\n",
       "</div>"
      ],
      "text/plain": [
       "             date                    topic  \\\n",
       "0      2017-01-09  Employment and training   \n",
       "1      2017-01-09  Employment and training   \n",
       "2      2017-01-09  Employment and training   \n",
       "3      2017-01-09  Employment and training   \n",
       "4      2017-01-09  Employment and training   \n",
       "...           ...                      ...   \n",
       "61087  2017-12-21                Transport   \n",
       "61088  2017-12-21                Transport   \n",
       "61089  2017-12-21                Transport   \n",
       "61090  2017-12-21                Transport   \n",
       "61091  2017-12-21                Transport   \n",
       "\n",
       "                                              transcript  \n",
       "0      2. What recent assessment he has made of trend...  \n",
       "1      The Government support those who aspire to be ...  \n",
       "2      A Citizens Advice report in August 2015 said t...  \n",
       "3      The hon. Gentleman is right that there should ...  \n",
       "4      Happy new year, Mr Speaker.  Does my right hon...  \n",
       "...                                                  ...  \n",
       "61087  I congratulate my hon. Friend on initiating th...  \n",
       "61088  I shall deal with the issue of careless versus...  \n",
       "61089  I am a member of the Justice Committee, and on...  \n",
       "61090  Again, I thank my hon. Friend for her helpful ...  \n",
       "61091  I begin by thanking you for your stewardship o...  \n",
       "\n",
       "[61092 rows x 3 columns]"
      ]
     },
     "execution_count": 19,
     "metadata": {},
     "output_type": "execute_result"
    }
   ],
   "source": [
    "df"
   ]
  },
  {
   "cell_type": "markdown",
   "metadata": {},
   "source": [
    "# Predict"
   ]
  },
  {
   "cell_type": "code",
   "execution_count": 20,
   "metadata": {},
   "outputs": [],
   "source": [
    "def predict(text):\n",
    "    preprocessed_text = preprocess_text_for_lda(text)\n",
    "    bigrams = bigram_model[preprocessed_text]\n",
    "    bow = dictionary.doc2bow(bigrams)\n",
    "    lda_vector = lda_model.get_document_topics(bow, minimum_probability=0.0)\n",
    "    lda_vector = np.array([x[1] for x in lda_vector])\n",
    "    lda_vector = lda_vector.reshape(1, 1000,)\n",
    "    return topics_index_to_name_map[np.argmax(classifier.predict(lda_vector))]\n",
    "    "
   ]
  },
  {
   "cell_type": "code",
   "execution_count": 21,
   "metadata": {},
   "outputs": [
    {
     "name": "stdout",
     "output_type": "stream",
     "text": [
      "Happy new year, Mr Speaker.  Does my right hon. Friend agree that rather than denigrating people who become self-employed, we ought to be celebrating the fact that they are prepared to take a risk that many others are not? Will he make it as easy as possible for them to take on new employees and become employers themselves? \n"
     ]
    }
   ],
   "source": [
    "text = df['transcript'].iloc[4]\n",
    "print(text)"
   ]
  },
  {
   "cell_type": "code",
   "execution_count": 22,
   "metadata": {},
   "outputs": [
    {
     "data": {
      "text/plain": [
       "'Energy and environment'"
      ]
     },
     "execution_count": 22,
     "metadata": {},
     "output_type": "execute_result"
    }
   ],
   "source": [
    "predict(text)"
   ]
  },
  {
   "cell_type": "code",
   "execution_count": 23,
   "metadata": {},
   "outputs": [],
   "source": [
    "df['predicted_topic'] = df.apply(lambda x: predict(x['transcript']), axis=1)"
   ]
  },
  {
   "cell_type": "code",
   "execution_count": 24,
   "metadata": {},
   "outputs": [],
   "source": [
    "df['count'] = 1\n",
    "df[['topic', 'predicted_topic', 'count']].groupby(['topic', 'predicted_topic']).count().to_csv('./predictions.csv')"
   ]
  },
  {
   "cell_type": "code",
   "execution_count": 25,
   "metadata": {},
   "outputs": [
    {
     "data": {
      "text/plain": [
       "'My hon. Friend is entirely correct about the OBR’s projection at that time, but he will have noticed that that came in the context of considerably larger projected employment growth. '"
      ]
     },
     "execution_count": 25,
     "metadata": {},
     "output_type": "execute_result"
    }
   ],
   "source": [
    "df.iloc[99]['transcript']"
   ]
  },
  {
   "cell_type": "code",
   "execution_count": 26,
   "metadata": {},
   "outputs": [
    {
     "data": {
      "text/html": [
       "<div>\n",
       "<style scoped>\n",
       "    .dataframe tbody tr th:only-of-type {\n",
       "        vertical-align: middle;\n",
       "    }\n",
       "\n",
       "    .dataframe tbody tr th {\n",
       "        vertical-align: top;\n",
       "    }\n",
       "\n",
       "    .dataframe thead th {\n",
       "        text-align: right;\n",
       "    }\n",
       "</style>\n",
       "<table border=\"1\" class=\"dataframe\">\n",
       "  <thead>\n",
       "    <tr style=\"text-align: right;\">\n",
       "      <th></th>\n",
       "      <th>date</th>\n",
       "      <th>topic</th>\n",
       "      <th>transcript</th>\n",
       "      <th>predicted_topic</th>\n",
       "      <th>count</th>\n",
       "    </tr>\n",
       "  </thead>\n",
       "  <tbody>\n",
       "    <tr>\n",
       "      <th>0</th>\n",
       "      <td>2017-01-09</td>\n",
       "      <td>Employment and training</td>\n",
       "      <td>2. What recent assessment he has made of trend...</td>\n",
       "      <td>Economy and finance</td>\n",
       "      <td>1</td>\n",
       "    </tr>\n",
       "    <tr>\n",
       "      <th>1</th>\n",
       "      <td>2017-01-09</td>\n",
       "      <td>Employment and training</td>\n",
       "      <td>The Government support those who aspire to be ...</td>\n",
       "      <td>Crime, civil law, justice and rights</td>\n",
       "      <td>1</td>\n",
       "    </tr>\n",
       "    <tr>\n",
       "      <th>2</th>\n",
       "      <td>2017-01-09</td>\n",
       "      <td>Employment and training</td>\n",
       "      <td>A Citizens Advice report in August 2015 said t...</td>\n",
       "      <td>Transport</td>\n",
       "      <td>1</td>\n",
       "    </tr>\n",
       "    <tr>\n",
       "      <th>3</th>\n",
       "      <td>2017-01-09</td>\n",
       "      <td>Employment and training</td>\n",
       "      <td>The hon. Gentleman is right that there should ...</td>\n",
       "      <td>European Union</td>\n",
       "      <td>1</td>\n",
       "    </tr>\n",
       "    <tr>\n",
       "      <th>4</th>\n",
       "      <td>2017-01-09</td>\n",
       "      <td>Employment and training</td>\n",
       "      <td>Happy new year, Mr Speaker.  Does my right hon...</td>\n",
       "      <td>International affairs</td>\n",
       "      <td>1</td>\n",
       "    </tr>\n",
       "    <tr>\n",
       "      <th>...</th>\n",
       "      <td>...</td>\n",
       "      <td>...</td>\n",
       "      <td>...</td>\n",
       "      <td>...</td>\n",
       "      <td>...</td>\n",
       "    </tr>\n",
       "    <tr>\n",
       "      <th>61087</th>\n",
       "      <td>2017-12-21</td>\n",
       "      <td>Transport</td>\n",
       "      <td>I congratulate my hon. Friend on initiating th...</td>\n",
       "      <td>Economy and finance</td>\n",
       "      <td>1</td>\n",
       "    </tr>\n",
       "    <tr>\n",
       "      <th>61088</th>\n",
       "      <td>2017-12-21</td>\n",
       "      <td>Transport</td>\n",
       "      <td>I shall deal with the issue of careless versus...</td>\n",
       "      <td>Others</td>\n",
       "      <td>1</td>\n",
       "    </tr>\n",
       "    <tr>\n",
       "      <th>61089</th>\n",
       "      <td>2017-12-21</td>\n",
       "      <td>Transport</td>\n",
       "      <td>I am a member of the Justice Committee, and on...</td>\n",
       "      <td>Crime, civil law, justice and rights</td>\n",
       "      <td>1</td>\n",
       "    </tr>\n",
       "    <tr>\n",
       "      <th>61090</th>\n",
       "      <td>2017-12-21</td>\n",
       "      <td>Transport</td>\n",
       "      <td>Again, I thank my hon. Friend for her helpful ...</td>\n",
       "      <td>Crime, civil law, justice and rights</td>\n",
       "      <td>1</td>\n",
       "    </tr>\n",
       "    <tr>\n",
       "      <th>61091</th>\n",
       "      <td>2017-12-21</td>\n",
       "      <td>Transport</td>\n",
       "      <td>I begin by thanking you for your stewardship o...</td>\n",
       "      <td>Crime, civil law, justice and rights</td>\n",
       "      <td>1</td>\n",
       "    </tr>\n",
       "  </tbody>\n",
       "</table>\n",
       "<p>61092 rows × 5 columns</p>\n",
       "</div>"
      ],
      "text/plain": [
       "             date                    topic  \\\n",
       "0      2017-01-09  Employment and training   \n",
       "1      2017-01-09  Employment and training   \n",
       "2      2017-01-09  Employment and training   \n",
       "3      2017-01-09  Employment and training   \n",
       "4      2017-01-09  Employment and training   \n",
       "...           ...                      ...   \n",
       "61087  2017-12-21                Transport   \n",
       "61088  2017-12-21                Transport   \n",
       "61089  2017-12-21                Transport   \n",
       "61090  2017-12-21                Transport   \n",
       "61091  2017-12-21                Transport   \n",
       "\n",
       "                                              transcript  \\\n",
       "0      2. What recent assessment he has made of trend...   \n",
       "1      The Government support those who aspire to be ...   \n",
       "2      A Citizens Advice report in August 2015 said t...   \n",
       "3      The hon. Gentleman is right that there should ...   \n",
       "4      Happy new year, Mr Speaker.  Does my right hon...   \n",
       "...                                                  ...   \n",
       "61087  I congratulate my hon. Friend on initiating th...   \n",
       "61088  I shall deal with the issue of careless versus...   \n",
       "61089  I am a member of the Justice Committee, and on...   \n",
       "61090  Again, I thank my hon. Friend for her helpful ...   \n",
       "61091  I begin by thanking you for your stewardship o...   \n",
       "\n",
       "                            predicted_topic  count  \n",
       "0                       Economy and finance      1  \n",
       "1      Crime, civil law, justice and rights      1  \n",
       "2                                 Transport      1  \n",
       "3                            European Union      1  \n",
       "4                     International affairs      1  \n",
       "...                                     ...    ...  \n",
       "61087                   Economy and finance      1  \n",
       "61088                                Others      1  \n",
       "61089  Crime, civil law, justice and rights      1  \n",
       "61090  Crime, civil law, justice and rights      1  \n",
       "61091  Crime, civil law, justice and rights      1  \n",
       "\n",
       "[61092 rows x 5 columns]"
      ]
     },
     "execution_count": 26,
     "metadata": {},
     "output_type": "execute_result"
    }
   ],
   "source": [
    "df"
   ]
  },
  {
   "cell_type": "code",
   "execution_count": 17,
   "metadata": {},
   "outputs": [
    {
     "data": {
      "text/plain": [
       "'I accept everything that the Minister has said; that is logical. What I am concerned about is this: where is a unit such as the Royal Horse Artillery, which needs to be close to central London, going to go? We have had all these facilities built in Woolwich specifically for the Royal Horse Artillery, and now, a few years after producing them, we are going to throw them all away. It does not seem to make sense to me. '"
      ]
     },
     "execution_count": 17,
     "metadata": {},
     "output_type": "execute_result"
    }
   ],
   "source": [
    "df.iloc[64639]['transcript']"
   ]
  },
  {
   "cell_type": "code",
   "execution_count": null,
   "metadata": {},
   "outputs": [],
   "source": []
  }
 ],
 "metadata": {
  "kernelspec": {
   "display_name": "Python [conda env:econ] *",
   "language": "python",
   "name": "conda-env-econ-py"
  },
  "language_info": {
   "codemirror_mode": {
    "name": "ipython",
    "version": 3
   },
   "file_extension": ".py",
   "mimetype": "text/x-python",
   "name": "python",
   "nbconvert_exporter": "python",
   "pygments_lexer": "ipython3",
   "version": "3.7.6"
  }
 },
 "nbformat": 4,
 "nbformat_minor": 4
}
