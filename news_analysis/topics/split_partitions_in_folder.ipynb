{
 "cells": [
  {
   "cell_type": "code",
   "execution_count": 12,
   "metadata": {},
   "outputs": [],
   "source": [
    "import pandas as pd\n",
    "from pathlib import Path\n",
    "import ast\n",
    "import os"
   ]
  },
  {
   "cell_type": "code",
   "execution_count": 13,
   "metadata": {},
   "outputs": [],
   "source": [
    "partition_df = pd.read_csv('./data/topics_pred_on_bert_partitioned_bbc_2016_with_news_classifier_no_Others.csv')\n",
    "partition_df = partition_df.drop(['Unnamed: 0'], axis=1)\n",
    "partition_df['topic'] = partition_df.apply(lambda x: ast.literal_eval(x['topic']), axis=1)\n",
    "partition_df['topic'] = partition_df.apply(lambda x: x['topic'][0][0], axis=1)\n",
    "partition_df['topic'] = partition_df.apply(lambda x: \"_\".join(x.topic.replace(',', '').split(\" \")), axis=1)"
   ]
  },
  {
   "cell_type": "code",
   "execution_count": 14,
   "metadata": {},
   "outputs": [
    {
     "data": {
      "text/html": [
       "<div>\n",
       "<style scoped>\n",
       "    .dataframe tbody tr th:only-of-type {\n",
       "        vertical-align: middle;\n",
       "    }\n",
       "\n",
       "    .dataframe tbody tr th {\n",
       "        vertical-align: top;\n",
       "    }\n",
       "\n",
       "    .dataframe thead th {\n",
       "        text-align: right;\n",
       "    }\n",
       "</style>\n",
       "<table border=\"1\" class=\"dataframe\">\n",
       "  <thead>\n",
       "    <tr style=\"text-align: right;\">\n",
       "      <th></th>\n",
       "      <th>partition_id</th>\n",
       "      <th>date</th>\n",
       "      <th>Transcript</th>\n",
       "      <th>topic</th>\n",
       "    </tr>\n",
       "  </thead>\n",
       "  <tbody>\n",
       "    <tr>\n",
       "      <th>0</th>\n",
       "      <td>0</td>\n",
       "      <td>4-jun-2016</td>\n",
       "      <td>we would have seen during this weekend and the...</td>\n",
       "      <td>Culture_media_and_sport</td>\n",
       "    </tr>\n",
       "    <tr>\n",
       "      <th>1</th>\n",
       "      <td>0</td>\n",
       "      <td>4-jun-2016</td>\n",
       "      <td>manage that and make sure we stay within the g...</td>\n",
       "      <td>Culture_media_and_sport</td>\n",
       "    </tr>\n",
       "    <tr>\n",
       "      <th>2</th>\n",
       "      <td>0</td>\n",
       "      <td>4-jun-2016</td>\n",
       "      <td>We start at the desk where you have the three ...</td>\n",
       "      <td>Culture_media_and_sport</td>\n",
       "    </tr>\n",
       "    <tr>\n",
       "      <th>3</th>\n",
       "      <td>0</td>\n",
       "      <td>4-jun-2016</td>\n",
       "      <td>It helps to correct this atmosphere which is v...</td>\n",
       "      <td>Culture_media_and_sport</td>\n",
       "    </tr>\n",
       "    <tr>\n",
       "      <th>4</th>\n",
       "      <td>0</td>\n",
       "      <td>4-jun-2016</td>\n",
       "      <td>Twitter’s live streaming video service announc...</td>\n",
       "      <td>Culture_media_and_sport</td>\n",
       "    </tr>\n",
       "    <tr>\n",
       "      <th>...</th>\n",
       "      <td>...</td>\n",
       "      <td>...</td>\n",
       "      <td>...</td>\n",
       "      <td>...</td>\n",
       "    </tr>\n",
       "    <tr>\n",
       "      <th>102489</th>\n",
       "      <td>1506</td>\n",
       "      <td>30-dec-2016</td>\n",
       "      <td>The former Bishop of Liverpool, JamesJones, ch...</td>\n",
       "      <td>Parliament_government_and_politics</td>\n",
       "    </tr>\n",
       "    <tr>\n",
       "      <th>102490</th>\n",
       "      <td>1506</td>\n",
       "      <td>30-dec-2016</td>\n",
       "      <td>Southern rail passengers have been warned that...</td>\n",
       "      <td>Transport</td>\n",
       "    </tr>\n",
       "    <tr>\n",
       "      <th>102491</th>\n",
       "      <td>1506</td>\n",
       "      <td>30-dec-2016</td>\n",
       "      <td>So on the eve of the new year, | make this cha...</td>\n",
       "      <td>Culture_media_and_sport</td>\n",
       "    </tr>\n",
       "    <tr>\n",
       "      <th>102492</th>\n",
       "      <td>1506</td>\n",
       "      <td>30-dec-2016</td>\n",
       "      <td>It too says it’s willing to talk but, once aga...</td>\n",
       "      <td>Transport</td>\n",
       "    </tr>\n",
       "    <tr>\n",
       "      <th>102493</th>\n",
       "      <td>1506</td>\n",
       "      <td>30-dec-2016</td>\n",
       "      <td>A new year perhaps, but the same old problems ...</td>\n",
       "      <td>Culture_media_and_sport</td>\n",
       "    </tr>\n",
       "  </tbody>\n",
       "</table>\n",
       "<p>102494 rows × 4 columns</p>\n",
       "</div>"
      ],
      "text/plain": [
       "        partition_id         date  \\\n",
       "0                  0   4-jun-2016   \n",
       "1                  0   4-jun-2016   \n",
       "2                  0   4-jun-2016   \n",
       "3                  0   4-jun-2016   \n",
       "4                  0   4-jun-2016   \n",
       "...              ...          ...   \n",
       "102489          1506  30-dec-2016   \n",
       "102490          1506  30-dec-2016   \n",
       "102491          1506  30-dec-2016   \n",
       "102492          1506  30-dec-2016   \n",
       "102493          1506  30-dec-2016   \n",
       "\n",
       "                                               Transcript  \\\n",
       "0       we would have seen during this weekend and the...   \n",
       "1       manage that and make sure we stay within the g...   \n",
       "2       We start at the desk where you have the three ...   \n",
       "3       It helps to correct this atmosphere which is v...   \n",
       "4       Twitter’s live streaming video service announc...   \n",
       "...                                                   ...   \n",
       "102489  The former Bishop of Liverpool, JamesJones, ch...   \n",
       "102490  Southern rail passengers have been warned that...   \n",
       "102491  So on the eve of the new year, | make this cha...   \n",
       "102492  It too says it’s willing to talk but, once aga...   \n",
       "102493  A new year perhaps, but the same old problems ...   \n",
       "\n",
       "                                     topic  \n",
       "0                  Culture_media_and_sport  \n",
       "1                  Culture_media_and_sport  \n",
       "2                  Culture_media_and_sport  \n",
       "3                  Culture_media_and_sport  \n",
       "4                  Culture_media_and_sport  \n",
       "...                                    ...  \n",
       "102489  Parliament_government_and_politics  \n",
       "102490                           Transport  \n",
       "102491             Culture_media_and_sport  \n",
       "102492                           Transport  \n",
       "102493             Culture_media_and_sport  \n",
       "\n",
       "[102494 rows x 4 columns]"
      ]
     },
     "execution_count": 14,
     "metadata": {},
     "output_type": "execute_result"
    }
   ],
   "source": [
    "partition_df.columns=['partition_id', 'date', 'Transcript', 'topic']\n",
    "partition_df"
   ]
  },
  {
   "cell_type": "code",
   "execution_count": 15,
   "metadata": {},
   "outputs": [],
   "source": [
    "topics = partition_df.topic.unique()"
   ]
  },
  {
   "cell_type": "code",
   "execution_count": 16,
   "metadata": {},
   "outputs": [
    {
     "data": {
      "text/plain": [
       "array(['Culture_media_and_sport', 'Transport',\n",
       "       'Parliament_government_and_politics', 'International_affairs',\n",
       "       'Defence', 'Economy_and_finance', 'Health_services_and_medicine',\n",
       "       'Crime_civil_law_justice_and_rights', 'European_Union',\n",
       "       'Business_industry_and_consumers',\n",
       "       'Agriculture_animals_food_and_rural_affairs',\n",
       "       'Energy_and_environment', 'Education', 'Communities_and_families',\n",
       "       'Employment_and_training'], dtype=object)"
      ]
     },
     "execution_count": 16,
     "metadata": {},
     "output_type": "execute_result"
    }
   ],
   "source": [
    "topics"
   ]
  },
  {
   "cell_type": "code",
   "execution_count": 18,
   "metadata": {},
   "outputs": [],
   "source": [
    "months = ['jan', 'feb', 'mar', 'apr', 'may', 'jun', 'jul', 'aug', 'sep', 'oct', 'nov', 'dec']\n",
    "for topic in topics:\n",
    "    path = '54_{}/2016/transcripts'.format(topic)\n",
    "    Path(path).mkdir(parents=True, exist_ok=True)\n",
    "    partition_for_topic = partition_df[partition_df.topic == topic]\n",
    "    \n",
    "    for month in months:\n",
    "        partition_for_topic_and_month = partition_for_topic[partition_for_topic.date.str.contains(month)]\n",
    "        partition_for_topic_and_month.to_csv(os.path.join(path, 'BBC+News {}-2016 54_{}.csv'.format(month, topic)))\n",
    "    "
   ]
  },
  {
   "cell_type": "code",
   "execution_count": null,
   "metadata": {},
   "outputs": [],
   "source": []
  },
  {
   "cell_type": "code",
   "execution_count": null,
   "metadata": {},
   "outputs": [],
   "source": []
  }
 ],
 "metadata": {
  "kernelspec": {
   "display_name": "Python [conda env:econ] *",
   "language": "python",
   "name": "conda-env-econ-py"
  },
  "language_info": {
   "codemirror_mode": {
    "name": "ipython",
    "version": 3
   },
   "file_extension": ".py",
   "mimetype": "text/x-python",
   "name": "python",
   "nbconvert_exporter": "python",
   "pygments_lexer": "ipython3",
   "version": "3.7.6"
  }
 },
 "nbformat": 4,
 "nbformat_minor": 4
}
