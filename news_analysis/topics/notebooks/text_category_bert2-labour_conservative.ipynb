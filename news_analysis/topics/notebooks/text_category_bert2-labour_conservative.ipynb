{
 "cells": [
  {
   "cell_type": "code",
   "execution_count": 21,
   "metadata": {},
   "outputs": [],
   "source": [
    "from simpletransformers.classification import ClassificationModel, ClassificationArgs"
   ]
  },
  {
   "cell_type": "code",
   "execution_count": 3,
   "metadata": {},
   "outputs": [],
   "source": [
    "import pandas as pd\n",
    "import logging\n",
    "from sklearn.model_selection import train_test_split\n",
    "from sklearn.utils import shuffle"
   ]
  },
  {
   "cell_type": "code",
   "execution_count": 23,
   "metadata": {},
   "outputs": [],
   "source": [
    "logging.basicConfig(level=logging.INFO)\n",
    "transformers_logger = logging.getLogger(\"transformers\")\n",
    "transformers_logger.setLevel(logging.WARNING)"
   ]
  },
  {
   "cell_type": "code",
   "execution_count": 24,
   "metadata": {},
   "outputs": [
    {
     "data": {
      "text/html": [
       "<div>\n",
       "<style scoped>\n",
       "    .dataframe tbody tr th:only-of-type {\n",
       "        vertical-align: middle;\n",
       "    }\n",
       "\n",
       "    .dataframe tbody tr th {\n",
       "        vertical-align: top;\n",
       "    }\n",
       "\n",
       "    .dataframe thead th {\n",
       "        text-align: right;\n",
       "    }\n",
       "</style>\n",
       "<table border=\"1\" class=\"dataframe\">\n",
       "  <thead>\n",
       "    <tr style=\"text-align: right;\">\n",
       "      <th></th>\n",
       "      <th>Constituency ID</th>\n",
       "      <th>full name</th>\n",
       "      <th>PANO</th>\n",
       "      <th>Constituency Name</th>\n",
       "      <th>Party abbreviation</th>\n",
       "      <th>conShare</th>\n",
       "      <th>conShare2</th>\n",
       "      <th>conShare3</th>\n",
       "      <th>bill161</th>\n",
       "      <th>leave</th>\n",
       "      <th>party_old</th>\n",
       "      <th>ref</th>\n",
       "      <th>ref_dummy</th>\n",
       "      <th>party</th>\n",
       "      <th>old_party</th>\n",
       "    </tr>\n",
       "  </thead>\n",
       "  <tbody>\n",
       "    <tr>\n",
       "      <th>0</th>\n",
       "      <td>E14000530</td>\n",
       "      <td>Gerald Howarth</td>\n",
       "      <td>7</td>\n",
       "      <td>Aldershot</td>\n",
       "      <td>Con</td>\n",
       "      <td>50.59</td>\n",
       "      <td>73.403947</td>\n",
       "      <td>73.403947</td>\n",
       "      <td>1.0</td>\n",
       "      <td>1.0</td>\n",
       "      <td>1.0</td>\n",
       "      <td>0.578978</td>\n",
       "      <td>1</td>\n",
       "      <td>1.0</td>\n",
       "      <td>1.0</td>\n",
       "    </tr>\n",
       "    <tr>\n",
       "      <th>1</th>\n",
       "      <td>E14000531</td>\n",
       "      <td>Wendy Morton</td>\n",
       "      <td>8</td>\n",
       "      <td>Aldridge-Brownhills</td>\n",
       "      <td>Con</td>\n",
       "      <td>52.05</td>\n",
       "      <td>69.940876</td>\n",
       "      <td>69.940876</td>\n",
       "      <td>1.0</td>\n",
       "      <td>0.0</td>\n",
       "      <td>1.0</td>\n",
       "      <td>0.677963</td>\n",
       "      <td>1</td>\n",
       "      <td>0.0</td>\n",
       "      <td>0.0</td>\n",
       "    </tr>\n",
       "    <tr>\n",
       "      <th>2</th>\n",
       "      <td>E14000532</td>\n",
       "      <td>Graham Brady</td>\n",
       "      <td>9</td>\n",
       "      <td>Altrincham and Sale West</td>\n",
       "      <td>Con</td>\n",
       "      <td>52.99</td>\n",
       "      <td>66.503514</td>\n",
       "      <td>66.503514</td>\n",
       "      <td>1.0</td>\n",
       "      <td>1.0</td>\n",
       "      <td>1.0</td>\n",
       "      <td>0.385878</td>\n",
       "      <td>0</td>\n",
       "      <td>1.0</td>\n",
       "      <td>1.0</td>\n",
       "    </tr>\n",
       "    <tr>\n",
       "      <th>3</th>\n",
       "      <td>E14000533</td>\n",
       "      <td>Nigel Mills</td>\n",
       "      <td>11</td>\n",
       "      <td>Amber Valley</td>\n",
       "      <td>Con</td>\n",
       "      <td>43.98</td>\n",
       "      <td>55.840528</td>\n",
       "      <td>55.840528</td>\n",
       "      <td>1.0</td>\n",
       "      <td>1.0</td>\n",
       "      <td>1.0</td>\n",
       "      <td>0.652991</td>\n",
       "      <td>1</td>\n",
       "      <td>1.0</td>\n",
       "      <td>1.0</td>\n",
       "    </tr>\n",
       "    <tr>\n",
       "      <th>4</th>\n",
       "      <td>E14000534</td>\n",
       "      <td>Nick Herbert</td>\n",
       "      <td>18</td>\n",
       "      <td>Arundel and South Downs</td>\n",
       "      <td>Con</td>\n",
       "      <td>60.79</td>\n",
       "      <td>84.442284</td>\n",
       "      <td>84.442284</td>\n",
       "      <td>NaN</td>\n",
       "      <td>0.0</td>\n",
       "      <td>1.0</td>\n",
       "      <td>0.497011</td>\n",
       "      <td>0</td>\n",
       "      <td>0.0</td>\n",
       "      <td>0.0</td>\n",
       "    </tr>\n",
       "    <tr>\n",
       "      <th>...</th>\n",
       "      <td>...</td>\n",
       "      <td>...</td>\n",
       "      <td>...</td>\n",
       "      <td>...</td>\n",
       "      <td>...</td>\n",
       "      <td>...</td>\n",
       "      <td>...</td>\n",
       "      <td>...</td>\n",
       "      <td>...</td>\n",
       "      <td>...</td>\n",
       "      <td>...</td>\n",
       "      <td>...</td>\n",
       "      <td>...</td>\n",
       "      <td>...</td>\n",
       "      <td>...</td>\n",
       "    </tr>\n",
       "    <tr>\n",
       "      <th>655</th>\n",
       "      <td>W07000076</td>\n",
       "      <td>Wayne David</td>\n",
       "      <td>114</td>\n",
       "      <td>Caerphilly</td>\n",
       "      <td>Lab</td>\n",
       "      <td>16.59</td>\n",
       "      <td>27.223499</td>\n",
       "      <td>27.223499</td>\n",
       "      <td>1.0</td>\n",
       "      <td>0.0</td>\n",
       "      <td>0.0</td>\n",
       "      <td>0.551360</td>\n",
       "      <td>1</td>\n",
       "      <td>0.0</td>\n",
       "      <td>NaN</td>\n",
       "    </tr>\n",
       "    <tr>\n",
       "      <th>656</th>\n",
       "      <td>W07000077</td>\n",
       "      <td>Chris Evans</td>\n",
       "      <td>336</td>\n",
       "      <td>Islwyn</td>\n",
       "      <td>Lab</td>\n",
       "      <td>15.16</td>\n",
       "      <td>23.639482</td>\n",
       "      <td>23.639482</td>\n",
       "      <td>1.0</td>\n",
       "      <td>0.0</td>\n",
       "      <td>0.0</td>\n",
       "      <td>0.589399</td>\n",
       "      <td>1</td>\n",
       "      <td>0.0</td>\n",
       "      <td>NaN</td>\n",
       "    </tr>\n",
       "    <tr>\n",
       "      <th>657</th>\n",
       "      <td>W07000078</td>\n",
       "      <td>Alun Cairns</td>\n",
       "      <td>589</td>\n",
       "      <td>Vale Of Glamorgan</td>\n",
       "      <td>Con</td>\n",
       "      <td>46.02</td>\n",
       "      <td>58.527280</td>\n",
       "      <td>58.527280</td>\n",
       "      <td>1.0</td>\n",
       "      <td>0.0</td>\n",
       "      <td>1.0</td>\n",
       "      <td>0.525507</td>\n",
       "      <td>1</td>\n",
       "      <td>0.0</td>\n",
       "      <td>0.0</td>\n",
       "    </tr>\n",
       "    <tr>\n",
       "      <th>658</th>\n",
       "      <td>W07000079</td>\n",
       "      <td>Kevin Brennan</td>\n",
       "      <td>129</td>\n",
       "      <td>Cardiff West</td>\n",
       "      <td>Lab</td>\n",
       "      <td>25.15</td>\n",
       "      <td>38.221884</td>\n",
       "      <td>38.221884</td>\n",
       "      <td>0.0</td>\n",
       "      <td>0.0</td>\n",
       "      <td>0.0</td>\n",
       "      <td>0.438226</td>\n",
       "      <td>0</td>\n",
       "      <td>0.0</td>\n",
       "      <td>NaN</td>\n",
       "    </tr>\n",
       "    <tr>\n",
       "      <th>659</th>\n",
       "      <td>W07000080</td>\n",
       "      <td>Stephen Doughty</td>\n",
       "      <td>128</td>\n",
       "      <td>Cardiff South and Penarth</td>\n",
       "      <td>Lab</td>\n",
       "      <td>26.81</td>\n",
       "      <td>38.525650</td>\n",
       "      <td>38.525650</td>\n",
       "      <td>0.0</td>\n",
       "      <td>0.0</td>\n",
       "      <td>0.0</td>\n",
       "      <td>0.428172</td>\n",
       "      <td>0</td>\n",
       "      <td>0.0</td>\n",
       "      <td>NaN</td>\n",
       "    </tr>\n",
       "  </tbody>\n",
       "</table>\n",
       "<p>660 rows × 15 columns</p>\n",
       "</div>"
      ],
      "text/plain": [
       "    Constituency ID        full name  PANO          Constituency Name  \\\n",
       "0         E14000530   Gerald Howarth     7                  Aldershot   \n",
       "1         E14000531     Wendy Morton     8        Aldridge-Brownhills   \n",
       "2         E14000532     Graham Brady     9   Altrincham and Sale West   \n",
       "3         E14000533      Nigel Mills    11               Amber Valley   \n",
       "4         E14000534     Nick Herbert    18    Arundel and South Downs   \n",
       "..              ...              ...   ...                        ...   \n",
       "655       W07000076      Wayne David   114                 Caerphilly   \n",
       "656       W07000077      Chris Evans   336                     Islwyn   \n",
       "657       W07000078      Alun Cairns   589          Vale Of Glamorgan   \n",
       "658       W07000079    Kevin Brennan   129               Cardiff West   \n",
       "659       W07000080  Stephen Doughty   128  Cardiff South and Penarth   \n",
       "\n",
       "    Party abbreviation  conShare  conShare2  conShare3  bill161  leave  \\\n",
       "0                  Con     50.59  73.403947  73.403947      1.0    1.0   \n",
       "1                  Con     52.05  69.940876  69.940876      1.0    0.0   \n",
       "2                  Con     52.99  66.503514  66.503514      1.0    1.0   \n",
       "3                  Con     43.98  55.840528  55.840528      1.0    1.0   \n",
       "4                  Con     60.79  84.442284  84.442284      NaN    0.0   \n",
       "..                 ...       ...        ...        ...      ...    ...   \n",
       "655                Lab     16.59  27.223499  27.223499      1.0    0.0   \n",
       "656                Lab     15.16  23.639482  23.639482      1.0    0.0   \n",
       "657                Con     46.02  58.527280  58.527280      1.0    0.0   \n",
       "658                Lab     25.15  38.221884  38.221884      0.0    0.0   \n",
       "659                Lab     26.81  38.525650  38.525650      0.0    0.0   \n",
       "\n",
       "     party_old       ref  ref_dummy  party  old_party  \n",
       "0          1.0  0.578978          1    1.0        1.0  \n",
       "1          1.0  0.677963          1    0.0        0.0  \n",
       "2          1.0  0.385878          0    1.0        1.0  \n",
       "3          1.0  0.652991          1    1.0        1.0  \n",
       "4          1.0  0.497011          0    0.0        0.0  \n",
       "..         ...       ...        ...    ...        ...  \n",
       "655        0.0  0.551360          1    0.0        NaN  \n",
       "656        0.0  0.589399          1    0.0        NaN  \n",
       "657        1.0  0.525507          1    0.0        0.0  \n",
       "658        0.0  0.438226          0    0.0        NaN  \n",
       "659        0.0  0.428172          0    0.0        NaN  \n",
       "\n",
       "[660 rows x 15 columns]"
      ]
     },
     "execution_count": 24,
     "metadata": {},
     "output_type": "execute_result"
    }
   ],
   "source": [
    "vote_file = pd.read_csv('brexit_full_updated3.csv')\n",
    "vote_file"
   ]
  },
  {
   "cell_type": "code",
   "execution_count": 25,
   "metadata": {},
   "outputs": [],
   "source": [
    "def preprocess(topic):\n",
    "    ret = []\n",
    "    topic = topic.strip()\n",
    "    \n",
    "    if '|' in topic:\n",
    "        topics = topic.split('|')\n",
    "        t = topics[0]\n",
    "        t = t.strip()\n",
    "        return t\n",
    "        \n",
    "    return topic"
   ]
  },
  {
   "cell_type": "code",
   "execution_count": 26,
   "metadata": {},
   "outputs": [],
   "source": [
    "politicians_party = {}\n",
    "politicians_ref = {}\n",
    "politicians = vote_file['full name'].unique()\n",
    "for index, row in vote_file.iterrows():\n",
    "    politicians_party[row['full name']] = row['party']\n",
    "    politicians_ref[row['full name']] = row['ref_dummy']"
   ]
  },
  {
   "cell_type": "code",
   "execution_count": 57,
   "metadata": {},
   "outputs": [
    {
     "data": {
      "text/html": [
       "<div>\n",
       "<style scoped>\n",
       "    .dataframe tbody tr th:only-of-type {\n",
       "        vertical-align: middle;\n",
       "    }\n",
       "\n",
       "    .dataframe tbody tr th {\n",
       "        vertical-align: top;\n",
       "    }\n",
       "\n",
       "    .dataframe thead th {\n",
       "        text-align: right;\n",
       "    }\n",
       "</style>\n",
       "<table border=\"1\" class=\"dataframe\">\n",
       "  <thead>\n",
       "    <tr style=\"text-align: right;\">\n",
       "      <th></th>\n",
       "      <th>date</th>\n",
       "      <th>speaker</th>\n",
       "      <th>name</th>\n",
       "      <th>Party</th>\n",
       "      <th>Topic</th>\n",
       "      <th>transcript</th>\n",
       "      <th>party2</th>\n",
       "      <th>ref_dummy</th>\n",
       "    </tr>\n",
       "  </thead>\n",
       "  <tbody>\n",
       "    <tr>\n",
       "      <th>19224</th>\n",
       "      <td>2015-06-02</td>\n",
       "      <td>Mrs Emma Lewell-Buck (South Shields) (Lab)</td>\n",
       "      <td>Emma Lewell-Buck</td>\n",
       "      <td>Labour</td>\n",
       "      <td>Health services and medicine</td>\n",
       "      <td>1.  What assessment he has made of recent tren...</td>\n",
       "      <td>0.0</td>\n",
       "      <td>1</td>\n",
       "    </tr>\n",
       "    <tr>\n",
       "      <th>19225</th>\n",
       "      <td>2015-06-02</td>\n",
       "      <td>The Secretary of State for Health (Mr Jeremy H...</td>\n",
       "      <td>Jeremy Hunt</td>\n",
       "      <td>Conservative</td>\n",
       "      <td>Health services and medicine</td>\n",
       "      <td>As you said, Mr Speaker, we shall have those t...</td>\n",
       "      <td>0.0</td>\n",
       "      <td>0</td>\n",
       "    </tr>\n",
       "    <tr>\n",
       "      <th>19226</th>\n",
       "      <td>2015-06-02</td>\n",
       "      <td>Mrs Lewell-Buck</td>\n",
       "      <td>Emma Lewell-Buck</td>\n",
       "      <td>Labour</td>\n",
       "      <td>Health services and medicine</td>\n",
       "      <td>I echo the comments made about the late Member...</td>\n",
       "      <td>0.0</td>\n",
       "      <td>1</td>\n",
       "    </tr>\n",
       "    <tr>\n",
       "      <th>19227</th>\n",
       "      <td>2015-06-02</td>\n",
       "      <td>Mr Hunt</td>\n",
       "      <td>Jeremy Hunt</td>\n",
       "      <td>Conservative</td>\n",
       "      <td>Health services and medicine</td>\n",
       "      <td>I take responsibility for everything that happ...</td>\n",
       "      <td>0.0</td>\n",
       "      <td>0</td>\n",
       "    </tr>\n",
       "    <tr>\n",
       "      <th>19228</th>\n",
       "      <td>2015-06-02</td>\n",
       "      <td>Mr James Gray (North Wiltshire) (Con)</td>\n",
       "      <td>James Gray</td>\n",
       "      <td>Conservative</td>\n",
       "      <td>Health services and medicine</td>\n",
       "      <td>I stood against Charles Kennedy in 1992 in Ros...</td>\n",
       "      <td>1.0</td>\n",
       "      <td>1</td>\n",
       "    </tr>\n",
       "  </tbody>\n",
       "</table>\n",
       "</div>"
      ],
      "text/plain": [
       "            date                                            speaker  \\\n",
       "19224 2015-06-02         Mrs Emma Lewell-Buck (South Shields) (Lab)   \n",
       "19225 2015-06-02  The Secretary of State for Health (Mr Jeremy H...   \n",
       "19226 2015-06-02                                    Mrs Lewell-Buck   \n",
       "19227 2015-06-02                                            Mr Hunt   \n",
       "19228 2015-06-02              Mr James Gray (North Wiltshire) (Con)   \n",
       "\n",
       "                   name         Party                         Topic  \\\n",
       "19224  Emma Lewell-Buck        Labour  Health services and medicine   \n",
       "19225       Jeremy Hunt  Conservative  Health services and medicine   \n",
       "19226  Emma Lewell-Buck        Labour  Health services and medicine   \n",
       "19227       Jeremy Hunt  Conservative  Health services and medicine   \n",
       "19228        James Gray  Conservative  Health services and medicine   \n",
       "\n",
       "                                              transcript  party2  ref_dummy  \n",
       "19224  1.  What assessment he has made of recent tren...     0.0          1  \n",
       "19225  As you said, Mr Speaker, we shall have those t...     0.0          0  \n",
       "19226  I echo the comments made about the late Member...     0.0          1  \n",
       "19227  I take responsibility for everything that happ...     0.0          0  \n",
       "19228  I stood against Charles Kennedy in 1992 in Ros...     1.0          1  "
      ]
     },
     "execution_count": 57,
     "metadata": {},
     "output_type": "execute_result"
    }
   ],
   "source": [
    "df1 = pd.read_csv('2015_commons.csv')\n",
    "df2 = pd.read_csv('2016_commons.csv')\n",
    "df = pd.concat([df1, df2])\n",
    "df = df.drop(['Government'], axis=1)\n",
    "df = df.loc[(df['Party'] == 'Conservative') | (df['Party'] == 'Labour')]\n",
    "df = df.loc[df['Name'].isin(politicians)]\n",
    "df['Date'] = pd.to_datetime(df['Date'])\n",
    "mask = (df['Date'] > '2015-6-1') & (df['Date'] <= '2016-6-30')\n",
    "df = df.loc[mask]\n",
    "df['party2'] = df['Name'].apply(lambda x: politicians_party[x])\n",
    "df['ref_dummy'] = df['Name'].apply(lambda x: politicians_ref[x])\n",
    "df['Topic'] = df['Topic'].apply(lambda x: preprocess(x))\n",
    "# df = df.loc[df['Topic'] == 'Parliament, government and politics']\n",
    "# df = df.loc[df['Topic'] == 'European Union']\n",
    "# df = df.loc[df['Topic'] == 'Crime, civil law, justice and rights']\n",
    "df = df.loc[df['Topic'] == 'Health services and medicine']\n",
    "# df = df.loc[df['Topic'] == 'International affairs']\n",
    "cols = df.columns\n",
    "cols = ['date', 'speaker', 'name', 'Party', 'Topic', 'transcript', 'party2', 'ref_dummy']\n",
    "df.columns = cols\n",
    "df.head()"
   ]
  },
  {
   "cell_type": "code",
   "execution_count": 58,
   "metadata": {},
   "outputs": [],
   "source": [
    "X = []\n",
    "\n",
    "for index, row in df.iterrows():\n",
    "    party = row['Party']\n",
    "    if party == 'Conservative':\n",
    "        X.append([row['transcript'], 0])\n",
    "    if party == 'Labour':\n",
    "        X.append([row['transcript'], 1])\n",
    "        \n",
    "train_df = pd.DataFrame(X, columns=['text', 'labels'])"
   ]
  },
  {
   "cell_type": "code",
   "execution_count": 59,
   "metadata": {},
   "outputs": [
    {
     "name": "stderr",
     "output_type": "stream",
     "text": [
      "Some weights of the model checkpoint at distilbert-base-uncased were not used when initializing DistilBertForSequenceClassification: ['vocab_transform.weight', 'vocab_transform.bias', 'vocab_layer_norm.weight', 'vocab_layer_norm.bias', 'vocab_projector.weight', 'vocab_projector.bias']\n",
      "- This IS expected if you are initializing DistilBertForSequenceClassification from the checkpoint of a model trained on another task or with another architecture (e.g. initializing a BertForSequenceClassification model from a BertForPreTraining model).\n",
      "- This IS NOT expected if you are initializing DistilBertForSequenceClassification from the checkpoint of a model that you expect to be exactly identical (initializing a BertForSequenceClassification model from a BertForSequenceClassification model).\n",
      "Some weights of DistilBertForSequenceClassification were not initialized from the model checkpoint at distilbert-base-uncased and are newly initialized: ['pre_classifier.weight', 'pre_classifier.bias', 'classifier.weight', 'classifier.bias']\n",
      "You should probably TRAIN this model on a down-stream task to be able to use it for predictions and inference.\n"
     ]
    }
   ],
   "source": [
    "model_args = ClassificationArgs(sliding_window=True, overwrite_output_dir=True)\n",
    "\n",
    "model = ClassificationModel(\n",
    "    \"distilbert\", \"distilbert-base-uncased\", use_cuda=False, args=model_args\n",
    ")"
   ]
  },
  {
   "cell_type": "code",
   "execution_count": 60,
   "metadata": {},
   "outputs": [
    {
     "data": {
      "text/plain": [
       "<simpletransformers.classification.classification_model.ClassificationModel at 0x7f43c0d155d0>"
      ]
     },
     "execution_count": 60,
     "metadata": {},
     "output_type": "execute_result"
    }
   ],
   "source": [
    "model"
   ]
  },
  {
   "cell_type": "code",
   "execution_count": 61,
   "metadata": {},
   "outputs": [
    {
     "name": "stderr",
     "output_type": "stream",
     "text": [
      "INFO:simpletransformers.classification.classification_model: Converting to features started. Cache is not used.\n",
      "INFO:simpletransformers.classification.classification_model: Sliding window enabled\n"
     ]
    },
    {
     "data": {
      "application/vnd.jupyter.widget-view+json": {
       "model_id": "c0280c8e78654d868c45992d7d76395c",
       "version_major": 2,
       "version_minor": 0
      },
      "text/plain": [
       "  0%|          | 0/4024 [00:00<?, ?it/s]"
      ]
     },
     "metadata": {},
     "output_type": "display_data"
    },
    {
     "name": "stderr",
     "output_type": "stream",
     "text": [
      "Token indices sequence length is longer than the specified maximum sequence length for this model (551 > 512). Running this sequence through the model will result in indexing errors\n",
      "Token indices sequence length is longer than the specified maximum sequence length for this model (617 > 512). Running this sequence through the model will result in indexing errors\n",
      "Token indices sequence length is longer than the specified maximum sequence length for this model (1397 > 512). Running this sequence through the model will result in indexing errors\n",
      "Token indices sequence length is longer than the specified maximum sequence length for this model (1048 > 512). Running this sequence through the model will result in indexing errors\n",
      "Token indices sequence length is longer than the specified maximum sequence length for this model (692 > 512). Running this sequence through the model will result in indexing errors\n",
      "Token indices sequence length is longer than the specified maximum sequence length for this model (771 > 512). Running this sequence through the model will result in indexing errors\n",
      "Token indices sequence length is longer than the specified maximum sequence length for this model (2707 > 512). Running this sequence through the model will result in indexing errors\n",
      "Token indices sequence length is longer than the specified maximum sequence length for this model (1379 > 512). Running this sequence through the model will result in indexing errors\n",
      "Token indices sequence length is longer than the specified maximum sequence length for this model (1554 > 512). Running this sequence through the model will result in indexing errors\n",
      "INFO:simpletransformers.classification.classification_model: 9801 features created from 4024 samples.\n"
     ]
    },
    {
     "data": {
      "application/vnd.jupyter.widget-view+json": {
       "model_id": "51a2ce4070ac4b8d9b3199d5c24acd67",
       "version_major": 2,
       "version_minor": 0
      },
      "text/plain": [
       "Epoch:   0%|          | 0/1 [00:00<?, ?it/s]"
      ]
     },
     "metadata": {},
     "output_type": "display_data"
    },
    {
     "data": {
      "application/vnd.jupyter.widget-view+json": {
       "model_id": "2dcbfa594d314673be8b39a8d32c5b38",
       "version_major": 2,
       "version_minor": 0
      },
      "text/plain": [
       "Running Epoch 0 of 1:   0%|          | 0/1226 [00:00<?, ?it/s]"
      ]
     },
     "metadata": {},
     "output_type": "display_data"
    },
    {
     "name": "stderr",
     "output_type": "stream",
     "text": [
      "/home/ubuntu/anaconda3/envs/econ/lib/python3.7/site-packages/torch/optim/lr_scheduler.py:200: UserWarning: Please also save or load the state of the optimzer when saving or loading the scheduler.\n",
      "  warnings.warn(SAVE_STATE_WARNING, UserWarning)\n",
      "INFO:simpletransformers.classification.classification_model: Training of distilbert model complete. Saved to outputs/.\n"
     ]
    },
    {
     "data": {
      "text/plain": [
       "(1226, 0.4709489710483135)"
      ]
     },
     "execution_count": 61,
     "metadata": {},
     "output_type": "execute_result"
    }
   ],
   "source": [
    "model.train_model(train_df)"
   ]
  },
  {
   "cell_type": "code",
   "execution_count": 1,
   "metadata": {},
   "outputs": [
    {
     "ename": "NameError",
     "evalue": "name 'pd' is not defined",
     "output_type": "error",
     "traceback": [
      "\u001b[0;31m---------------------------------------------------------------------------\u001b[0m",
      "\u001b[0;31mNameError\u001b[0m                                 Traceback (most recent call last)",
      "\u001b[0;32m<ipython-input-1-1a0630882e1d>\u001b[0m in \u001b[0;36m<module>\u001b[0;34m\u001b[0m\n\u001b[0;32m----> 1\u001b[0;31m \u001b[0mtest_df\u001b[0m \u001b[0;34m=\u001b[0m \u001b[0mpd\u001b[0m\u001b[0;34m.\u001b[0m\u001b[0mread_csv\u001b[0m\u001b[0;34m(\u001b[0m\u001b[0;34m'test_key_speeches.csv'\u001b[0m\u001b[0;34m)\u001b[0m\u001b[0;34m\u001b[0m\u001b[0;34m\u001b[0m\u001b[0m\n\u001b[0m\u001b[1;32m      2\u001b[0m \u001b[0mX_test\u001b[0m \u001b[0;34m=\u001b[0m \u001b[0mlist\u001b[0m\u001b[0;34m(\u001b[0m\u001b[0mtest_df\u001b[0m\u001b[0;34m[\u001b[0m\u001b[0;34m'text'\u001b[0m\u001b[0;34m]\u001b[0m\u001b[0;34m.\u001b[0m\u001b[0mvalues\u001b[0m\u001b[0;34m)\u001b[0m\u001b[0;34m\u001b[0m\u001b[0;34m\u001b[0m\u001b[0m\n\u001b[1;32m      3\u001b[0m \u001b[0;34m\u001b[0m\u001b[0m\n",
      "\u001b[0;31mNameError\u001b[0m: name 'pd' is not defined"
     ]
    }
   ],
   "source": [
    "test_df = pd.read_csv('test_key_speeches.csv')\n",
    "X_test = list(test_df['text'].values)\n",
    "        "
   ]
  },
  {
   "cell_type": "code",
   "execution_count": 63,
   "metadata": {},
   "outputs": [
    {
     "name": "stderr",
     "output_type": "stream",
     "text": [
      "INFO:simpletransformers.classification.classification_model: Converting to features started. Cache is not used.\n",
      "INFO:simpletransformers.classification.classification_model: Sliding window enabled\n"
     ]
    },
    {
     "data": {
      "application/vnd.jupyter.widget-view+json": {
       "model_id": "48aebbe5cda745b78fcfadcb3e0db7b6",
       "version_major": 2,
       "version_minor": 0
      },
      "text/plain": [
       "  0%|          | 0/1089 [00:00<?, ?it/s]"
      ]
     },
     "metadata": {},
     "output_type": "display_data"
    },
    {
     "name": "stderr",
     "output_type": "stream",
     "text": [
      "Token indices sequence length is longer than the specified maximum sequence length for this model (1086 > 512). Running this sequence through the model will result in indexing errors\n",
      "Token indices sequence length is longer than the specified maximum sequence length for this model (1162 > 512). Running this sequence through the model will result in indexing errors\n",
      "Token indices sequence length is longer than the specified maximum sequence length for this model (1042 > 512). Running this sequence through the model will result in indexing errors\n",
      "INFO:simpletransformers.classification.classification_model: 1089 features created from 1089 samples.\n"
     ]
    },
    {
     "data": {
      "application/vnd.jupyter.widget-view+json": {
       "model_id": "bdd1a462ceb041b084b54b3bf70f2556",
       "version_major": 2,
       "version_minor": 0
      },
      "text/plain": [
       "  0%|          | 0/153 [00:00<?, ?it/s]"
      ]
     },
     "metadata": {},
     "output_type": "display_data"
    }
   ],
   "source": [
    "predictions, raw_outputs = model.predict(X_test)"
   ]
  },
  {
   "cell_type": "code",
   "execution_count": 64,
   "metadata": {},
   "outputs": [
    {
     "data": {
      "text/plain": [
       "array([[ 0.6569438, -0.680619 ]])"
      ]
     },
     "execution_count": 64,
     "metadata": {},
     "output_type": "execute_result"
    }
   ],
   "source": [
    "raw_outputs[0]"
   ]
  },
  {
   "cell_type": "code",
   "execution_count": 2,
   "metadata": {
    "scrolled": true
   },
   "outputs": [
    {
     "ename": "NameError",
     "evalue": "name 'raw_outputs' is not defined",
     "output_type": "error",
     "traceback": [
      "\u001b[0;31m---------------------------------------------------------------------------\u001b[0m",
      "\u001b[0;31mNameError\u001b[0m                                 Traceback (most recent call last)",
      "\u001b[0;32m<ipython-input-2-73c181183d73>\u001b[0m in \u001b[0;36m<module>\u001b[0;34m\u001b[0m\n\u001b[0;32m----> 1\u001b[0;31m \u001b[0moutputs\u001b[0m \u001b[0;34m=\u001b[0m \u001b[0;34m[\u001b[0m\u001b[0moutput\u001b[0m\u001b[0;34m[\u001b[0m\u001b[0;36m0\u001b[0m\u001b[0;34m]\u001b[0m \u001b[0;32mfor\u001b[0m \u001b[0moutput\u001b[0m \u001b[0;32min\u001b[0m \u001b[0mraw_outputs\u001b[0m\u001b[0;34m]\u001b[0m\u001b[0;34m\u001b[0m\u001b[0;34m\u001b[0m\u001b[0m\n\u001b[0m\u001b[1;32m      2\u001b[0m \u001b[0moutputs\u001b[0m\u001b[0;34m\u001b[0m\u001b[0;34m\u001b[0m\u001b[0m\n",
      "\u001b[0;31mNameError\u001b[0m: name 'raw_outputs' is not defined"
     ]
    }
   ],
   "source": [
    "outputs = [output[0] for output in raw_outputs]\n",
    "outputs"
   ]
  },
  {
   "cell_type": "code",
   "execution_count": 66,
   "metadata": {},
   "outputs": [],
   "source": [
    "from scipy.special import softmax\n",
    "outputs = softmax(outputs, axis=1)"
   ]
  },
  {
   "cell_type": "code",
   "execution_count": 67,
   "metadata": {},
   "outputs": [],
   "source": [
    "import numpy as np"
   ]
  },
  {
   "cell_type": "code",
   "execution_count": 68,
   "metadata": {},
   "outputs": [
    {
     "name": "stdout",
     "output_type": "stream",
     "text": [
      "1089\n",
      "1089\n"
     ]
    },
    {
     "data": {
      "text/html": [
       "<div>\n",
       "<style scoped>\n",
       "    .dataframe tbody tr th:only-of-type {\n",
       "        vertical-align: middle;\n",
       "    }\n",
       "\n",
       "    .dataframe tbody tr th {\n",
       "        vertical-align: top;\n",
       "    }\n",
       "\n",
       "    .dataframe thead th {\n",
       "        text-align: right;\n",
       "    }\n",
       "</style>\n",
       "<table border=\"1\" class=\"dataframe\">\n",
       "  <thead>\n",
       "    <tr style=\"text-align: right;\">\n",
       "      <th></th>\n",
       "      <th>text</th>\n",
       "      <th>conservative prob</th>\n",
       "      <th>labour prob</th>\n",
       "      <th>label</th>\n",
       "    </tr>\n",
       "  </thead>\n",
       "  <tbody>\n",
       "    <tr>\n",
       "      <th>0</th>\n",
       "      <td>We all agree that it is vital that everyone is...</td>\n",
       "      <td>0.792089</td>\n",
       "      <td>0.207911</td>\n",
       "      <td>conservative</td>\n",
       "    </tr>\n",
       "    <tr>\n",
       "      <th>1</th>\n",
       "      <td>The IN campaign maintains that there is no pro...</td>\n",
       "      <td>0.123088</td>\n",
       "      <td>0.876912</td>\n",
       "      <td>labour</td>\n",
       "    </tr>\n",
       "    <tr>\n",
       "      <th>2</th>\n",
       "      <td>It is Government policy that Turkey should joi...</td>\n",
       "      <td>0.163760</td>\n",
       "      <td>0.836240</td>\n",
       "      <td>labour</td>\n",
       "    </tr>\n",
       "    <tr>\n",
       "      <th>3</th>\n",
       "      <td>It is also the policy of the European Union th...</td>\n",
       "      <td>0.857251</td>\n",
       "      <td>0.142749</td>\n",
       "      <td>conservative</td>\n",
       "    </tr>\n",
       "    <tr>\n",
       "      <th>4</th>\n",
       "      <td>It is also a fact that both the European Union...</td>\n",
       "      <td>0.904083</td>\n",
       "      <td>0.095917</td>\n",
       "      <td>conservative</td>\n",
       "    </tr>\n",
       "    <tr>\n",
       "      <th>...</th>\n",
       "      <td>...</td>\n",
       "      <td>...</td>\n",
       "      <td>...</td>\n",
       "      <td>...</td>\n",
       "    </tr>\n",
       "    <tr>\n",
       "      <th>1084</th>\n",
       "      <td>This chance may never come again in our lifeti...</td>\n",
       "      <td>0.870314</td>\n",
       "      <td>0.129686</td>\n",
       "      <td>conservative</td>\n",
       "    </tr>\n",
       "    <tr>\n",
       "      <th>1085</th>\n",
       "      <td>BAGEHOT: The prime minister is nearing the end...</td>\n",
       "      <td>0.059040</td>\n",
       "      <td>0.940960</td>\n",
       "      <td>labour</td>\n",
       "    </tr>\n",
       "    <tr>\n",
       "      <th>1086</th>\n",
       "      <td>BAGEHOT: He’s asking for things he knows he’s ...</td>\n",
       "      <td>0.057449</td>\n",
       "      <td>0.942551</td>\n",
       "      <td>labour</td>\n",
       "    </tr>\n",
       "    <tr>\n",
       "      <th>1087</th>\n",
       "      <td>BAGEHOT: You mention the Euro campaign. Are th...</td>\n",
       "      <td>0.319345</td>\n",
       "      <td>0.680655</td>\n",
       "      <td>labour</td>\n",
       "    </tr>\n",
       "    <tr>\n",
       "      <th>1088</th>\n",
       "      <td>BAGEHOT: To what extent do you think this is a...</td>\n",
       "      <td>0.352938</td>\n",
       "      <td>0.647062</td>\n",
       "      <td>labour</td>\n",
       "    </tr>\n",
       "  </tbody>\n",
       "</table>\n",
       "<p>1089 rows × 4 columns</p>\n",
       "</div>"
      ],
      "text/plain": [
       "                                                   text  conservative prob  \\\n",
       "0     We all agree that it is vital that everyone is...           0.792089   \n",
       "1     The IN campaign maintains that there is no pro...           0.123088   \n",
       "2     It is Government policy that Turkey should joi...           0.163760   \n",
       "3     It is also the policy of the European Union th...           0.857251   \n",
       "4     It is also a fact that both the European Union...           0.904083   \n",
       "...                                                 ...                ...   \n",
       "1084  This chance may never come again in our lifeti...           0.870314   \n",
       "1085  BAGEHOT: The prime minister is nearing the end...           0.059040   \n",
       "1086  BAGEHOT: He’s asking for things he knows he’s ...           0.057449   \n",
       "1087  BAGEHOT: You mention the Euro campaign. Are th...           0.319345   \n",
       "1088  BAGEHOT: To what extent do you think this is a...           0.352938   \n",
       "\n",
       "      labour prob         label  \n",
       "0        0.207911  conservative  \n",
       "1        0.876912        labour  \n",
       "2        0.836240        labour  \n",
       "3        0.142749  conservative  \n",
       "4        0.095917  conservative  \n",
       "...           ...           ...  \n",
       "1084     0.129686  conservative  \n",
       "1085     0.940960        labour  \n",
       "1086     0.942551        labour  \n",
       "1087     0.680655        labour  \n",
       "1088     0.647062        labour  \n",
       "\n",
       "[1089 rows x 4 columns]"
      ]
     },
     "execution_count": 68,
     "metadata": {},
     "output_type": "execute_result"
    }
   ],
   "source": [
    "rows = []\n",
    "class_map ={\n",
    "    0: 'conservative',\n",
    "    1: 'labour'\n",
    "}\n",
    "print(len(X_test))\n",
    "print(len(outputs))\n",
    "assert(len(X_test) == len(outputs))\n",
    "for i in range(len(outputs)):\n",
    "    output = outputs[i]\n",
    "    row = [X_test[i], output[0], output[1], class_map[np.argmax(output)]]\n",
    "    rows.append(row)\n",
    "\n",
    "res_df = pd.DataFrame(rows, columns=['text', 'conservative prob', 'labour prob', 'label'])\n",
    "res_df"
   ]
  },
  {
   "cell_type": "code",
   "execution_count": 69,
   "metadata": {},
   "outputs": [
    {
     "data": {
      "text/plain": [
       "conservative    726\n",
       "labour          363\n",
       "Name: label, dtype: int64"
      ]
     },
     "execution_count": 69,
     "metadata": {},
     "output_type": "execute_result"
    }
   ],
   "source": [
    "res_df['label'].value_counts()"
   ]
  },
  {
   "cell_type": "code",
   "execution_count": 70,
   "metadata": {},
   "outputs": [],
   "source": [
    "res_df.to_csv('key_speeches_labour_conservative_prediction.csv', index=False)"
   ]
  },
  {
   "cell_type": "code",
   "execution_count": 71,
   "metadata": {},
   "outputs": [
    {
     "data": {
      "text/html": [
       "<div>\n",
       "<style scoped>\n",
       "    .dataframe tbody tr th:only-of-type {\n",
       "        vertical-align: middle;\n",
       "    }\n",
       "\n",
       "    .dataframe tbody tr th {\n",
       "        vertical-align: top;\n",
       "    }\n",
       "\n",
       "    .dataframe thead th {\n",
       "        text-align: right;\n",
       "    }\n",
       "</style>\n",
       "<table border=\"1\" class=\"dataframe\">\n",
       "  <thead>\n",
       "    <tr style=\"text-align: right;\">\n",
       "      <th></th>\n",
       "      <th>text</th>\n",
       "      <th>labels</th>\n",
       "    </tr>\n",
       "  </thead>\n",
       "  <tbody>\n",
       "    <tr>\n",
       "      <th>0</th>\n",
       "      <td>1.  What assessment he has made of recent tren...</td>\n",
       "      <td>1</td>\n",
       "    </tr>\n",
       "    <tr>\n",
       "      <th>1</th>\n",
       "      <td>As you said, Mr Speaker, we shall have those t...</td>\n",
       "      <td>0</td>\n",
       "    </tr>\n",
       "    <tr>\n",
       "      <th>2</th>\n",
       "      <td>I echo the comments made about the late Member...</td>\n",
       "      <td>1</td>\n",
       "    </tr>\n",
       "    <tr>\n",
       "      <th>3</th>\n",
       "      <td>I take responsibility for everything that happ...</td>\n",
       "      <td>0</td>\n",
       "    </tr>\n",
       "    <tr>\n",
       "      <th>4</th>\n",
       "      <td>I stood against Charles Kennedy in 1992 in Ros...</td>\n",
       "      <td>0</td>\n",
       "    </tr>\n",
       "    <tr>\n",
       "      <th>...</th>\n",
       "      <td>...</td>\n",
       "      <td>...</td>\n",
       "    </tr>\n",
       "    <tr>\n",
       "      <th>4019</th>\n",
       "      <td>What the hon. Gentleman is saying very much ec...</td>\n",
       "      <td>1</td>\n",
       "    </tr>\n",
       "    <tr>\n",
       "      <th>4020</th>\n",
       "      <td>There is no pressure here, then. I thank my fr...</td>\n",
       "      <td>0</td>\n",
       "    </tr>\n",
       "    <tr>\n",
       "      <th>4021</th>\n",
       "      <td>I take the hon. Gentleman’s point. I cannot be...</td>\n",
       "      <td>0</td>\n",
       "    </tr>\n",
       "    <tr>\n",
       "      <th>4022</th>\n",
       "      <td>It is a pleasure and an honour to have secured...</td>\n",
       "      <td>0</td>\n",
       "    </tr>\n",
       "    <tr>\n",
       "      <th>4023</th>\n",
       "      <td>I thank my hon. Friend the Member for Bedford ...</td>\n",
       "      <td>0</td>\n",
       "    </tr>\n",
       "  </tbody>\n",
       "</table>\n",
       "<p>4024 rows × 2 columns</p>\n",
       "</div>"
      ],
      "text/plain": [
       "                                                   text  labels\n",
       "0     1.  What assessment he has made of recent tren...       1\n",
       "1     As you said, Mr Speaker, we shall have those t...       0\n",
       "2     I echo the comments made about the late Member...       1\n",
       "3     I take responsibility for everything that happ...       0\n",
       "4     I stood against Charles Kennedy in 1992 in Ros...       0\n",
       "...                                                 ...     ...\n",
       "4019  What the hon. Gentleman is saying very much ec...       1\n",
       "4020  There is no pressure here, then. I thank my fr...       0\n",
       "4021  I take the hon. Gentleman’s point. I cannot be...       0\n",
       "4022  It is a pleasure and an honour to have secured...       0\n",
       "4023  I thank my hon. Friend the Member for Bedford ...       0\n",
       "\n",
       "[4024 rows x 2 columns]"
      ]
     },
     "execution_count": 71,
     "metadata": {},
     "output_type": "execute_result"
    }
   ],
   "source": [
    "train_df"
   ]
  },
  {
   "cell_type": "code",
   "execution_count": 56,
   "metadata": {},
   "outputs": [
    {
     "data": {
      "text/plain": [
       "0    3369\n",
       "1    1566\n",
       "Name: labels, dtype: int64"
      ]
     },
     "execution_count": 56,
     "metadata": {},
     "output_type": "execute_result"
    }
   ],
   "source": [
    "train_df['labels'].value_counts()"
   ]
  },
  {
   "cell_type": "code",
   "execution_count": null,
   "metadata": {},
   "outputs": [],
   "source": [
    "model.eval_model(train_df)"
   ]
  },
  {
   "cell_type": "code",
   "execution_count": null,
   "metadata": {},
   "outputs": [],
   "source": []
  }
 ],
 "metadata": {
  "kernelspec": {
   "display_name": "Python [conda env:econ] *",
   "language": "python",
   "name": "conda-env-econ-py"
  },
  "language_info": {
   "codemirror_mode": {
    "name": "ipython",
    "version": 3
   },
   "file_extension": ".py",
   "mimetype": "text/x-python",
   "name": "python",
   "nbconvert_exporter": "python",
   "pygments_lexer": "ipython3",
   "version": "3.7.7"
  }
 },
 "nbformat": 4,
 "nbformat_minor": 4
}
