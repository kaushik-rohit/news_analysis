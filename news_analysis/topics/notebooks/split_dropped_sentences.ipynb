{
 "cells": [
  {
   "cell_type": "code",
   "execution_count": 8,
   "metadata": {},
   "outputs": [],
   "source": [
    "import pandas as pd\n",
    "from pathlib import Path\n",
    "import ast\n",
    "import os\n",
    "from nltk.corpus import stopwords\n",
    "import nltk\n",
    "import calendar"
   ]
  },
  {
   "cell_type": "code",
   "execution_count": 9,
   "metadata": {},
   "outputs": [],
   "source": [
    "stopW = stopwords.words('english')\n",
    "\n",
    "def contains_european(x):\n",
    "    y = x.lower()\n",
    "    words = y.split()\n",
    "    flag = 'e.u' in words or 'eu' in words or 'europeanunion' in words\n",
    "    words = [word for word in words if word not in stopW]\n",
    "    bigrams = list(nltk.bigrams(words))\n",
    "    bigrams = [bigram[0] + '.' + bigram[1] for bigram in bigrams]\n",
    "    \n",
    "    flag = flag or 'european.union' in bigrams or 'europe.union' in bigrams\n",
    "    \n",
    "    return 'EU' if flag else 'non_EU'"
   ]
  },
  {
   "cell_type": "code",
   "execution_count": 13,
   "metadata": {},
   "outputs": [],
   "source": [
    "name_map = {\n",
    "    54: 'BBC+News',\n",
    "    106: 'News',\n",
    "    107: 'News',\n",
    "    175: 'News',\n",
    "    279: ''\n",
    "}"
   ]
  },
  {
   "cell_type": "code",
   "execution_count": 14,
   "metadata": {},
   "outputs": [],
   "source": [
    "years = [2014, 2015, 2016, 2017, 2018]\n",
    "ids = [279]"
   ]
  },
  {
   "cell_type": "code",
   "execution_count": 15,
   "metadata": {},
   "outputs": [],
   "source": [
    "for year in years:\n",
    "    for bbc_id in ids:\n",
    "        df = pd.read_csv('./dropped_sentences_{}_{}.csv'.format(bbc_id, year))\n",
    "        months = ['jan', 'feb', 'mar', 'apr', 'may', 'jun', 'jul', 'aug', 'sep', 'oct', 'nov', 'dec']\n",
    "\n",
    "        for month in range(1, 13):\n",
    "            path = '{}_{}/{}/transcripts'.format(bbc_id, 'Others', year)\n",
    "            Path(path).mkdir(parents=True, exist_ok=True)\n",
    "            abbr = calendar.month_abbr[month].lower()\n",
    "\n",
    "            df_month = df.loc[df.Date.str.contains(abbr)]\n",
    "\n",
    "            df_month.to_csv(os.path.join(path, '{} {}-{} {}_{}.csv'.format(name_map[bbc_id], \n",
    "                                                                           months[month-1], year, \n",
    "                                                                           bbc_id, 'Others')))"
   ]
  },
  {
   "cell_type": "code",
   "execution_count": null,
   "metadata": {},
   "outputs": [],
   "source": []
  },
  {
   "cell_type": "code",
   "execution_count": null,
   "metadata": {},
   "outputs": [],
   "source": []
  }
 ],
 "metadata": {
  "kernelspec": {
   "display_name": "Python [conda env:econ] *",
   "language": "python",
   "name": "conda-env-econ-py"
  },
  "language_info": {
   "codemirror_mode": {
    "name": "ipython",
    "version": 3
   },
   "file_extension": ".py",
   "mimetype": "text/x-python",
   "name": "python",
   "nbconvert_exporter": "python",
   "pygments_lexer": "ipython3",
   "version": "3.7.7"
  }
 },
 "nbformat": 4,
 "nbformat_minor": 4
}
