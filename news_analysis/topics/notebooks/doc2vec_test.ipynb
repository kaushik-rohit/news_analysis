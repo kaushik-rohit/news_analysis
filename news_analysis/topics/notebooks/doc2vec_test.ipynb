{
 "cells": [
  {
   "cell_type": "markdown",
   "metadata": {},
   "source": [
    "# Import Libraries"
   ]
  },
  {
   "cell_type": "code",
   "execution_count": 1,
   "metadata": {},
   "outputs": [
    {
     "name": "stderr",
     "output_type": "stream",
     "text": [
      "/home/ubuntu/anaconda3/envs/econ/lib/python3.7/site-packages/dask/dataframe/utils.py:15: FutureWarning: pandas.util.testing is deprecated. Use the functions in the public API at pandas.testing instead.\n",
      "  import pandas.util.testing as tm\n"
     ]
    }
   ],
   "source": [
    "import pandas as pd\n",
    "from gensim import models, corpora\n",
    "from gensim.parsing.preprocessing import preprocess_string, strip_tags, strip_punctuation\n",
    "from gensim.parsing.preprocessing import remove_stopwords, stem_text, strip_non_alphanum, strip_multiple_whitespaces\n",
    "from gensim.parsing.preprocessing import strip_short, strip_numeric\n",
    "from gensim.parsing.preprocessing import STOPWORDS\n",
    "from gensim.models.doc2vec import Doc2Vec, TaggedDocument\n",
    "from joblib import dump, load\n",
    "import nltk\n",
    "import pandas as pd\n",
    "import numpy as np\n",
    "import tensorflow as tf\n",
    "import parmap\n",
    "import swifter\n",
    "from tqdm import tqdm"
   ]
  },
  {
   "cell_type": "markdown",
   "metadata": {},
   "source": [
    "# Preprocessing Function"
   ]
  },
  {
   "cell_type": "code",
   "execution_count": 2,
   "metadata": {},
   "outputs": [],
   "source": [
    "topics_index_to_name_map = {\n",
    "    0: 'Agriculture, animals, food and rural affairs',\n",
    "    1: 'Asylum, immigration and nationality',\n",
    "    2: 'Business, industry and consumers',\n",
    "    3: 'Communities and families',\n",
    "    4: 'Crime, civil law, justice and rights',\n",
    "    5: 'Culture, media and sport',\n",
    "    6: 'Defence',\n",
    "    7: 'Economy and finance',\n",
    "    8: 'Education',\n",
    "    9: 'Employment and training',\n",
    "    10: 'Energy and environment',\n",
    "    11: 'European Union',\n",
    "    12: 'Health services and medicine',\n",
    "    13: 'Housing and planning',\n",
    "    14: 'International affairs',\n",
    "    15: 'Parliament, government and politics',\n",
    "    16: 'Science and technology',\n",
    "    17: 'Social security and pensions',\n",
    "    18: 'Social services',\n",
    "    19: 'Transport',\n",
    "    20: 'Others'\n",
    "}\n",
    "topics_name_to_index_map = {y:x for x,y in topics_index_to_name_map.items()}\n",
    "\n",
    "def strip_short2(text):\n",
    "    return strip_short(text, minsize=4)\n",
    "\n",
    "\n",
    "def preprocess_text(text):\n",
    "    FILTERS = [lambda x: x.lower(), strip_multiple_whitespaces, strip_tags, strip_punctuation,\n",
    "                   strip_non_alphanum, strip_numeric, strip_short2]\n",
    "    return preprocess_string(text, FILTERS)\n",
    "\n",
    "def preprocess(topic):\n",
    "    ret = []\n",
    "    topic = topic.strip()\n",
    "    \n",
    "    if '|' in topic:\n",
    "        topics = topic.split('|')\n",
    "        t = topics[0]\n",
    "        t = t.strip()\n",
    "        return topics_name_to_index_map[t]\n",
    "        \n",
    "    return topics_name_to_index_map[topic]"
   ]
  },
  {
   "cell_type": "code",
   "execution_count": 3,
   "metadata": {},
   "outputs": [],
   "source": [
    "start_year = 2009\n",
    "end_year = 2018\n",
    "exclude = '_no_Others'"
   ]
  },
  {
   "cell_type": "markdown",
   "metadata": {},
   "source": [
    "# Predict Function"
   ]
  },
  {
   "cell_type": "code",
   "execution_count": 4,
   "metadata": {},
   "outputs": [],
   "source": [
    "def predict(X, topn=3):\n",
    "    preprocessed_X = preprocess_text(X)\n",
    "    vec_X = doc2vec_model.infer_vector(preprocessed_X)\n",
    "    vec_X = vec_X.reshape(1, vec_X.shape[0])\n",
    "    pred = classifier.predict(vec_X)\n",
    "    pred_i = [(topics_index_to_name_map[i], p) for i,p in enumerate(pred[0])]\n",
    "    pred_sorted = sorted(pred_i, key=lambda x: x[1], reverse=True)\n",
    "    return pred_sorted[:topn]"
   ]
  },
  {
   "cell_type": "markdown",
   "metadata": {},
   "source": [
    "# Network Architecture"
   ]
  },
  {
   "cell_type": "code",
   "execution_count": 5,
   "metadata": {},
   "outputs": [],
   "source": [
    "def build_network():\n",
    "    model = tf.keras.models.Sequential([\n",
    "        tf.keras.Input(shape=(100)),\n",
    "        tf.keras.layers.Dense(32, activation='relu', kernel_regularizer=tf.keras.regularizers.l2(l=0.1)),\n",
    "        tf.keras.layers.Dense(len(enc.categories_[0]), activation='softmax')\n",
    "    ])\n",
    "    loss_fn = tf.keras.losses.CategoricalCrossentropy(from_logits=False, label_smoothing=0, name='categorical_crossentropy')\n",
    "\n",
    "    model.compile(optimizer=tf.keras.optimizers.Adam(),\n",
    "              loss=loss_fn,\n",
    "              metrics=['accuracy'])\n",
    "    \n",
    "    return model"
   ]
  },
  {
   "cell_type": "markdown",
   "metadata": {},
   "source": [
    "# Load Saved Models"
   ]
  },
  {
   "cell_type": "code",
   "execution_count": 6,
   "metadata": {},
   "outputs": [
    {
     "name": "stdout",
     "output_type": "stream",
     "text": [
      "WARNING:tensorflow:Please add `keras.layers.InputLayer` instead of `keras.Input` to Sequential model. `keras.Input` is intended to be used by Functional model.\n",
      "WARNING:tensorflow:Inconsistent references when loading the checkpoint into this object graph. Either the Trackable object references in the Python program have changed in an incompatible way, or the checkpoint was generated in an incompatible program.\n",
      "\n",
      "Two checkpoint references resolved to different objects (<tensorflow.python.keras.layers.core.Dense object at 0x7f8a5d1e4910> and <tensorflow.python.keras.layers.core.Dense object at 0x7f8a5d1e4fd0>).\n"
     ]
    },
    {
     "data": {
      "text/plain": [
       "<tensorflow.python.training.tracking.util.CheckpointLoadStatus at 0x7f8a5d221310>"
      ]
     },
     "execution_count": 6,
     "metadata": {},
     "output_type": "execute_result"
    }
   ],
   "source": [
    "doc2vec_model = Doc2Vec.load('../models/doc2vec/doc2vec_{}_{}{}'.format(start_year, end_year, exclude))\n",
    "enc = load('../models/doc2vec/encoder_{}_{}{}.joblib'.format(start_year, end_year, exclude))\n",
    "classifier = build_network()\n",
    "classifier.load_weights('../models/doc2vec/classifier_{}_{}{}'.format(start_year, end_year, exclude))"
   ]
  },
  {
   "cell_type": "markdown",
   "metadata": {},
   "source": [
    "# Test for parliament debates"
   ]
  },
  {
   "cell_type": "code",
   "execution_count": 7,
   "metadata": {},
   "outputs": [],
   "source": [
    "df = pd.read_csv('../data/2015_commons.csv')\n",
    "df = df.drop(df[df.topic == 'admin'].index)\n",
    "df = df.drop(['Unnamed: 0'], axis=1)\n",
    "df = df.groupby(['date', 'topic'])['transcript'].apply(lambda x: ' '.join(x)).reset_index()\n",
    "# df = df.drop(df[df.transcript.str.split().map(len) < 10].index).reset_index()\n",
    "# df['topic'] = df.apply(lambda row: preprocess(row['topic']), axis=1)"
   ]
  },
  {
   "cell_type": "code",
   "execution_count": 8,
   "metadata": {},
   "outputs": [
    {
     "data": {
      "text/html": [
       "<div>\n",
       "<style scoped>\n",
       "    .dataframe tbody tr th:only-of-type {\n",
       "        vertical-align: middle;\n",
       "    }\n",
       "\n",
       "    .dataframe tbody tr th {\n",
       "        vertical-align: top;\n",
       "    }\n",
       "\n",
       "    .dataframe thead th {\n",
       "        text-align: right;\n",
       "    }\n",
       "</style>\n",
       "<table border=\"1\" class=\"dataframe\">\n",
       "  <thead>\n",
       "    <tr style=\"text-align: right;\">\n",
       "      <th></th>\n",
       "      <th>date</th>\n",
       "      <th>topic</th>\n",
       "      <th>transcript</th>\n",
       "    </tr>\n",
       "  </thead>\n",
       "  <tbody>\n",
       "    <tr>\n",
       "      <th>0</th>\n",
       "      <td>2015-01-05</td>\n",
       "      <td>Autism: Diagnosis of Children, Hull</td>\n",
       "      <td>First, I would like to thank you, Mr Speaker, ...</td>\n",
       "    </tr>\n",
       "    <tr>\n",
       "      <th>1</th>\n",
       "      <td>2015-01-05</td>\n",
       "      <td>Home Department &gt;&gt; Border Exit Checks</td>\n",
       "      <td>1.  What progress her Department has made on i...</td>\n",
       "    </tr>\n",
       "    <tr>\n",
       "      <th>2</th>\n",
       "      <td>2015-01-05</td>\n",
       "      <td>Home Department &gt;&gt; Border Security (Calais)</td>\n",
       "      <td>11.  What recent discussions she has had with ...</td>\n",
       "    </tr>\n",
       "    <tr>\n",
       "      <th>3</th>\n",
       "      <td>2015-01-05</td>\n",
       "      <td>Home Department &gt;&gt; Chief Inspector of Borders ...</td>\n",
       "      <td>5.  When she next plans to meet the independen...</td>\n",
       "    </tr>\n",
       "    <tr>\n",
       "      <th>4</th>\n",
       "      <td>2015-01-05</td>\n",
       "      <td>Home Department &gt;&gt; Citizenship Applications</td>\n",
       "      <td>20.  How many applicants have been granted cit...</td>\n",
       "    </tr>\n",
       "    <tr>\n",
       "      <th>...</th>\n",
       "      <td>...</td>\n",
       "      <td>...</td>\n",
       "      <td>...</td>\n",
       "    </tr>\n",
       "    <tr>\n",
       "      <th>2200</th>\n",
       "      <td>2015-12-17</td>\n",
       "      <td>Environment, Food and Rural Affairs &gt;&gt; Wine Pr...</td>\n",
       "      <td>5.  What steps her Department is taking to pro...</td>\n",
       "    </tr>\n",
       "    <tr>\n",
       "      <th>2201</th>\n",
       "      <td>2015-12-17</td>\n",
       "      <td>Local Government Finance</td>\n",
       "      <td>I believe that our gloriously diverse country ...</td>\n",
       "    </tr>\n",
       "    <tr>\n",
       "      <th>2202</th>\n",
       "      <td>2015-12-17</td>\n",
       "      <td>Points of Order</td>\n",
       "      <td>On a point of order, Madam Deputy Speaker. A n...</td>\n",
       "    </tr>\n",
       "    <tr>\n",
       "      <th>2203</th>\n",
       "      <td>2015-12-17</td>\n",
       "      <td>Sexual Exploitation: Protection of 16 and 17-y...</td>\n",
       "      <td>I beg to move,  That this House notes the find...</td>\n",
       "    </tr>\n",
       "    <tr>\n",
       "      <th>2204</th>\n",
       "      <td>2015-12-17</td>\n",
       "      <td>Strathclyde Review</td>\n",
       "      <td>With permission, Mr Speaker, I will make a sta...</td>\n",
       "    </tr>\n",
       "  </tbody>\n",
       "</table>\n",
       "<p>2205 rows × 3 columns</p>\n",
       "</div>"
      ],
      "text/plain": [
       "            date                                              topic  \\\n",
       "0     2015-01-05                Autism: Diagnosis of Children, Hull   \n",
       "1     2015-01-05              Home Department >> Border Exit Checks   \n",
       "2     2015-01-05        Home Department >> Border Security (Calais)   \n",
       "3     2015-01-05  Home Department >> Chief Inspector of Borders ...   \n",
       "4     2015-01-05        Home Department >> Citizenship Applications   \n",
       "...          ...                                                ...   \n",
       "2200  2015-12-17  Environment, Food and Rural Affairs >> Wine Pr...   \n",
       "2201  2015-12-17                           Local Government Finance   \n",
       "2202  2015-12-17                                    Points of Order   \n",
       "2203  2015-12-17  Sexual Exploitation: Protection of 16 and 17-y...   \n",
       "2204  2015-12-17                                 Strathclyde Review   \n",
       "\n",
       "                                             transcript  \n",
       "0     First, I would like to thank you, Mr Speaker, ...  \n",
       "1     1.  What progress her Department has made on i...  \n",
       "2     11.  What recent discussions she has had with ...  \n",
       "3     5.  When she next plans to meet the independen...  \n",
       "4     20.  How many applicants have been granted cit...  \n",
       "...                                                 ...  \n",
       "2200  5.  What steps her Department is taking to pro...  \n",
       "2201  I believe that our gloriously diverse country ...  \n",
       "2202  On a point of order, Madam Deputy Speaker. A n...  \n",
       "2203  I beg to move,  That this House notes the find...  \n",
       "2204  With permission, Mr Speaker, I will make a sta...  \n",
       "\n",
       "[2205 rows x 3 columns]"
      ]
     },
     "execution_count": 8,
     "metadata": {},
     "output_type": "execute_result"
    }
   ],
   "source": [
    "df"
   ]
  },
  {
   "cell_type": "code",
   "execution_count": 9,
   "metadata": {},
   "outputs": [
    {
     "name": "stdout",
     "output_type": "stream",
     "text": [
      "[('Parliament, government and politics', 0.6222695), ('Economy and finance', 0.16140893), ('International affairs', 0.068858415)]\n",
      "true:  Cabinet Office >> Topical Questions Cabinet Office >> Topical Questions\n"
     ]
    }
   ],
   "source": [
    "X = df['transcript'].values\n",
    "Y = df['topic'].values\n",
    "i = 45\n",
    "print(predict(X[i]))\n",
    "print('true: ', Y[i], Y[i])"
   ]
  },
  {
   "cell_type": "code",
   "execution_count": 10,
   "metadata": {},
   "outputs": [
    {
     "data": {
      "text/plain": [
       "'T1.   If  he will make a statement on his departmental responsibilities. [906798]  My responsibilities are for efficiency and reform, civil service issues, public sector industrial relations strategy, Government transparency, civil contingencies, civil society and cyber-security.  The Minister for the Cabinet Office stated in October 2010 that public bodies would be made more meaningfully accountable. Specifically, what new mechanisms has he put in place to make public bodies more meaningfully accountable to this House and, indeed, to the public?  Our concern with public body reform has always been to ensure that accountability is improved. A number of functions have been brought within Government to make them directly accountable to this House through Ministers. A number of other activities have been discontinued completely. The number of public bodies has been reduced by about a third. When we came into office, there were no data about the actual number of public bodies. In addition to increasing accountability, we have also saved the taxpayer very considerable amounts of money.  T3.   Given the recent cyber-attacks on the United States, what strategies are the Department and the Government putting in place to protect Britain and Britain’s corporations from cyber-terrorism? [906800]  This is a very real and live concern. Our cyber-security strategy—I reported to the House on its third year of operation in the last month of the year—has been backed with £860 million of new money. We take this very seriously, but much more will need to be done because the threats are moving on very quickly, as well as the need for the defences.  In February 2010, when he was shadow Minister for the Cabinet Office, the right hon. Gentleman wrote to the Cabinet Secretary to complain that in asking Treasury officials to cost Conservative party policy, Labour had  “compromised the impartiality of the Civil Service and used the taxpayer funded service for political attacks.”  What discussions has he had with the Chancellor about special advisers using civil servants to propagate political smears and fiction this week, and has he redrafted his letter to the Cabinet Secretary?  I am confident that the permanent secretary to the Treasury, who was the permanent secretary to the Treasury at that time, has followed exactly the same practice as he would have done then.  T4.   Does my hon. Friend agree with Lord Winston that Labour’s mansion tax would have a devastating impact on the ability of charities to raise money from legacy giving? [906801]  Yes, I do. This real concern is shared by many in the sector. Most notably, the Wellcome Trust has voiced fears of the impact it would have on legacy giving. The National Council for Voluntary Organisations reckons that 10,000 charities get legacies each year, to a value of about £2 billion. Lord Winston, who is a widely respected Labour peer, has been joined by Charles Clarke, the former Labour Home Secretary. As they have both added their voices, I hope that the shadow Chancellor will rethink this wrong-headed policy.  T2.   Earlier in this Parliament, Ministers flirted with the possibility of a politicised senior civil service. That danger seems to have receded, but will the Minister now reaffirm a Government commitment to the historic principle of political impartiality in the civil service, specifically in matters relating to the European Union? [906799]  I did not catch much of what the hon. Gentleman said, but I will happily look at the transcript and come back to him with a detailed reply.  That is a commentary on the amount of noise. Let us have a bit of order for Mr Adam Holloway.  T5.   Will the Minister update us on the timing of the publication of the Chilcot report? [906802]  I cannot really add to what Sir John Chilcot has said. That independent inquiry is under the control of the inquiry members. I can say that we have responded to every request for extra resources; none has been turned down. I would just add that if the previous Government had launched the inquiry at the time it was requested, it could have been finished and could have reported long ago.  T8.   In the debate on food banks just before Christmas, the Minister for Civil Society kept saying that the reasons for food bank use were complex and overlapping. He would not go beyond that. Will he join me in condemning the Tory councillor who said that the only people who use food banks are those with drug, alcohol and mental health problems, and will he acknowledge that the top two reasons for food bank use are due to the failings of this Government’s welfare system? [906805]  I think the thing to say about food banks is that I and Government Members commend Britain’s very strong tradition of volunteering and community action, which sees people coming together to support those in need. Food banks are just one example that I come across on a daily basis. '"
      ]
     },
     "execution_count": 10,
     "metadata": {},
     "output_type": "execute_result"
    }
   ],
   "source": [
    "X[i]"
   ]
  },
  {
   "cell_type": "code",
   "execution_count": 11,
   "metadata": {},
   "outputs": [
    {
     "ename": "KeyError",
     "evalue": "'Autism: Diagnosis of Children, Hull'",
     "output_type": "error",
     "traceback": [
      "\u001b[0;31m---------------------------------------------------------------------------\u001b[0m",
      "\u001b[0;31mKeyError\u001b[0m                                  Traceback (most recent call last)",
      "\u001b[0;32m<ipython-input-11-3c3a0f81a65f>\u001b[0m in \u001b[0;36m<module>\u001b[0;34m\u001b[0m\n\u001b[0;32m----> 1\u001b[0;31m \u001b[0mdf\u001b[0m\u001b[0;34m[\u001b[0m\u001b[0;34m'topic'\u001b[0m\u001b[0;34m]\u001b[0m \u001b[0;34m=\u001b[0m \u001b[0mdf\u001b[0m\u001b[0;34m.\u001b[0m\u001b[0mapply\u001b[0m\u001b[0;34m(\u001b[0m\u001b[0;32mlambda\u001b[0m \u001b[0mrow\u001b[0m\u001b[0;34m:\u001b[0m \u001b[0mtopics_index_to_name_map\u001b[0m\u001b[0;34m[\u001b[0m\u001b[0mrow\u001b[0m\u001b[0;34m[\u001b[0m\u001b[0;34m'topic'\u001b[0m\u001b[0;34m]\u001b[0m\u001b[0;34m]\u001b[0m\u001b[0;34m,\u001b[0m \u001b[0maxis\u001b[0m\u001b[0;34m=\u001b[0m\u001b[0;36m1\u001b[0m\u001b[0;34m)\u001b[0m\u001b[0;34m\u001b[0m\u001b[0;34m\u001b[0m\u001b[0m\n\u001b[0m",
      "\u001b[0;32m~/anaconda3/envs/econ/lib/python3.7/site-packages/pandas/core/frame.py\u001b[0m in \u001b[0;36mapply\u001b[0;34m(self, func, axis, raw, result_type, args, **kwds)\u001b[0m\n\u001b[1;32m   6876\u001b[0m             \u001b[0mkwds\u001b[0m\u001b[0;34m=\u001b[0m\u001b[0mkwds\u001b[0m\u001b[0;34m,\u001b[0m\u001b[0;34m\u001b[0m\u001b[0;34m\u001b[0m\u001b[0m\n\u001b[1;32m   6877\u001b[0m         )\n\u001b[0;32m-> 6878\u001b[0;31m         \u001b[0;32mreturn\u001b[0m \u001b[0mop\u001b[0m\u001b[0;34m.\u001b[0m\u001b[0mget_result\u001b[0m\u001b[0;34m(\u001b[0m\u001b[0;34m)\u001b[0m\u001b[0;34m\u001b[0m\u001b[0;34m\u001b[0m\u001b[0m\n\u001b[0m\u001b[1;32m   6879\u001b[0m \u001b[0;34m\u001b[0m\u001b[0m\n\u001b[1;32m   6880\u001b[0m     \u001b[0;32mdef\u001b[0m \u001b[0mapplymap\u001b[0m\u001b[0;34m(\u001b[0m\u001b[0mself\u001b[0m\u001b[0;34m,\u001b[0m \u001b[0mfunc\u001b[0m\u001b[0;34m)\u001b[0m \u001b[0;34m->\u001b[0m \u001b[0;34m\"DataFrame\"\u001b[0m\u001b[0;34m:\u001b[0m\u001b[0;34m\u001b[0m\u001b[0;34m\u001b[0m\u001b[0m\n",
      "\u001b[0;32m~/anaconda3/envs/econ/lib/python3.7/site-packages/pandas/core/apply.py\u001b[0m in \u001b[0;36mget_result\u001b[0;34m(self)\u001b[0m\n\u001b[1;32m    184\u001b[0m             \u001b[0;32mreturn\u001b[0m \u001b[0mself\u001b[0m\u001b[0;34m.\u001b[0m\u001b[0mapply_raw\u001b[0m\u001b[0;34m(\u001b[0m\u001b[0;34m)\u001b[0m\u001b[0;34m\u001b[0m\u001b[0;34m\u001b[0m\u001b[0m\n\u001b[1;32m    185\u001b[0m \u001b[0;34m\u001b[0m\u001b[0m\n\u001b[0;32m--> 186\u001b[0;31m         \u001b[0;32mreturn\u001b[0m \u001b[0mself\u001b[0m\u001b[0;34m.\u001b[0m\u001b[0mapply_standard\u001b[0m\u001b[0;34m(\u001b[0m\u001b[0;34m)\u001b[0m\u001b[0;34m\u001b[0m\u001b[0;34m\u001b[0m\u001b[0m\n\u001b[0m\u001b[1;32m    187\u001b[0m \u001b[0;34m\u001b[0m\u001b[0m\n\u001b[1;32m    188\u001b[0m     \u001b[0;32mdef\u001b[0m \u001b[0mapply_empty_result\u001b[0m\u001b[0;34m(\u001b[0m\u001b[0mself\u001b[0m\u001b[0;34m)\u001b[0m\u001b[0;34m:\u001b[0m\u001b[0;34m\u001b[0m\u001b[0;34m\u001b[0m\u001b[0m\n",
      "\u001b[0;32m~/anaconda3/envs/econ/lib/python3.7/site-packages/pandas/core/apply.py\u001b[0m in \u001b[0;36mapply_standard\u001b[0;34m(self)\u001b[0m\n\u001b[1;32m    294\u001b[0m             \u001b[0;32mtry\u001b[0m\u001b[0;34m:\u001b[0m\u001b[0;34m\u001b[0m\u001b[0;34m\u001b[0m\u001b[0m\n\u001b[1;32m    295\u001b[0m                 result = libreduction.compute_reduction(\n\u001b[0;32m--> 296\u001b[0;31m                     \u001b[0mvalues\u001b[0m\u001b[0;34m,\u001b[0m \u001b[0mself\u001b[0m\u001b[0;34m.\u001b[0m\u001b[0mf\u001b[0m\u001b[0;34m,\u001b[0m \u001b[0maxis\u001b[0m\u001b[0;34m=\u001b[0m\u001b[0mself\u001b[0m\u001b[0;34m.\u001b[0m\u001b[0maxis\u001b[0m\u001b[0;34m,\u001b[0m \u001b[0mdummy\u001b[0m\u001b[0;34m=\u001b[0m\u001b[0mdummy\u001b[0m\u001b[0;34m,\u001b[0m \u001b[0mlabels\u001b[0m\u001b[0;34m=\u001b[0m\u001b[0mlabels\u001b[0m\u001b[0;34m\u001b[0m\u001b[0;34m\u001b[0m\u001b[0m\n\u001b[0m\u001b[1;32m    297\u001b[0m                 )\n\u001b[1;32m    298\u001b[0m             \u001b[0;32mexcept\u001b[0m \u001b[0mValueError\u001b[0m \u001b[0;32mas\u001b[0m \u001b[0merr\u001b[0m\u001b[0;34m:\u001b[0m\u001b[0;34m\u001b[0m\u001b[0;34m\u001b[0m\u001b[0m\n",
      "\u001b[0;32mpandas/_libs/reduction.pyx\u001b[0m in \u001b[0;36mpandas._libs.reduction.compute_reduction\u001b[0;34m()\u001b[0m\n",
      "\u001b[0;32mpandas/_libs/reduction.pyx\u001b[0m in \u001b[0;36mpandas._libs.reduction.Reducer.get_result\u001b[0;34m()\u001b[0m\n",
      "\u001b[0;32m<ipython-input-11-3c3a0f81a65f>\u001b[0m in \u001b[0;36m<lambda>\u001b[0;34m(row)\u001b[0m\n\u001b[0;32m----> 1\u001b[0;31m \u001b[0mdf\u001b[0m\u001b[0;34m[\u001b[0m\u001b[0;34m'topic'\u001b[0m\u001b[0;34m]\u001b[0m \u001b[0;34m=\u001b[0m \u001b[0mdf\u001b[0m\u001b[0;34m.\u001b[0m\u001b[0mapply\u001b[0m\u001b[0;34m(\u001b[0m\u001b[0;32mlambda\u001b[0m \u001b[0mrow\u001b[0m\u001b[0;34m:\u001b[0m \u001b[0mtopics_index_to_name_map\u001b[0m\u001b[0;34m[\u001b[0m\u001b[0mrow\u001b[0m\u001b[0;34m[\u001b[0m\u001b[0;34m'topic'\u001b[0m\u001b[0;34m]\u001b[0m\u001b[0;34m]\u001b[0m\u001b[0;34m,\u001b[0m \u001b[0maxis\u001b[0m\u001b[0;34m=\u001b[0m\u001b[0;36m1\u001b[0m\u001b[0;34m)\u001b[0m\u001b[0;34m\u001b[0m\u001b[0;34m\u001b[0m\u001b[0m\n\u001b[0m",
      "\u001b[0;31mKeyError\u001b[0m: 'Autism: Diagnosis of Children, Hull'"
     ]
    }
   ],
   "source": [
    "df['topic'] = df.apply(lambda row: topics_index_to_name_map[row['topic']], axis=1)"
   ]
  },
  {
   "cell_type": "code",
   "execution_count": null,
   "metadata": {},
   "outputs": [],
   "source": []
  }
 ],
 "metadata": {
  "kernelspec": {
   "display_name": "Python [conda env:econ] *",
   "language": "python",
   "name": "conda-env-econ-py"
  },
  "language_info": {
   "codemirror_mode": {
    "name": "ipython",
    "version": 3
   },
   "file_extension": ".py",
   "mimetype": "text/x-python",
   "name": "python",
   "nbconvert_exporter": "python",
   "pygments_lexer": "ipython3",
   "version": "3.7.7"
  }
 },
 "nbformat": 4,
 "nbformat_minor": 4
}
