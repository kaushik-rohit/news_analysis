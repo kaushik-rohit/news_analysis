{
 "cells": [
  {
   "cell_type": "code",
   "execution_count": 25,
   "metadata": {},
   "outputs": [
    {
     "name": "stderr",
     "output_type": "stream",
     "text": [
      "/home/ubuntu/anaconda3/envs/econ/lib/python3.7/site-packages/dask/dataframe/utils.py:15: FutureWarning: pandas.util.testing is deprecated. Use the functions in the public API at pandas.testing instead.\n",
      "  import pandas.util.testing as tm\n"
     ]
    }
   ],
   "source": [
    "import pandas as pd\n",
    "from gensim import models, corpora\n",
    "from gensim.parsing.preprocessing import preprocess_string, strip_tags, strip_punctuation\n",
    "from gensim.parsing.preprocessing import remove_stopwords, stem_text, strip_non_alphanum, strip_multiple_whitespaces\n",
    "from gensim.parsing.preprocessing import strip_short, strip_numeric\n",
    "from gensim.parsing.preprocessing import STOPWORDS\n",
    "from gensim.models.doc2vec import Doc2Vec, TaggedDocument\n",
    "from joblib import dump, load\n",
    "import nltk\n",
    "import pandas as pd\n",
    "import numpy as np\n",
    "import tensorflow as tf\n",
    "import parmap\n",
    "import swifter\n",
    "from tqdm import tqdm"
   ]
  },
  {
   "cell_type": "code",
   "execution_count": 26,
   "metadata": {},
   "outputs": [],
   "source": [
    "topics_index_to_name_map = {\n",
    "    0: 'Agriculture, animals, food and rural affairs',\n",
    "    1: 'Asylum, immigration and nationality',\n",
    "    2: 'Business, industry and consumers',\n",
    "    3: 'Communities and families',\n",
    "    4: 'Crime, civil law, justice and rights',\n",
    "    5: 'Culture, media and sport',\n",
    "    6: 'Defence',\n",
    "    7: 'Economy and finance',\n",
    "    8: 'Education',\n",
    "    9: 'Employment and training',\n",
    "    10: 'Energy and environment',\n",
    "    11: 'European Union',\n",
    "    12: 'Health services and medicine',\n",
    "    13: 'Housing and planning',\n",
    "    14: 'International affairs',\n",
    "    15: 'Parliament, government and politics',\n",
    "    16: 'Science and technology',\n",
    "    17: 'Social security and pensions',\n",
    "    18: 'Social services',\n",
    "    19: 'Transport',\n",
    "    20: 'Others'\n",
    "}\n",
    "topics_name_to_index_map = {y:x for x,y in topics_index_to_name_map.items()}\n",
    "\n",
    "def strip_short2(text):\n",
    "    return strip_short(text, minsize=4)\n",
    "\n",
    "\n",
    "def preprocess_text(text):\n",
    "    FILTERS = [lambda x: x.lower(), strip_multiple_whitespaces, strip_tags, strip_punctuation,\n",
    "                   strip_non_alphanum, strip_numeric, strip_short2]\n",
    "    return preprocess_string(text, FILTERS)\n",
    "\n",
    "def preprocess(topic):\n",
    "    ret = []\n",
    "    topic = topic.strip()\n",
    "    \n",
    "    if '|' in topic:\n",
    "        topics = topic.split('|')\n",
    "        t = topics[0]\n",
    "        t = t.strip()\n",
    "        return topics_name_to_index_map[t]\n",
    "        \n",
    "    return topics_name_to_index_map[topic]"
   ]
  },
  {
   "cell_type": "code",
   "execution_count": 27,
   "metadata": {},
   "outputs": [],
   "source": [
    "start_year = 2009\n",
    "end_year = 2018\n",
    "exclude = '_no_Others'"
   ]
  },
  {
   "cell_type": "code",
   "execution_count": 28,
   "metadata": {},
   "outputs": [],
   "source": [
    "def predict(X, topn=3):\n",
    "    preprocessed_X = preprocess_text(X)\n",
    "    vec_X = doc2vec_model.infer_vector(preprocessed_X)\n",
    "    vec_X = vec_X.reshape(1, vec_X.shape[0])\n",
    "    pred = classifier.predict(vec_X)\n",
    "    pred_i = [(topics_index_to_name_map[i], p) for i,p in enumerate(pred[0])]\n",
    "    pred_sorted = sorted(pred_i, key=lambda x: x[1], reverse=True)\n",
    "    return pred_sorted[:topn]"
   ]
  },
  {
   "cell_type": "code",
   "execution_count": 29,
   "metadata": {},
   "outputs": [],
   "source": [
    "def build_network():\n",
    "    model = tf.keras.models.Sequential([\n",
    "        tf.keras.Input(shape=(100)),\n",
    "        tf.keras.layers.Dense(32, activation='relu', kernel_regularizer=tf.keras.regularizers.l2(l=0.1)),\n",
    "        tf.keras.layers.Dense(len(enc.categories_[0]), activation='softmax')\n",
    "    ])\n",
    "    loss_fn = tf.keras.losses.CategoricalCrossentropy(from_logits=False, label_smoothing=0, name='categorical_crossentropy')\n",
    "\n",
    "    model.compile(optimizer=tf.keras.optimizers.Adam(),\n",
    "              loss=loss_fn,\n",
    "              metrics=['accuracy'])\n",
    "    \n",
    "    return model"
   ]
  },
  {
   "cell_type": "code",
   "execution_count": 30,
   "metadata": {},
   "outputs": [
    {
     "data": {
      "text/plain": [
       "<tensorflow.python.training.tracking.util.CheckpointLoadStatus at 0x7fc2b416b9d0>"
      ]
     },
     "execution_count": 30,
     "metadata": {},
     "output_type": "execute_result"
    }
   ],
   "source": [
    "doc2vec_model = Doc2Vec.load('../models/doc2vec/doc2vec_{}_{}{}'.format(start_year, end_year, exclude))\n",
    "enc = load('../models/doc2vec/encoder_{}_{}{}.joblib'.format(start_year, end_year, exclude))\n",
    "classifier = build_network()\n",
    "classifier.load_weights('../models/doc2vec/classifier_{}_{}{}'.format(start_year, end_year, exclude))"
   ]
  },
  {
   "cell_type": "code",
   "execution_count": 40,
   "metadata": {},
   "outputs": [],
   "source": [
    "df = pd.read_csv('../data/2016_commons.csv')\n",
    "df = df.drop(df[df.topic == 'admin'].index)\n",
    "df = df.drop(['Unnamed: 0'], axis=1)\n",
    "df = df.groupby(['date', 'topic'])['transcript'].apply(lambda x: ' '.join(x)).reset_index()\n",
    "# df = df.drop(df[df.transcript.str.split().map(len) < 10].index).reset_index()\n",
    "# df['topic'] = df.apply(lambda row: preprocess(row['topic']), axis=1)"
   ]
  },
  {
   "cell_type": "code",
   "execution_count": 41,
   "metadata": {},
   "outputs": [
    {
     "data": {
      "text/html": [
       "<div>\n",
       "<style scoped>\n",
       "    .dataframe tbody tr th:only-of-type {\n",
       "        vertical-align: middle;\n",
       "    }\n",
       "\n",
       "    .dataframe tbody tr th {\n",
       "        vertical-align: top;\n",
       "    }\n",
       "\n",
       "    .dataframe thead th {\n",
       "        text-align: right;\n",
       "    }\n",
       "</style>\n",
       "<table border=\"1\" class=\"dataframe\">\n",
       "  <thead>\n",
       "    <tr style=\"text-align: right;\">\n",
       "      <th></th>\n",
       "      <th>date</th>\n",
       "      <th>topic</th>\n",
       "      <th>transcript</th>\n",
       "    </tr>\n",
       "  </thead>\n",
       "  <tbody>\n",
       "    <tr>\n",
       "      <th>0</th>\n",
       "      <td>2016-01-05</td>\n",
       "      <td>Counter-terrorism</td>\n",
       "      <td>With permission, Mr Speaker, I will make a sta...</td>\n",
       "    </tr>\n",
       "    <tr>\n",
       "      <th>1</th>\n",
       "      <td>2016-01-05</td>\n",
       "      <td>EU Council</td>\n",
       "      <td>With permission, Mr Speaker, I would like to m...</td>\n",
       "    </tr>\n",
       "    <tr>\n",
       "      <th>2</th>\n",
       "      <td>2016-01-05</td>\n",
       "      <td>Flooding</td>\n",
       "      <td>With permission, Mr Speaker, I would like to m...</td>\n",
       "    </tr>\n",
       "    <tr>\n",
       "      <th>3</th>\n",
       "      <td>2016-01-05</td>\n",
       "      <td>Future Funding for S4C</td>\n",
       "      <td>I thank the many colleagues who have stayed so...</td>\n",
       "    </tr>\n",
       "    <tr>\n",
       "      <th>4</th>\n",
       "      <td>2016-01-05</td>\n",
       "      <td>Health &gt;&gt; Children and Young People’s Mental H...</td>\n",
       "      <td>14.  What steps his Department is taking to in...</td>\n",
       "    </tr>\n",
       "    <tr>\n",
       "      <th>...</th>\n",
       "      <td>...</td>\n",
       "      <td>...</td>\n",
       "      <td>...</td>\n",
       "    </tr>\n",
       "    <tr>\n",
       "      <th>2438</th>\n",
       "      <td>2016-12-20</td>\n",
       "      <td>Health &gt;&gt; Sustainability and Transformation Pl...</td>\n",
       "      <td>10. What assessment he has made of the potenti...</td>\n",
       "    </tr>\n",
       "    <tr>\n",
       "      <th>2439</th>\n",
       "      <td>2016-12-20</td>\n",
       "      <td>Health &gt;&gt; Topical Questions</td>\n",
       "      <td>T2.  If he will make a statement on his depart...</td>\n",
       "    </tr>\n",
       "    <tr>\n",
       "      <th>2440</th>\n",
       "      <td>2016-12-20</td>\n",
       "      <td>Health &gt;&gt; Unhealthy Food</td>\n",
       "      <td>15. What assessment he has made of the potenti...</td>\n",
       "    </tr>\n",
       "    <tr>\n",
       "      <th>2441</th>\n",
       "      <td>2016-12-20</td>\n",
       "      <td>Leasehold and Commonhold Reform</td>\n",
       "      <td>I beg to move,  That this House has considered...</td>\n",
       "    </tr>\n",
       "    <tr>\n",
       "      <th>2442</th>\n",
       "      <td>2016-12-20</td>\n",
       "      <td>Points of Order</td>\n",
       "      <td>On a point of order, Mr Speaker. In response t...</td>\n",
       "    </tr>\n",
       "  </tbody>\n",
       "</table>\n",
       "<p>2443 rows × 3 columns</p>\n",
       "</div>"
      ],
      "text/plain": [
       "            date                                              topic  \\\n",
       "0     2016-01-05                                  Counter-terrorism   \n",
       "1     2016-01-05                                         EU Council   \n",
       "2     2016-01-05                                           Flooding   \n",
       "3     2016-01-05                             Future Funding for S4C   \n",
       "4     2016-01-05  Health >> Children and Young People’s Mental H...   \n",
       "...          ...                                                ...   \n",
       "2438  2016-12-20  Health >> Sustainability and Transformation Pl...   \n",
       "2439  2016-12-20                        Health >> Topical Questions   \n",
       "2440  2016-12-20                           Health >> Unhealthy Food   \n",
       "2441  2016-12-20                    Leasehold and Commonhold Reform   \n",
       "2442  2016-12-20                                    Points of Order   \n",
       "\n",
       "                                             transcript  \n",
       "0     With permission, Mr Speaker, I will make a sta...  \n",
       "1     With permission, Mr Speaker, I would like to m...  \n",
       "2     With permission, Mr Speaker, I would like to m...  \n",
       "3     I thank the many colleagues who have stayed so...  \n",
       "4     14.  What steps his Department is taking to in...  \n",
       "...                                                 ...  \n",
       "2438  10. What assessment he has made of the potenti...  \n",
       "2439  T2.  If he will make a statement on his depart...  \n",
       "2440  15. What assessment he has made of the potenti...  \n",
       "2441  I beg to move,  That this House has considered...  \n",
       "2442  On a point of order, Mr Speaker. In response t...  \n",
       "\n",
       "[2443 rows x 3 columns]"
      ]
     },
     "execution_count": 41,
     "metadata": {},
     "output_type": "execute_result"
    }
   ],
   "source": [
    "df"
   ]
  },
  {
   "cell_type": "code",
   "execution_count": 42,
   "metadata": {},
   "outputs": [
    {
     "name": "stdout",
     "output_type": "stream",
     "text": [
      "[('Energy and environment', 0.9329466), ('Business, industry and consumers', 0.02679499), ('Culture, media and sport', 0.014252685)]\n",
      "true:  Energy and Climate Change >> Paris Agreement on Climate Change Energy and Climate Change >> Paris Agreement on Climate Change\n"
     ]
    }
   ],
   "source": [
    "X = df['transcript'].values\n",
    "Y = df['topic'].values\n",
    "i = 45\n",
    "print(predict(X[i]))\n",
    "print('true: ', Y[i], Y[i])"
   ]
  },
  {
   "cell_type": "code",
   "execution_count": 43,
   "metadata": {},
   "outputs": [],
   "source": [
    "def build_network():\n",
    "    model = tf.keras.models.Sequential([\n",
    "        tf.keras.Input(shape=(100)),\n",
    "        tf.keras.layers.Dense(32, activation='relu', kernel_regularizer=tf.keras.regularizers.l2(l=0.1)),\n",
    "        tf.keras.layers.Dense(y_train.shape[1], activation='softmax')\n",
    "    ])\n",
    "    loss_fn = tf.keras.losses.CategoricalCrossentropy(from_logits=False, label_smoothing=0, name='categorical_crossentropy')\n",
    "\n",
    "    model.compile(optimizer=tf.keras.optimizers.Adam(),\n",
    "              loss=loss_fn,\n",
    "              metrics=['accuracy'])\n",
    "    \n",
    "    return model"
   ]
  },
  {
   "cell_type": "code",
   "execution_count": 44,
   "metadata": {},
   "outputs": [
    {
     "name": "stdout",
     "output_type": "stream",
     "text": [
      "[('Energy and environment', 0.92720366), ('Business, industry and consumers', 0.028068416), ('Culture, media and sport', 0.014360879)]\n",
      "true:  Energy and Climate Change >> Paris Agreement on Climate Change Energy and Climate Change >> Paris Agreement on Climate Change\n"
     ]
    }
   ],
   "source": [
    "X = df['transcript'].values\n",
    "Y = df['topic'].values\n",
    "i = 45\n",
    "print(predict(X[i]))\n",
    "print('true: ', Y[i], Y[i])"
   ]
  },
  {
   "cell_type": "code",
   "execution_count": 46,
   "metadata": {},
   "outputs": [
    {
     "name": "stderr",
     "output_type": "stream",
     "text": [
      "100%|██████████| 2443/2443 [09:50<00:00,  4.13it/s]\n"
     ]
    }
   ],
   "source": [
    "y_pred = []\n",
    "for x in tqdm(X):\n",
    "    y_pred.append(predict(x)[0][0])\n",
    "df['pred'] = y_pred"
   ]
  },
  {
   "cell_type": "code",
   "execution_count": null,
   "metadata": {},
   "outputs": [],
   "source": [
    "df"
   ]
  },
  {
   "cell_type": "code",
   "execution_count": 47,
   "metadata": {},
   "outputs": [],
   "source": [
    "df.to_csv('2016_commons_pred.csv')"
   ]
  },
  {
   "cell_type": "code",
   "execution_count": null,
   "metadata": {},
   "outputs": [],
   "source": []
  }
 ],
 "metadata": {
  "kernelspec": {
   "display_name": "Python [conda env:econ] *",
   "language": "python",
   "name": "conda-env-econ-py"
  },
  "language_info": {
   "codemirror_mode": {
    "name": "ipython",
    "version": 3
   },
   "file_extension": ".py",
   "mimetype": "text/x-python",
   "name": "python",
   "nbconvert_exporter": "python",
   "pygments_lexer": "ipython3",
   "version": "3.7.7"
  }
 },
 "nbformat": 4,
 "nbformat_minor": 4
}
