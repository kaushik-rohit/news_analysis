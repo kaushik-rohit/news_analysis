{
 "cells": [
  {
   "cell_type": "code",
   "execution_count": 18,
   "metadata": {},
   "outputs": [],
   "source": [
    "import pandas as pd\n",
    "from pathlib import Path\n",
    "import ast\n",
    "import os\n",
    "from nltk.corpus import stopwords\n",
    "import nltk\n",
    "import calendar"
   ]
  },
  {
   "cell_type": "code",
   "execution_count": 19,
   "metadata": {},
   "outputs": [],
   "source": [
    "stopW = stopwords.words('english')\n",
    "\n",
    "def contains_european(x):\n",
    "    y = x.lower()\n",
    "    words = y.split()\n",
    "    flag = 'e.u' in words or 'eu' in words or 'europeanunion' in words\n",
    "    words = [word for word in words if word not in stopW]\n",
    "    bigrams = list(nltk.bigrams(words))\n",
    "    bigrams = [bigram[0] + '.' + bigram[1] for bigram in bigrams]\n",
    "    \n",
    "    flag = flag or 'european.union' in bigrams or 'europe.union' in bigrams\n",
    "    \n",
    "    return 'EU' if flag else 'non_EU'"
   ]
  },
  {
   "cell_type": "code",
   "execution_count": 20,
   "metadata": {},
   "outputs": [],
   "source": [
    "year = 2014\n",
    "bbc_id = 54"
   ]
  },
  {
   "cell_type": "code",
   "execution_count": 21,
   "metadata": {},
   "outputs": [],
   "source": [
    "df1 = pd.read_csv('../data/partition_predictions/window_topic_predictions_Jan-June_{}.csv'.format(year))\n",
    "df2 = pd.read_csv('../data/partition_predictions/window_topic_predictions_Jul-Dec_{}.csv'.format(year))\n",
    "# df3 = pd.read_csv('../data/partition_predictions/window_topic_predictions_Sep-Dec_{}.csv'.format(year))\n",
    "partition_df = pd.concat([df1, df2])\n",
    "partition_df = partition_df.drop(['vector', 'Unnamed: 0'], axis=1)\n",
    "partition_df.columns = ['partition_id', 'date', 'Transcript', 'topic']\n",
    "partition_df['topic'] = partition_df.apply(lambda x: \"_\".join(x.topic.replace(',', '').split(\" \")), axis=1)\n",
    "partition_df['date'] = pd.to_datetime(partition_df['date'])\n",
    "partition_df['month'] = partition_df['date'].apply(lambda x: x.strftime('%b').lower())"
   ]
  },
  {
   "cell_type": "code",
   "execution_count": 22,
   "metadata": {},
   "outputs": [
    {
     "data": {
      "text/html": [
       "<div>\n",
       "<style scoped>\n",
       "    .dataframe tbody tr th:only-of-type {\n",
       "        vertical-align: middle;\n",
       "    }\n",
       "\n",
       "    .dataframe tbody tr th {\n",
       "        vertical-align: top;\n",
       "    }\n",
       "\n",
       "    .dataframe thead th {\n",
       "        text-align: right;\n",
       "    }\n",
       "</style>\n",
       "<table border=\"1\" class=\"dataframe\">\n",
       "  <thead>\n",
       "    <tr style=\"text-align: right;\">\n",
       "      <th></th>\n",
       "      <th>partition_id</th>\n",
       "      <th>date</th>\n",
       "      <th>Transcript</th>\n",
       "      <th>topic</th>\n",
       "      <th>month</th>\n",
       "    </tr>\n",
       "  </thead>\n",
       "  <tbody>\n",
       "    <tr>\n",
       "      <th>0</th>\n",
       "      <td>435</td>\n",
       "      <td>2014-03-01</td>\n",
       "      <td>Lofty will stay with us for a few days injamie...</td>\n",
       "      <td>Communities_and_families</td>\n",
       "      <td>mar</td>\n",
       "    </tr>\n",
       "    <tr>\n",
       "      <th>1</th>\n",
       "      <td>435</td>\n",
       "      <td>2014-03-01</td>\n",
       "      <td>Today I was led to believe that a patient I ha...</td>\n",
       "      <td>Parliament_government_and_politics</td>\n",
       "      <td>mar</td>\n",
       "    </tr>\n",
       "    <tr>\n",
       "      <th>2</th>\n",
       "      <td>435</td>\n",
       "      <td>2014-03-01</td>\n",
       "      <td>I want you think very carefully before you say...</td>\n",
       "      <td>International_affairs</td>\n",
       "      <td>mar</td>\n",
       "    </tr>\n",
       "    <tr>\n",
       "      <th>3</th>\n",
       "      <td>435</td>\n",
       "      <td>2014-03-01</td>\n",
       "      <td>Also tonight, Ed Miliband’s plans to reform La...</td>\n",
       "      <td>Parliament_government_and_politics</td>\n",
       "      <td>mar</td>\n",
       "    </tr>\n",
       "    <tr>\n",
       "      <th>4</th>\n",
       "      <td>435</td>\n",
       "      <td>2014-03-01</td>\n",
       "      <td>And Newcastle’s manager, Alan Pardew, is sent ...</td>\n",
       "      <td>Parliament_government_and_politics</td>\n",
       "      <td>mar</td>\n",
       "    </tr>\n",
       "    <tr>\n",
       "      <th>...</th>\n",
       "      <td>...</td>\n",
       "      <td>...</td>\n",
       "      <td>...</td>\n",
       "      <td>...</td>\n",
       "      <td>...</td>\n",
       "    </tr>\n",
       "    <tr>\n",
       "      <th>18958</th>\n",
       "      <td>730</td>\n",
       "      <td>2014-11-25</td>\n",
       "      <td>Well, you can buy a helmet very similar to the...</td>\n",
       "      <td>Culture_media_and_sport</td>\n",
       "      <td>nov</td>\n",
       "    </tr>\n",
       "    <tr>\n",
       "      <th>18959</th>\n",
       "      <td>730</td>\n",
       "      <td>2014-11-25</td>\n",
       "      <td>Manchester City have kept alive their slim cha...</td>\n",
       "      <td>Culture_media_and_sport</td>\n",
       "      <td>nov</td>\n",
       "    </tr>\n",
       "    <tr>\n",
       "      <th>18960</th>\n",
       "      <td>730</td>\n",
       "      <td>2014-11-25</td>\n",
       "      <td>A win over Roma in their final match could be ...</td>\n",
       "      <td>Culture_media_and_sport</td>\n",
       "      <td>nov</td>\n",
       "    </tr>\n",
       "    <tr>\n",
       "      <th>18961</th>\n",
       "      <td>730</td>\n",
       "      <td>2014-11-25</td>\n",
       "      <td>A coroner has ruled that a problem with the fr...</td>\n",
       "      <td>Health_services_and_medicine</td>\n",
       "      <td>nov</td>\n",
       "    </tr>\n",
       "    <tr>\n",
       "      <th>18962</th>\n",
       "      <td>730</td>\n",
       "      <td>2014-11-25</td>\n",
       "      <td>Her mum, Debbie, has created a memory room at ...</td>\n",
       "      <td>Health_services_and_medicine</td>\n",
       "      <td>nov</td>\n",
       "    </tr>\n",
       "  </tbody>\n",
       "</table>\n",
       "<p>36745 rows × 5 columns</p>\n",
       "</div>"
      ],
      "text/plain": [
       "       partition_id       date  \\\n",
       "0               435 2014-03-01   \n",
       "1               435 2014-03-01   \n",
       "2               435 2014-03-01   \n",
       "3               435 2014-03-01   \n",
       "4               435 2014-03-01   \n",
       "...             ...        ...   \n",
       "18958           730 2014-11-25   \n",
       "18959           730 2014-11-25   \n",
       "18960           730 2014-11-25   \n",
       "18961           730 2014-11-25   \n",
       "18962           730 2014-11-25   \n",
       "\n",
       "                                              Transcript  \\\n",
       "0      Lofty will stay with us for a few days injamie...   \n",
       "1      Today I was led to believe that a patient I ha...   \n",
       "2      I want you think very carefully before you say...   \n",
       "3      Also tonight, Ed Miliband’s plans to reform La...   \n",
       "4      And Newcastle’s manager, Alan Pardew, is sent ...   \n",
       "...                                                  ...   \n",
       "18958  Well, you can buy a helmet very similar to the...   \n",
       "18959  Manchester City have kept alive their slim cha...   \n",
       "18960  A win over Roma in their final match could be ...   \n",
       "18961  A coroner has ruled that a problem with the fr...   \n",
       "18962  Her mum, Debbie, has created a memory room at ...   \n",
       "\n",
       "                                    topic month  \n",
       "0                Communities_and_families   mar  \n",
       "1      Parliament_government_and_politics   mar  \n",
       "2                   International_affairs   mar  \n",
       "3      Parliament_government_and_politics   mar  \n",
       "4      Parliament_government_and_politics   mar  \n",
       "...                                   ...   ...  \n",
       "18958             Culture_media_and_sport   nov  \n",
       "18959             Culture_media_and_sport   nov  \n",
       "18960             Culture_media_and_sport   nov  \n",
       "18961        Health_services_and_medicine   nov  \n",
       "18962        Health_services_and_medicine   nov  \n",
       "\n",
       "[36745 rows x 5 columns]"
      ]
     },
     "execution_count": 22,
     "metadata": {},
     "output_type": "execute_result"
    }
   ],
   "source": [
    "partition_df"
   ]
  },
  {
   "cell_type": "code",
   "execution_count": 23,
   "metadata": {},
   "outputs": [
    {
     "data": {
      "text/plain": [
       "array(['Communities_and_families', 'Parliament_government_and_politics',\n",
       "       'International_affairs', 'Culture_media_and_sport',\n",
       "       'Health_services_and_medicine', 'Transport',\n",
       "       'Business_industry_and_consumers', 'Energy_and_environment',\n",
       "       'Defence', 'Crime_civil_law_justice_and_rights',\n",
       "       'Agriculture_animals_food_and_rural_affairs',\n",
       "       'Economy_and_finance', 'Education',\n",
       "       'Asylum_immigration_and_nationality', 'Employment_and_training',\n",
       "       'European_Union', 'Housing_and_planning', 'Science_and_technology',\n",
       "       'Social_services'], dtype=object)"
      ]
     },
     "execution_count": 23,
     "metadata": {},
     "output_type": "execute_result"
    }
   ],
   "source": [
    "topics = partition_df.topic.unique()\n",
    "topics"
   ]
  },
  {
   "cell_type": "markdown",
   "metadata": {},
   "source": [
    "# split all topics"
   ]
  },
  {
   "cell_type": "code",
   "execution_count": 24,
   "metadata": {},
   "outputs": [],
   "source": [
    "months = ['jan', 'feb', 'mar', 'apr', 'may', 'jun', 'jul', 'aug', 'sep', 'oct', 'nov', 'dec']\n",
    "for topic in topics:\n",
    "    path = '{}_{}/{}/transcripts'.format(bbc_id, topic, year)\n",
    "    Path(path).mkdir(parents=True, exist_ok=True)\n",
    "    partition_for_topic = partition_df[partition_df.topic == topic]\n",
    "    \n",
    "    for month in months:\n",
    "        partition_for_topic_and_month = partition_for_topic.loc[partition_for_topic.month == month]\n",
    "        if (len(partition_for_topic_and_month) == 0):\n",
    "            continue\n",
    "        partition_for_topic_and_month.to_csv(os.path.join(path, 'BBC+News {}-{} {}_{}.csv'.format(month,\n",
    "                                                                                                  year,\n",
    "                                                                                                  bbc_id,\n",
    "                                                                                                  topic)))"
   ]
  },
  {
   "cell_type": "markdown",
   "metadata": {},
   "source": [
    "# split eu-non-eu"
   ]
  },
  {
   "cell_type": "code",
   "execution_count": 20,
   "metadata": {},
   "outputs": [],
   "source": [
    "partition_df['eu_topic'] = partition_df['topic'].apply(lambda x: \"EU\" if x == 'European Union' else \"non_EU\")\n",
    "\n",
    "for month in months:\n",
    "\n",
    "    df_year_month = partition_df.loc[partition_df.month == month]\n",
    "    df_year_month_eu = df_year_month.loc[df_year_month.eu_topic == \"EU\"].reset_index(drop=True)\n",
    "    df_year_month_non_eu = df_year_month.loc[df_year_month.eu_topic == \"non_EU\"].reset_index(drop=True)\n",
    "\n",
    "    directory = '{}_{}/{}/transcripts'.format(bbc_id, 'EU', year)\n",
    "    path = '{}_{}/{}/transcripts/BBC+News {}-{} {}_{}.csv'.format(bbc_id, 'EU', year, month, year, bbc_id, 'EU')\n",
    "\n",
    "    if not os.path.exists(directory):\n",
    "        os.makedirs(directory)\n",
    "    df_year_month_eu.to_csv(path)\n",
    "\n",
    "    directory = '{}_{}/{}/transcripts'.format(bbc_id, 'non_EU', year)\n",
    "    path = '{}_{}/{}/transcripts/BBC+News {}-{} {}_{}.csv'.format(bbc_id, 'non_EU', year, month, year, bbc_id, 'non_EU')\n",
    "\n",
    "    if not os.path.exists(directory):\n",
    "        os.makedirs(directory)\n",
    "    df_year_month_non_eu.to_csv(path)"
   ]
  },
  {
   "cell_type": "markdown",
   "metadata": {},
   "source": [
    "# split eu-non-eu phrase"
   ]
  },
  {
   "cell_type": "code",
   "execution_count": 21,
   "metadata": {},
   "outputs": [],
   "source": [
    "partition_df['eu_phrase'] = partition_df['Transcript'].apply(lambda x: contains_european(x))\n",
    "for month in months:\n",
    "\n",
    "    df_year_month = partition_df.loc[partition_df.month == month]\n",
    "    df_year_month_eu = df_year_month.loc[df_year_month.eu_phrase == \"EU\"].reset_index(drop=True)\n",
    "    df_year_month_non_eu = df_year_month.loc[df_year_month.eu_phrase == \"non_EU\"].reset_index(drop=True)\n",
    "\n",
    "    directory = './phrase/{}_{}/{}/transcripts'.format(bbc_id, 'EU', year)\n",
    "    path = './phrase/{}_{}/{}/transcripts/BBC+News {}-{} {}_{}.csv'.format(bbc_id, 'EU', year, month, year, bbc_id, 'EU')\n",
    "\n",
    "    if not os.path.exists(directory):\n",
    "        os.makedirs(directory)\n",
    "    df_year_month_eu.to_csv(path)\n",
    "\n",
    "    directory = './phrase/{}_{}/{}/transcripts'.format(bbc_id, 'non_EU', year)\n",
    "    path = './phrase/{}_{}/{}/transcripts/BBC+News {}-{} {}_{}.csv'.format(bbc_id, 'non_EU', year, month, year, bbc_id, 'non_EU')\n",
    "\n",
    "    if not os.path.exists(directory):\n",
    "        os.makedirs(directory)\n",
    "    df_year_month_non_eu.to_csv(path)"
   ]
  },
  {
   "cell_type": "code",
   "execution_count": null,
   "metadata": {},
   "outputs": [],
   "source": []
  }
 ],
 "metadata": {
  "kernelspec": {
   "display_name": "Python [conda env:econ] *",
   "language": "python",
   "name": "conda-env-econ-py"
  },
  "language_info": {
   "codemirror_mode": {
    "name": "ipython",
    "version": 3
   },
   "file_extension": ".py",
   "mimetype": "text/x-python",
   "name": "python",
   "nbconvert_exporter": "python",
   "pygments_lexer": "ipython3",
   "version": "3.7.7"
  }
 },
 "nbformat": 4,
 "nbformat_minor": 4
}
