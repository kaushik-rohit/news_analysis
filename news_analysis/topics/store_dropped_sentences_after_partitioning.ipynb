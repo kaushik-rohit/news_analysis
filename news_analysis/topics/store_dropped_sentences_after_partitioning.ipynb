{
 "cells": [
  {
   "cell_type": "code",
   "execution_count": 1,
   "metadata": {},
   "outputs": [
    {
     "name": "stderr",
     "output_type": "stream",
     "text": [
      "/home/ubuntu/anaconda3/envs/econ/lib/python3.7/site-packages/dask/dataframe/utils.py:15: FutureWarning: pandas.util.testing is deprecated. Use the functions in the public API at pandas.testing instead.\n",
      "  import pandas.util.testing as tm\n"
     ]
    }
   ],
   "source": [
    "import pandas as pd\n",
    "from gensim import models, corpora\n",
    "from gensim.parsing.preprocessing import preprocess_string, strip_tags, strip_punctuation\n",
    "from gensim.parsing.preprocessing import remove_stopwords, stem_text, strip_non_alphanum, strip_multiple_whitespaces\n",
    "from gensim.parsing.preprocessing import strip_short, strip_numeric\n",
    "from gensim.parsing.preprocessing import STOPWORDS\n",
    "from gensim.models.doc2vec import Doc2Vec, TaggedDocument\n",
    "from semantic_text_similarity.models import WebBertSimilarity\n",
    "import multiprocessing as mp\n",
    "import nltk\n",
    "import pandas as pd\n",
    "import numpy as np\n",
    "import tensorflow as tf\n",
    "from scipy import spatial\n",
    "import parmap\n",
    "import os\n",
    "import swifter\n",
    "from tqdm import tqdm"
   ]
  },
  {
   "cell_type": "code",
   "execution_count": 2,
   "metadata": {},
   "outputs": [],
   "source": [
    "topics_index_to_name_map = {\n",
    "    0: 'Agriculture, animals, food and rural affairs',\n",
    "    1: 'Asylum, immigration and nationality',\n",
    "    2: 'Business, industry and consumers',\n",
    "    3: 'Communities and families',\n",
    "    4: 'Crime, civil law, justice and rights',\n",
    "    5: 'Culture, media and sport',\n",
    "    6: 'Defence',\n",
    "    7: 'Economy and finance',\n",
    "    8: 'Education',\n",
    "    9: 'Employment and training',\n",
    "    10: 'Energy and environment',\n",
    "    11: 'European Union',\n",
    "    12: 'Health services and medicine',\n",
    "    13: 'Housing and planning',\n",
    "    14: 'International affairs',\n",
    "    15: 'Parliament, government and politics',\n",
    "    16: 'Science and technology',\n",
    "    17: 'Social security and pensions',\n",
    "    18: 'Social services',\n",
    "    19: 'Transport',\n",
    "    20: 'Others'\n",
    "}\n",
    "topics_name_to_index_map = {y:x for x,y in topics_index_to_name_map.items()}\n",
    "\n",
    "def strip_short2(text):\n",
    "    return strip_short(text, minsize=4)\n",
    "\n",
    "\n",
    "def preprocess_text(text):\n",
    "    FILTERS = [lambda x: x.lower(), strip_multiple_whitespaces, strip_tags, strip_punctuation,\n",
    "                   strip_non_alphanum, strip_numeric, strip_short2]\n",
    "    return preprocess_string(text, FILTERS)\n",
    "\n",
    "def preprocess(topic):\n",
    "    ret = []\n",
    "    topic = topic.strip()\n",
    "    \n",
    "    if '|' in topic:\n",
    "        topics = topic.split('|')\n",
    "        t = topics[0]\n",
    "        t = t.strip()\n",
    "        return topics_name_to_index_map[t]\n",
    "        \n",
    "    return topics_name_to_index_map[topic]"
   ]
  },
  {
   "cell_type": "code",
   "execution_count": 3,
   "metadata": {},
   "outputs": [
    {
     "data": {
      "text/html": [
       "<div>\n",
       "<style scoped>\n",
       "    .dataframe tbody tr th:only-of-type {\n",
       "        vertical-align: middle;\n",
       "    }\n",
       "\n",
       "    .dataframe tbody tr th {\n",
       "        vertical-align: top;\n",
       "    }\n",
       "\n",
       "    .dataframe thead th {\n",
       "        text-align: right;\n",
       "    }\n",
       "</style>\n",
       "<table border=\"1\" class=\"dataframe\">\n",
       "  <thead>\n",
       "    <tr style=\"text-align: right;\">\n",
       "      <th></th>\n",
       "      <th>Source</th>\n",
       "      <th>Date</th>\n",
       "      <th>Program Name</th>\n",
       "      <th>Time</th>\n",
       "      <th>Duration</th>\n",
       "      <th>Transcript</th>\n",
       "    </tr>\n",
       "  </thead>\n",
       "  <tbody>\n",
       "    <tr>\n",
       "      <th>0</th>\n",
       "      <td>BBC1 London</td>\n",
       "      <td>5-jul-2015</td>\n",
       "      <td>BBC News</td>\n",
       "      <td>18:35</td>\n",
       "      <td>15 mins</td>\n",
       "      <td># You’re stayin’ alive Stayin’ alive # Feel th...</td>\n",
       "    </tr>\n",
       "    <tr>\n",
       "      <th>1</th>\n",
       "      <td>BBC1 London</td>\n",
       "      <td>5-jul-2015</td>\n",
       "      <td>BBC News</td>\n",
       "      <td>22:20</td>\n",
       "      <td>20 mins</td>\n",
       "      <td>Greece has voted overwhelmingly to reject the ...</td>\n",
       "    </tr>\n",
       "    <tr>\n",
       "      <th>2</th>\n",
       "      <td>BBC1 London</td>\n",
       "      <td>4-jul-2015</td>\n",
       "      <td>BBC London News</td>\n",
       "      <td>17:10</td>\n",
       "      <td>5 mins</td>\n",
       "      <td>Thank wu warg nwuch. Formula One now, and Lewi...</td>\n",
       "    </tr>\n",
       "    <tr>\n",
       "      <th>3</th>\n",
       "      <td>BBC1 London</td>\n",
       "      <td>4-jul-2015</td>\n",
       "      <td>BBC News</td>\n",
       "      <td>22:20</td>\n",
       "      <td>20 mins</td>\n",
       "      <td># Hold back the river Let me look in your eyes...</td>\n",
       "    </tr>\n",
       "    <tr>\n",
       "      <th>4</th>\n",
       "      <td>BBC1 London</td>\n",
       "      <td>7-jul-2015</td>\n",
       "      <td>BBC News at Six</td>\n",
       "      <td>18:00</td>\n",
       "      <td>30 mins</td>\n",
       "      <td>Ginger Baker is one of the most innovative dru...</td>\n",
       "    </tr>\n",
       "    <tr>\n",
       "      <th>...</th>\n",
       "      <td>...</td>\n",
       "      <td>...</td>\n",
       "      <td>...</td>\n",
       "      <td>...</td>\n",
       "      <td>...</td>\n",
       "      <td>...</td>\n",
       "    </tr>\n",
       "    <tr>\n",
       "      <th>1356</th>\n",
       "      <td>BBC1 London</td>\n",
       "      <td>30-jan-2015</td>\n",
       "      <td>BBC News at One</td>\n",
       "      <td>13:00</td>\n",
       "      <td>40 mins</td>\n",
       "      <td>Ashley was to walk down here now, I’d justjump...</td>\n",
       "    </tr>\n",
       "    <tr>\n",
       "      <th>1357</th>\n",
       "      <td>BBC News 24</td>\n",
       "      <td>30-jan-2015</td>\n",
       "      <td>BBC News at Six</td>\n",
       "      <td>18:00</td>\n",
       "      <td>30 mins</td>\n",
       "      <td>Ten minutes! ..Six and a half! Sewers, you hav...</td>\n",
       "    </tr>\n",
       "    <tr>\n",
       "      <th>1358</th>\n",
       "      <td>BBC1 London</td>\n",
       "      <td>30-jan-2015</td>\n",
       "      <td>BBC News at Ten</td>\n",
       "      <td>22:00</td>\n",
       "      <td>25 mins</td>\n",
       "      <td>The Church of England and the Catholic Church ...</td>\n",
       "    </tr>\n",
       "    <tr>\n",
       "      <th>1359</th>\n",
       "      <td>BBC1 London</td>\n",
       "      <td>25-jan-2015</td>\n",
       "      <td>BBC Weekend News</td>\n",
       "      <td>13:00</td>\n",
       "      <td>15 mins</td>\n",
       "      <td>20 years of planning. 10 years experimenting. ...</td>\n",
       "    </tr>\n",
       "    <tr>\n",
       "      <th>1360</th>\n",
       "      <td>BBC1 London</td>\n",
       "      <td>25-jan-2015</td>\n",
       "      <td>BBC Weekend News</td>\n",
       "      <td>22:00</td>\n",
       "      <td>20 mins</td>\n",
       "      <td>I don’t think this was an accident. I think th...</td>\n",
       "    </tr>\n",
       "  </tbody>\n",
       "</table>\n",
       "<p>1361 rows × 6 columns</p>\n",
       "</div>"
      ],
      "text/plain": [
       "           Source         Date      Program Name   Time Duration  \\\n",
       "0     BBC1 London   5-jul-2015          BBC News  18:35  15 mins   \n",
       "1     BBC1 London   5-jul-2015          BBC News  22:20  20 mins   \n",
       "2     BBC1 London   4-jul-2015   BBC London News  17:10   5 mins   \n",
       "3     BBC1 London   4-jul-2015          BBC News  22:20  20 mins   \n",
       "4     BBC1 London   7-jul-2015   BBC News at Six  18:00  30 mins   \n",
       "...           ...          ...               ...    ...      ...   \n",
       "1356  BBC1 London  30-jan-2015   BBC News at One  13:00  40 mins   \n",
       "1357  BBC News 24  30-jan-2015   BBC News at Six  18:00  30 mins   \n",
       "1358  BBC1 London  30-jan-2015   BBC News at Ten  22:00  25 mins   \n",
       "1359  BBC1 London  25-jan-2015  BBC Weekend News  13:00  15 mins   \n",
       "1360  BBC1 London  25-jan-2015  BBC Weekend News  22:00  20 mins   \n",
       "\n",
       "                                             Transcript  \n",
       "0     # You’re stayin’ alive Stayin’ alive # Feel th...  \n",
       "1     Greece has voted overwhelmingly to reject the ...  \n",
       "2     Thank wu warg nwuch. Formula One now, and Lewi...  \n",
       "3     # Hold back the river Let me look in your eyes...  \n",
       "4     Ginger Baker is one of the most innovative dru...  \n",
       "...                                                 ...  \n",
       "1356  Ashley was to walk down here now, I’d justjump...  \n",
       "1357  Ten minutes! ..Six and a half! Sewers, you hav...  \n",
       "1358  The Church of England and the Catholic Church ...  \n",
       "1359  20 years of planning. 10 years experimenting. ...  \n",
       "1360  I don’t think this was an accident. I think th...  \n",
       "\n",
       "[1361 rows x 6 columns]"
      ]
     },
     "execution_count": 3,
     "metadata": {},
     "output_type": "execute_result"
    }
   ],
   "source": [
    "path = './data/bbc/2015/transcripts'\n",
    "files = os.listdir(path)\n",
    "\n",
    "data = []\n",
    "for source in files:\n",
    "    data.append(pd.read_csv(os.path.join(path, source)))\n",
    "df = pd.concat(data)\n",
    "df = df.drop(['Unnamed: 0', 'Has Transcript', 'Unavailable link', 'Unavailable reason'], axis=1)\n",
    "df = df.reset_index(drop=True)\n",
    "df"
   ]
  },
  {
   "cell_type": "code",
   "execution_count": 4,
   "metadata": {},
   "outputs": [],
   "source": [
    "def filter_short_sentence(sentences):\n",
    "    n_sent = len(sentences)\n",
    "    filtered_sentences = []\n",
    "    for i in range(n_sent):\n",
    "        if len(sentences[i].split()) < 10:\n",
    "            filtered_sentences.append(sentences[i])\n",
    "    return filtered_sentences\n",
    "\n",
    "def get_short_sentences(transcript):\n",
    "    cluster = []\n",
    "    sentences = nltk.sent_tokenize(transcript)\n",
    "    sentences = filter_short_sentence(sentences)\n",
    "    \n",
    "    return sentences"
   ]
  },
  {
   "cell_type": "code",
   "execution_count": 5,
   "metadata": {},
   "outputs": [],
   "source": [
    "transcripts = df['Transcript'].values"
   ]
  },
  {
   "cell_type": "code",
   "execution_count": 6,
   "metadata": {},
   "outputs": [
    {
     "name": "stderr",
     "output_type": "stream",
     "text": [
      "100%|██████████| 1361/1361 [00:15<00:00, 87.18it/s] \n"
     ]
    }
   ],
   "source": [
    "short_sentences = []\n",
    "for transcript in tqdm(transcripts):\n",
    "    short_sentences.extend(get_short_sentences(transcript))"
   ]
  },
  {
   "cell_type": "code",
   "execution_count": 9,
   "metadata": {},
   "outputs": [
    {
     "data": {
      "text/plain": [
       "'I don’t want this to be a show.'"
      ]
     },
     "execution_count": 9,
     "metadata": {},
     "output_type": "execute_result"
    }
   ],
   "source": [
    "short_sentences[2]"
   ]
  },
  {
   "cell_type": "code",
   "execution_count": 10,
   "metadata": {},
   "outputs": [],
   "source": [
    "with open('dropped_sentences_2015.txt', 'w') as f:\n",
    "    f.writelines(short_sentences)"
   ]
  },
  {
   "cell_type": "code",
   "execution_count": null,
   "metadata": {},
   "outputs": [],
   "source": []
  }
 ],
 "metadata": {
  "kernelspec": {
   "display_name": "Python [conda env:econ] *",
   "language": "python",
   "name": "conda-env-econ-py"
  },
  "language_info": {
   "codemirror_mode": {
    "name": "ipython",
    "version": 3
   },
   "file_extension": ".py",
   "mimetype": "text/x-python",
   "name": "python",
   "nbconvert_exporter": "python",
   "pygments_lexer": "ipython3",
   "version": "3.7.7"
  }
 },
 "nbformat": 4,
 "nbformat_minor": 4
}
