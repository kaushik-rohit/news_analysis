{
 "cells": [
  {
   "cell_type": "code",
   "execution_count": 17,
   "metadata": {},
   "outputs": [],
   "source": [
    "import pandas as pd\n",
    "from gensim import models, corpora\n",
    "from gensim.parsing.preprocessing import preprocess_string, strip_tags, strip_punctuation\n",
    "from gensim.parsing.preprocessing import remove_stopwords, stem_text, strip_non_alphanum, strip_multiple_whitespaces\n",
    "from gensim.parsing.preprocessing import strip_short, strip_numeric\n",
    "from gensim.parsing.preprocessing import STOPWORDS\n",
    "from gensim.models.doc2vec import Doc2Vec, TaggedDocument\n",
    "import nltk\n",
    "import pandas as pd\n",
    "import numpy as np\n",
    "import tensorflow as tf"
   ]
  },
  {
   "cell_type": "code",
   "execution_count": 18,
   "metadata": {},
   "outputs": [],
   "source": [
    "topics_index_to_name_map = {\n",
    "    0: 'Agriculture, animals, food and rural affairs',\n",
    "    1: 'Asylum, immigration and nationality',\n",
    "    2: 'Business, industry and consumers',\n",
    "    3: 'Communities and families',\n",
    "    4: 'Crime, civil law, justice and rights',\n",
    "    5: 'Culture, media and sport',\n",
    "    6: 'Defence',\n",
    "    7: 'Economy and finance',\n",
    "    8: 'Education',\n",
    "    9: 'Employment and training',\n",
    "    10: 'Energy and environment',\n",
    "    11: 'European Union',\n",
    "    12: 'Health services and medicine',\n",
    "    13: 'Housing and planning',\n",
    "    14: 'International affairs',\n",
    "    15: 'Parliament, government and politics',\n",
    "    16: 'Science and technology',\n",
    "    17: 'Social security and pensions',\n",
    "    18: 'Social services',\n",
    "    19: 'Transport',\n",
    "    20: 'Others'\n",
    "}\n",
    "topics_name_to_index_map = {y:x for x,y in topics_index_to_name_map.items()}\n",
    "\n",
    "def strip_short2(text):\n",
    "    return strip_short(text, minsize=4)\n",
    "\n",
    "def remove_non_nouns(text):\n",
    "    tokens = nltk.word_tokenize(text)\n",
    "    tags = nltk.pos_tag(tokens)\n",
    "    filter_tokens = [t[0] for t in tags if t[1] == \"NN\" or t[1] == \"VB\"]\n",
    "    return ' '.join(filter_tokens)\n",
    "\n",
    "\n",
    "def remove_custom_stopwords(s):\n",
    "    my_stop_words = STOPWORDS.union(set(['time', 'year', 'number', 'today', 'week', 'month', 'night', 'world', 'home',\n",
    "                                         'place', 'yesterday', 'life', 'wife']))\n",
    "    return \" \".join(w for w in s.split() if w not in my_stop_words)\n",
    "\n",
    "\n",
    "def preprocess_text_for_lda(text):\n",
    "    LDA_FILTERS = [lambda x: x.lower(), strip_multiple_whitespaces, strip_tags, strip_punctuation,\n",
    "                   remove_custom_stopwords, strip_non_alphanum, strip_numeric, strip_short2]\n",
    "    return preprocess_string(text, LDA_FILTERS)\n",
    "\n",
    "def filter_multiple_topics(topic):\n",
    "    if '|' in topic:\n",
    "        return topic.split('|')[0].strip()\n",
    "    return topic\n",
    "\n",
    "def preprocess(topic):\n",
    "    t = filter_multiple_topics(topic)\n",
    "    if t == 'admin':\n",
    "        t = 'Others'\n",
    "        \n",
    "    return topics_name_to_index_map[t]"
   ]
  },
  {
   "cell_type": "code",
   "execution_count": 19,
   "metadata": {},
   "outputs": [],
   "source": [
    "df = pd.read_csv('./data/2014_speech.csv')\n",
    "df = df.drop(df[df.topic == 'admin'].index)\n",
    "df = df.drop(df[df.transcript.str.split().map(len) < 10].index).reset_index()\n",
    "df['topic'] = df.apply(lambda row: preprocess(row['topic']), axis=1)"
   ]
  },
  {
   "cell_type": "code",
   "execution_count": 20,
   "metadata": {},
   "outputs": [
    {
     "data": {
      "text/html": [
       "<div>\n",
       "<style scoped>\n",
       "    .dataframe tbody tr th:only-of-type {\n",
       "        vertical-align: middle;\n",
       "    }\n",
       "\n",
       "    .dataframe tbody tr th {\n",
       "        vertical-align: top;\n",
       "    }\n",
       "\n",
       "    .dataframe thead th {\n",
       "        text-align: right;\n",
       "    }\n",
       "</style>\n",
       "<table border=\"1\" class=\"dataframe\">\n",
       "  <thead>\n",
       "    <tr style=\"text-align: right;\">\n",
       "      <th></th>\n",
       "      <th>index</th>\n",
       "      <th>date</th>\n",
       "      <th>topic</th>\n",
       "      <th>transcript</th>\n",
       "    </tr>\n",
       "  </thead>\n",
       "  <tbody>\n",
       "    <tr>\n",
       "      <th>0</th>\n",
       "      <td>0</td>\n",
       "      <td>2014-01-06</td>\n",
       "      <td>8</td>\n",
       "      <td>1.  What assessment he has made of the perform...</td>\n",
       "    </tr>\n",
       "    <tr>\n",
       "      <th>1</th>\n",
       "      <td>1</td>\n",
       "      <td>2014-01-06</td>\n",
       "      <td>8</td>\n",
       "      <td>I associate myself and those on the Front Benc...</td>\n",
       "    </tr>\n",
       "    <tr>\n",
       "      <th>2</th>\n",
       "      <td>2</td>\n",
       "      <td>2014-01-06</td>\n",
       "      <td>8</td>\n",
       "      <td>I wish you, Mr Speaker, and the whole House al...</td>\n",
       "    </tr>\n",
       "    <tr>\n",
       "      <th>3</th>\n",
       "      <td>3</td>\n",
       "      <td>2014-01-06</td>\n",
       "      <td>8</td>\n",
       "      <td>My hon. Friend is absolutely right. Parents ar...</td>\n",
       "    </tr>\n",
       "    <tr>\n",
       "      <th>4</th>\n",
       "      <td>4</td>\n",
       "      <td>2014-01-06</td>\n",
       "      <td>8</td>\n",
       "      <td>Does not the evidence show that the most impor...</td>\n",
       "    </tr>\n",
       "    <tr>\n",
       "      <th>...</th>\n",
       "      <td>...</td>\n",
       "      <td>...</td>\n",
       "      <td>...</td>\n",
       "      <td>...</td>\n",
       "    </tr>\n",
       "    <tr>\n",
       "      <th>53055</th>\n",
       "      <td>60274</td>\n",
       "      <td>2014-12-18</td>\n",
       "      <td>9</td>\n",
       "      <td>We are not going to get into that. It is Chris...</td>\n",
       "    </tr>\n",
       "    <tr>\n",
       "      <th>53056</th>\n",
       "      <td>60275</td>\n",
       "      <td>2014-12-18</td>\n",
       "      <td>9</td>\n",
       "      <td>Thank you, Mr Deputy Speaker. As the hon. Gent...</td>\n",
       "    </tr>\n",
       "    <tr>\n",
       "      <th>53057</th>\n",
       "      <td>60276</td>\n",
       "      <td>2014-12-18</td>\n",
       "      <td>9</td>\n",
       "      <td>On a point of order, Mr Deputy Speaker. If you...</td>\n",
       "    </tr>\n",
       "    <tr>\n",
       "      <th>53058</th>\n",
       "      <td>60277</td>\n",
       "      <td>2014-12-18</td>\n",
       "      <td>9</td>\n",
       "      <td>I do not want this debate to deteriorate any f...</td>\n",
       "    </tr>\n",
       "    <tr>\n",
       "      <th>53059</th>\n",
       "      <td>60278</td>\n",
       "      <td>2014-12-18</td>\n",
       "      <td>9</td>\n",
       "      <td>As I said to the right hon. Member for East Ha...</td>\n",
       "    </tr>\n",
       "  </tbody>\n",
       "</table>\n",
       "<p>53060 rows × 4 columns</p>\n",
       "</div>"
      ],
      "text/plain": [
       "       index        date  topic  \\\n",
       "0          0  2014-01-06      8   \n",
       "1          1  2014-01-06      8   \n",
       "2          2  2014-01-06      8   \n",
       "3          3  2014-01-06      8   \n",
       "4          4  2014-01-06      8   \n",
       "...      ...         ...    ...   \n",
       "53055  60274  2014-12-18      9   \n",
       "53056  60275  2014-12-18      9   \n",
       "53057  60276  2014-12-18      9   \n",
       "53058  60277  2014-12-18      9   \n",
       "53059  60278  2014-12-18      9   \n",
       "\n",
       "                                              transcript  \n",
       "0      1.  What assessment he has made of the perform...  \n",
       "1      I associate myself and those on the Front Benc...  \n",
       "2      I wish you, Mr Speaker, and the whole House al...  \n",
       "3      My hon. Friend is absolutely right. Parents ar...  \n",
       "4      Does not the evidence show that the most impor...  \n",
       "...                                                  ...  \n",
       "53055  We are not going to get into that. It is Chris...  \n",
       "53056  Thank you, Mr Deputy Speaker. As the hon. Gent...  \n",
       "53057  On a point of order, Mr Deputy Speaker. If you...  \n",
       "53058  I do not want this debate to deteriorate any f...  \n",
       "53059  As I said to the right hon. Member for East Ha...  \n",
       "\n",
       "[53060 rows x 4 columns]"
      ]
     },
     "execution_count": 20,
     "metadata": {},
     "output_type": "execute_result"
    }
   ],
   "source": [
    "df"
   ]
  },
  {
   "cell_type": "code",
   "execution_count": 21,
   "metadata": {},
   "outputs": [],
   "source": [
    "X = df['transcript'].values\n",
    "Y = df['topic'].values"
   ]
  },
  {
   "cell_type": "code",
   "execution_count": 24,
   "metadata": {},
   "outputs": [],
   "source": [
    "def build_network():\n",
    "    model = tf.keras.models.Sequential([\n",
    "        tf.keras.Input(shape=(300)),\n",
    "        tf.keras.layers.Dense(512, activation='relu', kernel_regularizer=tf.keras.regularizers.l2(l=0.001)),\n",
    "        tf.keras.layers.Dropout(0.1),\n",
    "        tf.keras.layers.Dense(256, activation='relu', kernel_regularizer=tf.keras.regularizers.l2(l=0.001)),\n",
    "        tf.keras.layers.Dropout(0.1),\n",
    "        tf.keras.layers.Dense(21, activation='softmax')\n",
    "    ])\n",
    "    loss_fn = tf.keras.losses.CategoricalCrossentropy(from_logits=False, label_smoothing=0, name='categorical_crossentropy')\n",
    "\n",
    "    model.compile(optimizer=tf.keras.optimizers.Adam(),\n",
    "              loss=loss_fn,\n",
    "              metrics=['accuracy'])\n",
    "    \n",
    "    return model"
   ]
  },
  {
   "cell_type": "code",
   "execution_count": 25,
   "metadata": {},
   "outputs": [
    {
     "data": {
      "text/plain": [
       "<tensorflow.python.training.tracking.util.CheckpointLoadStatus at 0x7f59005821d0>"
      ]
     },
     "execution_count": 25,
     "metadata": {},
     "output_type": "execute_result"
    }
   ],
   "source": [
    "doc2vec_model = Doc2Vec.load('doc2vec')\n",
    "classifier = build_network()\n",
    "classifier.load_weights('./topics_classifier')"
   ]
  },
  {
   "cell_type": "code",
   "execution_count": 26,
   "metadata": {},
   "outputs": [],
   "source": [
    "def predict(X, topn=3):\n",
    "    preprocessed_X = preprocess_text_for_lda(X)\n",
    "    vec_X = doc2vec_model.infer_vector(preprocessed_X)\n",
    "    vec_X = vec_X.reshape(1, vec_X.shape[0])\n",
    "    pred = classifier.predict(vec_X)\n",
    "    pred_i = [(topics_index_to_name_map[i], p) for i,p in enumerate(pred[0])]\n",
    "    pred_sorted = sorted(pred_i, key=lambda x: x[1], reverse=True)\n",
    "    return pred_sorted[:topn]"
   ]
  },
  {
   "cell_type": "code",
   "execution_count": 27,
   "metadata": {},
   "outputs": [],
   "source": [
    "i = 15686"
   ]
  },
  {
   "cell_type": "code",
   "execution_count": 28,
   "metadata": {},
   "outputs": [
    {
     "data": {
      "text/plain": [
       "[('Communities and families', 0.400531),\n",
       " ('Education', 0.3681568),\n",
       " ('Social services', 0.06354658)]"
      ]
     },
     "execution_count": 28,
     "metadata": {},
     "output_type": "execute_result"
    }
   ],
   "source": [
    "predict(X[i])"
   ]
  },
  {
   "cell_type": "code",
   "execution_count": 29,
   "metadata": {},
   "outputs": [
    {
     "data": {
      "text/plain": [
       "(8, 'Education')"
      ]
     },
     "execution_count": 29,
     "metadata": {},
     "output_type": "execute_result"
    }
   ],
   "source": [
    "Y[i], topics_index_to_name_map[Y[i]]"
   ]
  },
  {
   "cell_type": "code",
   "execution_count": 30,
   "metadata": {},
   "outputs": [
    {
     "data": {
      "text/plain": [
       "'The right hon. Gentleman is correct to raise that issue, of which I am conscious from the statistics that he shared with the House. That is why we have made it clear—not only through the Children and Families Act 2014—that although ethnicity is an important consideration when matching for adoption, it should not be the single guiding principle that determines whether prospective adopters take on a child with a different ethnic mix from theirs. It is also why we are helping to fund local authorities, in partnership with independent fostering agencies, to examine how they can recruit more widely across our communities so that we ensure that we have a good cross-section of people coming forward to adopt.  We need to make people aware that some of the myths and barriers that they think prevent them from adopting do not exist. We want more people to come forward, so we should do everything that we can to encourage them to do so. '"
      ]
     },
     "execution_count": 30,
     "metadata": {},
     "output_type": "execute_result"
    }
   ],
   "source": [
    "X[i]"
   ]
  },
  {
   "cell_type": "code",
   "execution_count": 31,
   "metadata": {},
   "outputs": [],
   "source": [
    "df['topic'] = df.apply(lambda row: topics_index_to_name_map[row['topic']], axis=1)"
   ]
  },
  {
   "cell_type": "code",
   "execution_count": 32,
   "metadata": {},
   "outputs": [],
   "source": [
    "df['predicted_topic'] = df.apply(lambda row: predict(row['transcript']), axis=1)"
   ]
  },
  {
   "cell_type": "code",
   "execution_count": 33,
   "metadata": {},
   "outputs": [],
   "source": [
    "df.to_csv('./pred.csv')"
   ]
  },
  {
   "cell_type": "code",
   "execution_count": 34,
   "metadata": {},
   "outputs": [
    {
     "data": {
      "text/html": [
       "<div>\n",
       "<style scoped>\n",
       "    .dataframe tbody tr th:only-of-type {\n",
       "        vertical-align: middle;\n",
       "    }\n",
       "\n",
       "    .dataframe tbody tr th {\n",
       "        vertical-align: top;\n",
       "    }\n",
       "\n",
       "    .dataframe thead th {\n",
       "        text-align: right;\n",
       "    }\n",
       "</style>\n",
       "<table border=\"1\" class=\"dataframe\">\n",
       "  <thead>\n",
       "    <tr style=\"text-align: right;\">\n",
       "      <th></th>\n",
       "      <th>index</th>\n",
       "      <th>date</th>\n",
       "      <th>topic</th>\n",
       "      <th>transcript</th>\n",
       "      <th>predicted_topic</th>\n",
       "    </tr>\n",
       "  </thead>\n",
       "  <tbody>\n",
       "    <tr>\n",
       "      <th>0</th>\n",
       "      <td>0</td>\n",
       "      <td>2014-01-06</td>\n",
       "      <td>Education</td>\n",
       "      <td>1.  What assessment he has made of the perform...</td>\n",
       "      <td>[(Parliament, government and politics, 0.15913...</td>\n",
       "    </tr>\n",
       "    <tr>\n",
       "      <th>1</th>\n",
       "      <td>1</td>\n",
       "      <td>2014-01-06</td>\n",
       "      <td>Education</td>\n",
       "      <td>I associate myself and those on the Front Benc...</td>\n",
       "      <td>[(Education, 0.9308774), (Others, 0.05554033),...</td>\n",
       "    </tr>\n",
       "    <tr>\n",
       "      <th>2</th>\n",
       "      <td>2</td>\n",
       "      <td>2014-01-06</td>\n",
       "      <td>Education</td>\n",
       "      <td>I wish you, Mr Speaker, and the whole House al...</td>\n",
       "      <td>[(Education, 0.9000825), (Others, 0.08470161),...</td>\n",
       "    </tr>\n",
       "    <tr>\n",
       "      <th>3</th>\n",
       "      <td>3</td>\n",
       "      <td>2014-01-06</td>\n",
       "      <td>Education</td>\n",
       "      <td>My hon. Friend is absolutely right. Parents ar...</td>\n",
       "      <td>[(Others, 0.47076026), (Education, 0.2952301),...</td>\n",
       "    </tr>\n",
       "    <tr>\n",
       "      <th>4</th>\n",
       "      <td>4</td>\n",
       "      <td>2014-01-06</td>\n",
       "      <td>Education</td>\n",
       "      <td>Does not the evidence show that the most impor...</td>\n",
       "      <td>[(Education, 0.8550697), (Others, 0.053401418)...</td>\n",
       "    </tr>\n",
       "    <tr>\n",
       "      <th>...</th>\n",
       "      <td>...</td>\n",
       "      <td>...</td>\n",
       "      <td>...</td>\n",
       "      <td>...</td>\n",
       "      <td>...</td>\n",
       "    </tr>\n",
       "    <tr>\n",
       "      <th>53055</th>\n",
       "      <td>60274</td>\n",
       "      <td>2014-12-18</td>\n",
       "      <td>Employment and training</td>\n",
       "      <td>We are not going to get into that. It is Chris...</td>\n",
       "      <td>[(Agriculture, animals, food and rural affairs...</td>\n",
       "    </tr>\n",
       "    <tr>\n",
       "      <th>53056</th>\n",
       "      <td>60275</td>\n",
       "      <td>2014-12-18</td>\n",
       "      <td>Employment and training</td>\n",
       "      <td>Thank you, Mr Deputy Speaker. As the hon. Gent...</td>\n",
       "      <td>[(Crime, civil law, justice and rights, 0.6356...</td>\n",
       "    </tr>\n",
       "    <tr>\n",
       "      <th>53057</th>\n",
       "      <td>60276</td>\n",
       "      <td>2014-12-18</td>\n",
       "      <td>Employment and training</td>\n",
       "      <td>On a point of order, Mr Deputy Speaker. If you...</td>\n",
       "      <td>[(Employment and training, 0.2972697), (Busine...</td>\n",
       "    </tr>\n",
       "    <tr>\n",
       "      <th>53058</th>\n",
       "      <td>60277</td>\n",
       "      <td>2014-12-18</td>\n",
       "      <td>Employment and training</td>\n",
       "      <td>I do not want this debate to deteriorate any f...</td>\n",
       "      <td>[(Parliament, government and politics, 0.31880...</td>\n",
       "    </tr>\n",
       "    <tr>\n",
       "      <th>53059</th>\n",
       "      <td>60278</td>\n",
       "      <td>2014-12-18</td>\n",
       "      <td>Employment and training</td>\n",
       "      <td>As I said to the right hon. Member for East Ha...</td>\n",
       "      <td>[(International affairs, 0.39586794), (Defence...</td>\n",
       "    </tr>\n",
       "  </tbody>\n",
       "</table>\n",
       "<p>53060 rows × 5 columns</p>\n",
       "</div>"
      ],
      "text/plain": [
       "       index        date                    topic  \\\n",
       "0          0  2014-01-06                Education   \n",
       "1          1  2014-01-06                Education   \n",
       "2          2  2014-01-06                Education   \n",
       "3          3  2014-01-06                Education   \n",
       "4          4  2014-01-06                Education   \n",
       "...      ...         ...                      ...   \n",
       "53055  60274  2014-12-18  Employment and training   \n",
       "53056  60275  2014-12-18  Employment and training   \n",
       "53057  60276  2014-12-18  Employment and training   \n",
       "53058  60277  2014-12-18  Employment and training   \n",
       "53059  60278  2014-12-18  Employment and training   \n",
       "\n",
       "                                              transcript  \\\n",
       "0      1.  What assessment he has made of the perform...   \n",
       "1      I associate myself and those on the Front Benc...   \n",
       "2      I wish you, Mr Speaker, and the whole House al...   \n",
       "3      My hon. Friend is absolutely right. Parents ar...   \n",
       "4      Does not the evidence show that the most impor...   \n",
       "...                                                  ...   \n",
       "53055  We are not going to get into that. It is Chris...   \n",
       "53056  Thank you, Mr Deputy Speaker. As the hon. Gent...   \n",
       "53057  On a point of order, Mr Deputy Speaker. If you...   \n",
       "53058  I do not want this debate to deteriorate any f...   \n",
       "53059  As I said to the right hon. Member for East Ha...   \n",
       "\n",
       "                                         predicted_topic  \n",
       "0      [(Parliament, government and politics, 0.15913...  \n",
       "1      [(Education, 0.9308774), (Others, 0.05554033),...  \n",
       "2      [(Education, 0.9000825), (Others, 0.08470161),...  \n",
       "3      [(Others, 0.47076026), (Education, 0.2952301),...  \n",
       "4      [(Education, 0.8550697), (Others, 0.053401418)...  \n",
       "...                                                  ...  \n",
       "53055  [(Agriculture, animals, food and rural affairs...  \n",
       "53056  [(Crime, civil law, justice and rights, 0.6356...  \n",
       "53057  [(Employment and training, 0.2972697), (Busine...  \n",
       "53058  [(Parliament, government and politics, 0.31880...  \n",
       "53059  [(International affairs, 0.39586794), (Defence...  \n",
       "\n",
       "[53060 rows x 5 columns]"
      ]
     },
     "execution_count": 34,
     "metadata": {},
     "output_type": "execute_result"
    }
   ],
   "source": [
    "df"
   ]
  },
  {
   "cell_type": "code",
   "execution_count": null,
   "metadata": {},
   "outputs": [],
   "source": []
  }
 ],
 "metadata": {
  "kernelspec": {
   "display_name": "Python [conda env:econ] *",
   "language": "python",
   "name": "conda-env-econ-py"
  },
  "language_info": {
   "codemirror_mode": {
    "name": "ipython",
    "version": 3
   },
   "file_extension": ".py",
   "mimetype": "text/x-python",
   "name": "python",
   "nbconvert_exporter": "python",
   "pygments_lexer": "ipython3",
   "version": "3.7.7"
  }
 },
 "nbformat": 4,
 "nbformat_minor": 4
}
