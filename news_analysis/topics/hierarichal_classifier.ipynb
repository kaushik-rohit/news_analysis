{
 "cells": [
  {
   "cell_type": "code",
   "execution_count": 279,
   "metadata": {},
   "outputs": [],
   "source": [
    "import pandas as pd\n",
    "from gensim import models, corpora\n",
    "from gensim.parsing.preprocessing import preprocess_string, strip_tags, strip_punctuation\n",
    "from gensim.parsing.preprocessing import remove_stopwords, stem_text, strip_non_alphanum, strip_multiple_whitespaces\n",
    "from gensim.parsing.preprocessing import strip_short, strip_numeric, stem_text\n",
    "from gensim.parsing.preprocessing import STOPWORDS\n",
    "from gensim.models.doc2vec import Doc2Vec, TaggedDocument\n",
    "from sklearn.utils import class_weight\n",
    "from sklearn.preprocessing import OneHotEncoder\n",
    "import multiprocessing as mp\n",
    "import nltk\n",
    "import pandas as pd\n",
    "import numpy as np\n",
    "import tensorflow as tf\n",
    "import parmap\n",
    "import os"
   ]
  },
  {
   "cell_type": "code",
   "execution_count": 265,
   "metadata": {},
   "outputs": [],
   "source": [
    "topics_index_to_name_map = {\n",
    "    0: 'Agriculture, animals, food and rural affairs',\n",
    "    1: 'Asylum, immigration and nationality',\n",
    "    2: 'Business, industry and consumers',\n",
    "    3: 'Communities and families',\n",
    "    4: 'Crime, civil law, justice and rights',\n",
    "    5: 'Culture, media and sport',\n",
    "    6: 'Defence',\n",
    "    7: 'Economy and finance',\n",
    "    8: 'Education',\n",
    "    9: 'Employment and training',\n",
    "    10: 'Energy and environment',\n",
    "    11: 'European Union',\n",
    "    12: 'Health services and medicine',\n",
    "    13: 'Housing and planning',\n",
    "    14: 'International affairs',\n",
    "    15: 'Parliament, government and politics',\n",
    "    16: 'Science and technology',\n",
    "    17: 'Social security and pensions',\n",
    "    18: 'Social services',\n",
    "    19: 'Transport',\n",
    "    20: 'Others'\n",
    "}\n",
    "topics_name_to_index_map = {y:x for x,y in topics_index_to_name_map.items()}\n",
    "\n",
    "def strip_short2(text):\n",
    "    return strip_short(text, minsize=4)\n",
    "\n",
    "\n",
    "def preprocess_text(text):\n",
    "    FILTERS = [lambda x: x.lower(), strip_multiple_whitespaces, strip_tags, strip_punctuation,\n",
    "                   strip_non_alphanum, strip_numeric, strip_short2]\n",
    "    return preprocess_string(text, FILTERS)\n",
    "\n",
    "def preprocess(topic):\n",
    "    ret = []\n",
    "    topic = topic.strip()\n",
    "    \n",
    "    if '|' in topic:\n",
    "        topics = topic.split('|')\n",
    "        if 'Parliament' in topics[0]:\n",
    "            t = topics[1]\n",
    "        else:\n",
    "            t = topics[0]\n",
    "        t = t.strip()\n",
    "        return topics_name_to_index_map[t]\n",
    "        \n",
    "    return topics_name_to_index_map[topic]"
   ]
  },
  {
   "cell_type": "code",
   "execution_count": 281,
   "metadata": {},
   "outputs": [],
   "source": [
    "year_start = 2006\n",
    "year_end = 2017\n",
    "exclude = 'None'"
   ]
  },
  {
   "cell_type": "code",
   "execution_count": 282,
   "metadata": {},
   "outputs": [],
   "source": [
    "hierarchy = {\n",
    "    'level1':{\n",
    "            'group1': [0, 1, 2, 4, 5, 6, 7, 8, 10, 11, 14, 15, 16, 19, 20],\n",
    "            'group2': [3, 12, 13, 18],\n",
    "            'group3': [9, 17]\n",
    "    },\n",
    "    'level2':{\n",
    "            'group4': [0, 10, 19],\n",
    "            'group5': [1, 4, 5, 6, 7, 8, 15, 20],\n",
    "            'group6': [2, 16],\n",
    "            'group7': [11, 14]\n",
    "    }\n",
    "}"
   ]
  },
  {
   "cell_type": "code",
   "execution_count": 283,
   "metadata": {},
   "outputs": [],
   "source": [
    "def get_group_level1(topic):\n",
    "    if topic in hierarchy['level1']['group1']:\n",
    "        return 1\n",
    "    elif topic in hierarchy['level1']['group2']:\n",
    "        return 2\n",
    "    return 3\n",
    "\n",
    "def get_group_level2(topic):\n",
    "    if topic in hierarchy['level2']['group4']:\n",
    "        return 4\n",
    "    elif topic in hierarchy['level2']['group5']:\n",
    "        return 5\n",
    "    elif topic in hierarchy['level2']['group6']:\n",
    "        return 6\n",
    "    return 7"
   ]
  },
  {
   "cell_type": "code",
   "execution_count": 284,
   "metadata": {},
   "outputs": [
    {
     "name": "stdout",
     "output_type": "stream",
     "text": [
      "preparing data!!\n"
     ]
    }
   ],
   "source": [
    "print('preparing data!!')\n",
    "dataframes = []\n",
    "for year in range(year_start, year_end + 1):\n",
    "    dataframes.append(pd.read_csv('./data/{}_debate.csv'.format(year)))\n",
    "\n",
    "df = pd.concat(dataframes)\n",
    "\n",
    "df = df.drop(df[df.topic == 'admin'].index)\n",
    "df = df.drop(df[df.transcript.str.split().map(len) < 10].index)\n",
    "df['topic'] = df.apply(lambda row: preprocess(row['topic']), axis=1)\n",
    "df['level1'] = df['topic'].apply(lambda x: get_group_level1(x))\n",
    "df['level2'] = df['topic'].apply(lambda x: get_group_level2(x))"
   ]
  },
  {
   "cell_type": "code",
   "execution_count": 285,
   "metadata": {},
   "outputs": [
    {
     "data": {
      "text/html": [
       "<div>\n",
       "<style scoped>\n",
       "    .dataframe tbody tr th:only-of-type {\n",
       "        vertical-align: middle;\n",
       "    }\n",
       "\n",
       "    .dataframe tbody tr th {\n",
       "        vertical-align: top;\n",
       "    }\n",
       "\n",
       "    .dataframe thead th {\n",
       "        text-align: right;\n",
       "    }\n",
       "</style>\n",
       "<table border=\"1\" class=\"dataframe\">\n",
       "  <thead>\n",
       "    <tr style=\"text-align: right;\">\n",
       "      <th></th>\n",
       "      <th>topic</th>\n",
       "      <th>transcript</th>\n",
       "      <th>level1</th>\n",
       "      <th>level2</th>\n",
       "    </tr>\n",
       "  </thead>\n",
       "  <tbody>\n",
       "    <tr>\n",
       "      <th>1</th>\n",
       "      <td>6</td>\n",
       "      <td>With permission, Mr. Speaker, I should like to...</td>\n",
       "      <td>1</td>\n",
       "      <td>5</td>\n",
       "    </tr>\n",
       "    <tr>\n",
       "      <th>2</th>\n",
       "      <td>20</td>\n",
       "      <td>To ask the Home Secretary to make a statement ...</td>\n",
       "      <td>1</td>\n",
       "      <td>5</td>\n",
       "    </tr>\n",
       "    <tr>\n",
       "      <th>3</th>\n",
       "      <td>6</td>\n",
       "      <td>I inform the House that privilege is involved ...</td>\n",
       "      <td>1</td>\n",
       "      <td>5</td>\n",
       "    </tr>\n",
       "    <tr>\n",
       "      <th>4</th>\n",
       "      <td>17</td>\n",
       "      <td>With permission, Mr. Speaker, I wish to make a...</td>\n",
       "      <td>3</td>\n",
       "      <td>7</td>\n",
       "    </tr>\n",
       "    <tr>\n",
       "      <th>5</th>\n",
       "      <td>14</td>\n",
       "      <td>To ask the Secretary of State for Defence if h...</td>\n",
       "      <td>1</td>\n",
       "      <td>7</td>\n",
       "    </tr>\n",
       "    <tr>\n",
       "      <th>...</th>\n",
       "      <td>...</td>\n",
       "      <td>...</td>\n",
       "      <td>...</td>\n",
       "      <td>...</td>\n",
       "    </tr>\n",
       "    <tr>\n",
       "      <th>1775</th>\n",
       "      <td>9</td>\n",
       "      <td>9. What estimate his Department has made of th...</td>\n",
       "      <td>3</td>\n",
       "      <td>7</td>\n",
       "    </tr>\n",
       "    <tr>\n",
       "      <th>1776</th>\n",
       "      <td>9</td>\n",
       "      <td>14. What assessment he has made of the level o...</td>\n",
       "      <td>3</td>\n",
       "      <td>7</td>\n",
       "    </tr>\n",
       "    <tr>\n",
       "      <th>1777</th>\n",
       "      <td>9</td>\n",
       "      <td>3. What assessment his Department has made of ...</td>\n",
       "      <td>3</td>\n",
       "      <td>7</td>\n",
       "    </tr>\n",
       "    <tr>\n",
       "      <th>1778</th>\n",
       "      <td>9</td>\n",
       "      <td>7. What recent assessment he has made of trend...</td>\n",
       "      <td>3</td>\n",
       "      <td>7</td>\n",
       "    </tr>\n",
       "    <tr>\n",
       "      <th>1781</th>\n",
       "      <td>6</td>\n",
       "      <td>I beg to move,  That this House notes the ongo...</td>\n",
       "      <td>1</td>\n",
       "      <td>5</td>\n",
       "    </tr>\n",
       "  </tbody>\n",
       "</table>\n",
       "<p>15432 rows × 4 columns</p>\n",
       "</div>"
      ],
      "text/plain": [
       "      topic                                         transcript  level1  level2\n",
       "1         6  With permission, Mr. Speaker, I should like to...       1       5\n",
       "2        20  To ask the Home Secretary to make a statement ...       1       5\n",
       "3         6  I inform the House that privilege is involved ...       1       5\n",
       "4        17  With permission, Mr. Speaker, I wish to make a...       3       7\n",
       "5        14  To ask the Secretary of State for Defence if h...       1       7\n",
       "...     ...                                                ...     ...     ...\n",
       "1775      9  9. What estimate his Department has made of th...       3       7\n",
       "1776      9  14. What assessment he has made of the level o...       3       7\n",
       "1777      9  3. What assessment his Department has made of ...       3       7\n",
       "1778      9  7. What recent assessment he has made of trend...       3       7\n",
       "1781      6  I beg to move,  That this House notes the ongo...       1       5\n",
       "\n",
       "[15432 rows x 4 columns]"
      ]
     },
     "execution_count": 285,
     "metadata": {},
     "output_type": "execute_result"
    }
   ],
   "source": [
    "df"
   ]
  },
  {
   "cell_type": "code",
   "execution_count": 286,
   "metadata": {},
   "outputs": [
    {
     "data": {
      "text/plain": [
       "1    12327\n",
       "2     2260\n",
       "3      845\n",
       "Name: level1, dtype: int64"
      ]
     },
     "execution_count": 286,
     "metadata": {},
     "output_type": "execute_result"
    }
   ],
   "source": [
    "df.level1.value_counts()"
   ]
  },
  {
   "cell_type": "code",
   "execution_count": 287,
   "metadata": {},
   "outputs": [
    {
     "data": {
      "text/plain": [
       "5    8016\n",
       "7    4489\n",
       "4    1984\n",
       "6     943\n",
       "Name: level2, dtype: int64"
      ]
     },
     "execution_count": 287,
     "metadata": {},
     "output_type": "execute_result"
    }
   ],
   "source": [
    "df.level2.value_counts()"
   ]
  },
  {
   "cell_type": "code",
   "execution_count": 288,
   "metadata": {},
   "outputs": [
    {
     "data": {
      "text/html": [
       "<div>\n",
       "<style scoped>\n",
       "    .dataframe tbody tr th:only-of-type {\n",
       "        vertical-align: middle;\n",
       "    }\n",
       "\n",
       "    .dataframe tbody tr th {\n",
       "        vertical-align: top;\n",
       "    }\n",
       "\n",
       "    .dataframe thead th {\n",
       "        text-align: right;\n",
       "    }\n",
       "</style>\n",
       "<table border=\"1\" class=\"dataframe\">\n",
       "  <thead>\n",
       "    <tr style=\"text-align: right;\">\n",
       "      <th></th>\n",
       "      <th>count</th>\n",
       "      <th>fraction</th>\n",
       "    </tr>\n",
       "  </thead>\n",
       "  <tbody>\n",
       "    <tr>\n",
       "      <th>Parliament, government and politics</th>\n",
       "      <td>2142</td>\n",
       "      <td>13.88</td>\n",
       "    </tr>\n",
       "    <tr>\n",
       "      <th>Crime, civil law, justice and rights</th>\n",
       "      <td>1853</td>\n",
       "      <td>12.01</td>\n",
       "    </tr>\n",
       "    <tr>\n",
       "      <th>International affairs</th>\n",
       "      <td>1106</td>\n",
       "      <td>7.17</td>\n",
       "    </tr>\n",
       "    <tr>\n",
       "      <th>Health services and medicine</th>\n",
       "      <td>1093</td>\n",
       "      <td>7.08</td>\n",
       "    </tr>\n",
       "    <tr>\n",
       "      <th>Economy and finance</th>\n",
       "      <td>1016</td>\n",
       "      <td>6.58</td>\n",
       "    </tr>\n",
       "    <tr>\n",
       "      <th>Communities and families</th>\n",
       "      <td>993</td>\n",
       "      <td>6.43</td>\n",
       "    </tr>\n",
       "    <tr>\n",
       "      <th>Transport</th>\n",
       "      <td>813</td>\n",
       "      <td>5.27</td>\n",
       "    </tr>\n",
       "    <tr>\n",
       "      <th>Business, industry and consumers</th>\n",
       "      <td>803</td>\n",
       "      <td>5.20</td>\n",
       "    </tr>\n",
       "    <tr>\n",
       "      <th>Defence</th>\n",
       "      <td>791</td>\n",
       "      <td>5.13</td>\n",
       "    </tr>\n",
       "    <tr>\n",
       "      <th>Employment and training</th>\n",
       "      <td>788</td>\n",
       "      <td>5.11</td>\n",
       "    </tr>\n",
       "    <tr>\n",
       "      <th>Energy and environment</th>\n",
       "      <td>784</td>\n",
       "      <td>5.08</td>\n",
       "    </tr>\n",
       "    <tr>\n",
       "      <th>Culture, media and sport</th>\n",
       "      <td>733</td>\n",
       "      <td>4.75</td>\n",
       "    </tr>\n",
       "    <tr>\n",
       "      <th>Education</th>\n",
       "      <td>681</td>\n",
       "      <td>4.41</td>\n",
       "    </tr>\n",
       "    <tr>\n",
       "      <th>Others</th>\n",
       "      <td>615</td>\n",
       "      <td>3.99</td>\n",
       "    </tr>\n",
       "    <tr>\n",
       "      <th>Agriculture, animals, food and rural affairs</th>\n",
       "      <td>387</td>\n",
       "      <td>2.51</td>\n",
       "    </tr>\n",
       "    <tr>\n",
       "      <th>European Union</th>\n",
       "      <td>278</td>\n",
       "      <td>1.80</td>\n",
       "    </tr>\n",
       "    <tr>\n",
       "      <th>Asylum, immigration and nationality</th>\n",
       "      <td>185</td>\n",
       "      <td>1.20</td>\n",
       "    </tr>\n",
       "    <tr>\n",
       "      <th>Science and technology</th>\n",
       "      <td>140</td>\n",
       "      <td>0.91</td>\n",
       "    </tr>\n",
       "    <tr>\n",
       "      <th>Housing and planning</th>\n",
       "      <td>126</td>\n",
       "      <td>0.82</td>\n",
       "    </tr>\n",
       "    <tr>\n",
       "      <th>Social security and pensions</th>\n",
       "      <td>57</td>\n",
       "      <td>0.37</td>\n",
       "    </tr>\n",
       "    <tr>\n",
       "      <th>Social services</th>\n",
       "      <td>48</td>\n",
       "      <td>0.31</td>\n",
       "    </tr>\n",
       "  </tbody>\n",
       "</table>\n",
       "</div>"
      ],
      "text/plain": [
       "                                              count  fraction\n",
       "Parliament, government and politics            2142     13.88\n",
       "Crime, civil law, justice and rights           1853     12.01\n",
       "International affairs                          1106      7.17\n",
       "Health services and medicine                   1093      7.08\n",
       "Economy and finance                            1016      6.58\n",
       "Communities and families                        993      6.43\n",
       "Transport                                       813      5.27\n",
       "Business, industry and consumers                803      5.20\n",
       "Defence                                         791      5.13\n",
       "Employment and training                         788      5.11\n",
       "Energy and environment                          784      5.08\n",
       "Culture, media and sport                        733      4.75\n",
       "Education                                       681      4.41\n",
       "Others                                          615      3.99\n",
       "Agriculture, animals, food and rural affairs    387      2.51\n",
       "European Union                                  278      1.80\n",
       "Asylum, immigration and nationality             185      1.20\n",
       "Science and technology                          140      0.91\n",
       "Housing and planning                            126      0.82\n",
       "Social security and pensions                     57      0.37\n",
       "Social services                                  48      0.31"
      ]
     },
     "execution_count": 288,
     "metadata": {},
     "output_type": "execute_result"
    }
   ],
   "source": [
    "counts = df['topic'].value_counts()\n",
    "topic_counts = {topics_index_to_name_map[key]: counts[key] for key in counts.keys()}\n",
    "counts_df = pd.DataFrame.from_dict(topic_counts, orient='index', columns=['count'])\n",
    "total = counts_df['count'].sum()\n",
    "counts_df['fraction'] = counts_df.apply(lambda x: round(x['count']/total*100, 2), axis=1)\n",
    "counts_df"
   ]
  },
  {
   "cell_type": "code",
   "execution_count": 289,
   "metadata": {},
   "outputs": [
    {
     "data": {
      "text/html": [
       "<div>\n",
       "<style scoped>\n",
       "    .dataframe tbody tr th:only-of-type {\n",
       "        vertical-align: middle;\n",
       "    }\n",
       "\n",
       "    .dataframe tbody tr th {\n",
       "        vertical-align: top;\n",
       "    }\n",
       "\n",
       "    .dataframe thead th {\n",
       "        text-align: right;\n",
       "    }\n",
       "</style>\n",
       "<table border=\"1\" class=\"dataframe\">\n",
       "  <thead>\n",
       "    <tr style=\"text-align: right;\">\n",
       "      <th></th>\n",
       "      <th>topic</th>\n",
       "      <th>transcript</th>\n",
       "      <th>level1</th>\n",
       "      <th>level2</th>\n",
       "    </tr>\n",
       "  </thead>\n",
       "  <tbody>\n",
       "    <tr>\n",
       "      <th>0</th>\n",
       "      <td>3</td>\n",
       "      <td>T1.  If she will make a statement on her depar...</td>\n",
       "      <td>2</td>\n",
       "      <td>7</td>\n",
       "    </tr>\n",
       "    <tr>\n",
       "      <th>1</th>\n",
       "      <td>4</td>\n",
       "      <td>8.  What recent discussions he has had with th...</td>\n",
       "      <td>1</td>\n",
       "      <td>5</td>\n",
       "    </tr>\n",
       "    <tr>\n",
       "      <th>2</th>\n",
       "      <td>14</td>\n",
       "      <td>3.  What recent assessment she has made of the...</td>\n",
       "      <td>1</td>\n",
       "      <td>7</td>\n",
       "    </tr>\n",
       "    <tr>\n",
       "      <th>3</th>\n",
       "      <td>8</td>\n",
       "      <td>6. What progress her Department is making on t...</td>\n",
       "      <td>1</td>\n",
       "      <td>5</td>\n",
       "    </tr>\n",
       "    <tr>\n",
       "      <th>4</th>\n",
       "      <td>12</td>\n",
       "      <td>1. What steps the Government is taking to enco...</td>\n",
       "      <td>2</td>\n",
       "      <td>7</td>\n",
       "    </tr>\n",
       "    <tr>\n",
       "      <th>...</th>\n",
       "      <td>...</td>\n",
       "      <td>...</td>\n",
       "      <td>...</td>\n",
       "      <td>...</td>\n",
       "    </tr>\n",
       "    <tr>\n",
       "      <th>15427</th>\n",
       "      <td>0</td>\n",
       "      <td>14.  What recent representations she has recei...</td>\n",
       "      <td>1</td>\n",
       "      <td>4</td>\n",
       "    </tr>\n",
       "    <tr>\n",
       "      <th>15428</th>\n",
       "      <td>12</td>\n",
       "      <td>1.  How many (a) health visitors and (b) nurse...</td>\n",
       "      <td>2</td>\n",
       "      <td>7</td>\n",
       "    </tr>\n",
       "    <tr>\n",
       "      <th>15429</th>\n",
       "      <td>11</td>\n",
       "      <td>Thank you, Mr Deputy Speaker, for the opportun...</td>\n",
       "      <td>1</td>\n",
       "      <td>7</td>\n",
       "    </tr>\n",
       "    <tr>\n",
       "      <th>15430</th>\n",
       "      <td>12</td>\n",
       "      <td>13.  What recent estimate he has made of the n...</td>\n",
       "      <td>2</td>\n",
       "      <td>7</td>\n",
       "    </tr>\n",
       "    <tr>\n",
       "      <th>15431</th>\n",
       "      <td>14</td>\n",
       "      <td>(Urgent Question): To ask the Foreign Secretar...</td>\n",
       "      <td>1</td>\n",
       "      <td>7</td>\n",
       "    </tr>\n",
       "  </tbody>\n",
       "</table>\n",
       "<p>15432 rows × 4 columns</p>\n",
       "</div>"
      ],
      "text/plain": [
       "       topic                                         transcript  level1  \\\n",
       "0          3  T1.  If she will make a statement on her depar...       2   \n",
       "1          4  8.  What recent discussions he has had with th...       1   \n",
       "2         14  3.  What recent assessment she has made of the...       1   \n",
       "3          8  6. What progress her Department is making on t...       1   \n",
       "4         12  1. What steps the Government is taking to enco...       2   \n",
       "...      ...                                                ...     ...   \n",
       "15427      0  14.  What recent representations she has recei...       1   \n",
       "15428     12  1.  How many (a) health visitors and (b) nurse...       2   \n",
       "15429     11  Thank you, Mr Deputy Speaker, for the opportun...       1   \n",
       "15430     12  13.  What recent estimate he has made of the n...       2   \n",
       "15431     14  (Urgent Question): To ask the Foreign Secretar...       1   \n",
       "\n",
       "       level2  \n",
       "0           7  \n",
       "1           5  \n",
       "2           7  \n",
       "3           5  \n",
       "4           7  \n",
       "...       ...  \n",
       "15427       4  \n",
       "15428       7  \n",
       "15429       7  \n",
       "15430       7  \n",
       "15431       7  \n",
       "\n",
       "[15432 rows x 4 columns]"
      ]
     },
     "execution_count": 289,
     "metadata": {},
     "output_type": "execute_result"
    }
   ],
   "source": [
    "df = df.sample(frac=1).reset_index(drop=True)\n",
    "df"
   ]
  },
  {
   "cell_type": "code",
   "execution_count": 298,
   "metadata": {},
   "outputs": [],
   "source": [
    "X = df['transcript'].values\n",
    "Y = df['level1'].values"
   ]
  },
  {
   "cell_type": "code",
   "execution_count": 299,
   "metadata": {},
   "outputs": [
    {
     "name": "stdout",
     "output_type": "stream",
     "text": [
      "preprocessing data!!\n"
     ]
    },
    {
     "name": "stderr",
     "output_type": "stream",
     "text": [
      "15488it [00:11, 1402.70it/s]                          \n"
     ]
    }
   ],
   "source": [
    "print('preprocessing data!!')\n",
    "preprocessed_X = parmap.map(preprocess_text, X, pm_pbar=True)\n",
    "tagged_X = [models.doc2vec.TaggedDocument(doc, [i]) for i, doc in enumerate(preprocessed_X)]"
   ]
  },
  {
   "cell_type": "code",
   "execution_count": 292,
   "metadata": {},
   "outputs": [
    {
     "name": "stdout",
     "output_type": "stream",
     "text": [
      "training doc2vec\n"
     ]
    }
   ],
   "source": [
    "if os.path.isfile('./models/doc2vec/doc2vec_{}_{}'.format(year_start, year_end)):\n",
    "    print('doc2vec already trained. Loading!!!')\n",
    "    doc2vec_model = Doc2Vec.load('./models/doc2vec/doc2vec_{}_{}'.format(year_start, year_end))\n",
    "else:\n",
    "    print('training doc2vec')\n",
    "    doc2vec_model = Doc2Vec(vector_size=100, window=3, workers=mp.cpu_count(), epochs=40)\n",
    "    doc2vec_model.build_vocab(tagged_X)\n",
    "    doc2vec_model.train(tagged_X, total_examples=doc2vec_model.corpus_count, epochs=doc2vec_model.epochs)\n",
    "    doc2vec_model.save('./models/doc2vec/doc2vec_{}_{}'.format(year_start, year_end))"
   ]
  },
  {
   "cell_type": "code",
   "execution_count": 300,
   "metadata": {},
   "outputs": [],
   "source": [
    "from sklearn.preprocessing import OneHotEncoder\n",
    "enc = OneHotEncoder(handle_unknown='ignore')\n",
    "input_Y = Y.reshape(-1,1)\n",
    "enc.fit(input_Y)\n",
    "input_Y = enc.transform(input_Y).toarray()"
   ]
  },
  {
   "cell_type": "code",
   "execution_count": 301,
   "metadata": {},
   "outputs": [
    {
     "name": "stdout",
     "output_type": "stream",
     "text": [
      "preparing inputs\n"
     ]
    },
    {
     "name": "stderr",
     "output_type": "stream",
     "text": [
      "15488it [01:02, 249.47it/s]                           \n"
     ]
    },
    {
     "name": "stdout",
     "output_type": "stream",
     "text": [
      "X_train:  (12345, 100)\n",
      "y_train:  (12345, 3)\n",
      "X_test:  (3087, 100)\n",
      "y_test:  (3087, 3)\n"
     ]
    }
   ],
   "source": [
    "print('preparing inputs')\n",
    "\n",
    "def get_doc_vec(doc):\n",
    "    return doc2vec_model.infer_vector(doc.words)\n",
    "\n",
    "inputs = parmap.map(get_doc_vec, tagged_X, pm_pbar=True)\n",
    "\n",
    "from sklearn.model_selection import train_test_split\n",
    "X_train, X_test, y_train, y_test = train_test_split(inputs, input_Y, stratify=input_Y, test_size=0.2, random_state=42)\n",
    "X_train = np.array(X_train)\n",
    "y_train = np.array(y_train)\n",
    "X_test = np.array(X_test)\n",
    "y_test = np.array(y_test)\n",
    "print('X_train: ', X_train.shape)\n",
    "print('y_train: ', y_train.shape)\n",
    "print('X_test: ', X_test.shape)\n",
    "print('y_test: ', y_test.shape)"
   ]
  },
  {
   "cell_type": "code",
   "execution_count": 302,
   "metadata": {},
   "outputs": [],
   "source": [
    "def build_network():\n",
    "    model = tf.keras.models.Sequential([\n",
    "        tf.keras.Input(shape=(100)),\n",
    "        tf.keras.layers.Dense(32, activation='relu', kernel_regularizer=tf.keras.regularizers.l2(l=0.1)),\n",
    "        tf.keras.layers.Dense(len(enc.categories_[0]), activation='softmax')\n",
    "    ])\n",
    "    loss_fn = tf.keras.losses.CategoricalCrossentropy(from_logits=False, label_smoothing=0, name='categorical_crossentropy')\n",
    "\n",
    "    model.compile(optimizer=tf.keras.optimizers.Adam(),\n",
    "              loss=loss_fn,\n",
    "              metrics=['accuracy'])\n",
    "    \n",
    "    return model"
   ]
  },
  {
   "cell_type": "code",
   "execution_count": 303,
   "metadata": {},
   "outputs": [
    {
     "name": "stderr",
     "output_type": "stream",
     "text": [
      "/home/ubuntu/anaconda3/envs/econ/lib/python3.7/site-packages/sklearn/utils/validation.py:71: FutureWarning: Pass classes=[1 2 3], y=[2 1 1 ... 1 2 1] as keyword args. From version 0.25 passing these as positional arguments will result in an error\n",
      "  FutureWarning)\n"
     ]
    },
    {
     "name": "stdout",
     "output_type": "stream",
     "text": [
      "Train on 12345 samples, validate on 3087 samples\n",
      "Epoch 1/200\n",
      "12345/12345 [==============================] - 2s 165us/sample - loss: 1.6155 - accuracy: 0.8354 - val_loss: 0.4692 - val_accuracy: 0.8688\n",
      "Epoch 2/200\n",
      "12345/12345 [==============================] - 1s 84us/sample - loss: 0.3977 - accuracy: 0.8753 - val_loss: 0.4081 - val_accuracy: 0.8737\n",
      "Epoch 3/200\n",
      "12345/12345 [==============================] - 1s 65us/sample - loss: 0.3754 - accuracy: 0.8784 - val_loss: 0.3930 - val_accuracy: 0.8675\n",
      "Epoch 4/200\n",
      "12345/12345 [==============================] - 1s 63us/sample - loss: 0.3663 - accuracy: 0.8809 - val_loss: 0.3853 - val_accuracy: 0.8759\n",
      "Epoch 5/200\n",
      "12345/12345 [==============================] - 1s 55us/sample - loss: 0.3579 - accuracy: 0.8845 - val_loss: 0.3844 - val_accuracy: 0.8763\n",
      "Epoch 6/200\n",
      "12345/12345 [==============================] - 1s 61us/sample - loss: 0.3506 - accuracy: 0.8873 - val_loss: 0.3783 - val_accuracy: 0.8772\n",
      "Epoch 7/200\n",
      "12345/12345 [==============================] - 1s 62us/sample - loss: 0.3447 - accuracy: 0.8900 - val_loss: 0.3774 - val_accuracy: 0.8769\n",
      "Epoch 8/200\n",
      "12345/12345 [==============================] - 1s 56us/sample - loss: 0.3411 - accuracy: 0.8896 - val_loss: 0.3655 - val_accuracy: 0.8814\n",
      "Epoch 9/200\n",
      "12345/12345 [==============================] - 1s 54us/sample - loss: 0.3371 - accuracy: 0.8932 - val_loss: 0.3579 - val_accuracy: 0.8818\n",
      "Epoch 10/200\n",
      "12345/12345 [==============================] - 1s 54us/sample - loss: 0.3346 - accuracy: 0.8940 - val_loss: 0.3608 - val_accuracy: 0.8811\n",
      "Epoch 11/200\n",
      "12345/12345 [==============================] - 1s 54us/sample - loss: 0.3295 - accuracy: 0.8979 - val_loss: 0.3575 - val_accuracy: 0.8811\n",
      "Epoch 12/200\n",
      "12345/12345 [==============================] - 1s 53us/sample - loss: 0.3294 - accuracy: 0.8950 - val_loss: 0.3650 - val_accuracy: 0.8805\n",
      "Epoch 13/200\n",
      "12345/12345 [==============================] - 1s 57us/sample - loss: 0.3250 - accuracy: 0.8972 - val_loss: 0.3503 - val_accuracy: 0.8879\n",
      "Epoch 14/200\n",
      "12345/12345 [==============================] - 1s 55us/sample - loss: 0.3240 - accuracy: 0.8986 - val_loss: 0.3504 - val_accuracy: 0.8850\n",
      "Epoch 15/200\n",
      "12345/12345 [==============================] - 1s 53us/sample - loss: 0.3228 - accuracy: 0.8983 - val_loss: 0.3463 - val_accuracy: 0.8879\n",
      "Epoch 16/200\n",
      "12345/12345 [==============================] - 1s 53us/sample - loss: 0.3201 - accuracy: 0.8989 - val_loss: 0.3432 - val_accuracy: 0.8886\n",
      "Epoch 17/200\n",
      "12345/12345 [==============================] - 1s 54us/sample - loss: 0.3215 - accuracy: 0.8993 - val_loss: 0.3438 - val_accuracy: 0.8873\n",
      "Epoch 18/200\n",
      "12345/12345 [==============================] - 1s 54us/sample - loss: 0.3185 - accuracy: 0.8979 - val_loss: 0.3477 - val_accuracy: 0.8869\n",
      "Epoch 19/200\n",
      "12345/12345 [==============================] - 1s 57us/sample - loss: 0.3166 - accuracy: 0.9002 - val_loss: 0.3493 - val_accuracy: 0.8866\n"
     ]
    },
    {
     "data": {
      "text/plain": [
       "<tensorflow.python.keras.callbacks.History at 0x7fbf103f71d0>"
      ]
     },
     "execution_count": 303,
     "metadata": {},
     "output_type": "execute_result"
    }
   ],
   "source": [
    "model = build_network()\n",
    "callback = tf.keras.callbacks.EarlyStopping(monitor='val_loss', patience=3)\n",
    "class_weights = class_weight.compute_class_weight('balanced', np.unique(Y), Y)\n",
    "model.fit(X_train, y_train, batch_size=32, epochs=200, callbacks=[callback], class_weight=class_weights,\n",
    "          validation_data=(X_test, y_test))"
   ]
  },
  {
   "cell_type": "code",
   "execution_count": 304,
   "metadata": {},
   "outputs": [],
   "source": [
    "model.save_weights('./models/doc2vec/classifier_0_{}_{}'.format(year_start, year_end))"
   ]
  },
  {
   "cell_type": "code",
   "execution_count": 305,
   "metadata": {},
   "outputs": [
    {
     "data": {
      "text/plain": [
       "array([[0.9586857 , 0.02861211, 0.01270225]], dtype=float32)"
      ]
     },
     "execution_count": 305,
     "metadata": {},
     "output_type": "execute_result"
    }
   ],
   "source": [
    "model.predict(X_test[0].reshape(1,100))"
   ]
  },
  {
   "cell_type": "code",
   "execution_count": 263,
   "metadata": {},
   "outputs": [
    {
     "data": {
      "text/plain": [
       "['./models/doc2vec/encoder_1_2010_2016.joblib']"
      ]
     },
     "execution_count": 263,
     "metadata": {},
     "output_type": "execute_result"
    }
   ],
   "source": [
    "dump(enc, './models/doc2vec/encoder_1_{}_{}.joblib'.format(year_start, year_end))"
   ]
  },
  {
   "cell_type": "code",
   "execution_count": 310,
   "metadata": {},
   "outputs": [],
   "source": [
    "def get_doc_vec(doc):\n",
    "    return doc2vec_model.infer_vector(doc.words)\n",
    "\n",
    "def build_network(enc):\n",
    "    model = tf.keras.models.Sequential([\n",
    "        tf.keras.Input(shape=(100)),\n",
    "        tf.keras.layers.Dense(32, activation='relu', kernel_regularizer=tf.keras.regularizers.l2(l=0.1)),\n",
    "        tf.keras.layers.Dense(len(enc.categories_[0]), activation='softmax')\n",
    "    ])\n",
    "    loss_fn = tf.keras.losses.CategoricalCrossentropy(from_logits=False, label_smoothing=0, name='categorical_crossentropy')\n",
    "\n",
    "    model.compile(optimizer=tf.keras.optimizers.Adam(),\n",
    "              loss=loss_fn,\n",
    "              metrics=['accuracy'])\n",
    "\n",
    "    return model\n",
    "\n",
    "def train(X, Y, model_name):\n",
    "    print('preprocessing data!!')\n",
    "    preprocessed_X = parmap.map(preprocess_text, X, pm_pbar=True)\n",
    "    tagged_X = [models.doc2vec.TaggedDocument(doc, [i]) for i, doc in enumerate(preprocessed_X)]\n",
    "    \n",
    "    enc = OneHotEncoder(handle_unknown='ignore')\n",
    "    input_Y = Y.reshape(-1,1)\n",
    "    enc.fit(input_Y)\n",
    "    input_Y = enc.transform(input_Y).toarray()\n",
    "    dump(enc, './models/doc2vec/encoder_{}_{}_{}.joblib'.format(model_name, year_start, year_end))\n",
    "    \n",
    "    print('preparing inputs')\n",
    "    inputs = parmap.map(get_doc_vec, tagged_X, pm_pbar=True)\n",
    "\n",
    "    from sklearn.model_selection import train_test_split\n",
    "    X_train, X_test, y_train, y_test = train_test_split(inputs, input_Y, stratify=input_Y, test_size=0.2, random_state=42)\n",
    "    X_train = np.array(X_train)\n",
    "    y_train = np.array(y_train)\n",
    "    X_test = np.array(X_test)\n",
    "    y_test = np.array(y_test)\n",
    "    print('X_train: ', X_train.shape)\n",
    "    print('y_train: ', y_train.shape)\n",
    "    print('X_test: ', X_test.shape)\n",
    "    print('y_test: ', y_test.shape)\n",
    "    \n",
    "    model = build_network(enc)\n",
    "    callback = tf.keras.callbacks.EarlyStopping(monitor='val_loss', patience=3)\n",
    "    class_weights = class_weight.compute_class_weight('balanced', np.unique(Y), Y)\n",
    "    model.fit(X_train, y_train, batch_size=32, epochs=200, callbacks=[callback], class_weight=class_weights,\n",
    "              validation_data=(X_test, y_test))\n",
    "    \n",
    "    model.save_weights('./models/doc2vec/classifier_{}_{}_{}'.format(model_name, year_start, year_end))"
   ]
  },
  {
   "cell_type": "code",
   "execution_count": 312,
   "metadata": {},
   "outputs": [
    {
     "data": {
      "text/html": [
       "<div>\n",
       "<style scoped>\n",
       "    .dataframe tbody tr th:only-of-type {\n",
       "        vertical-align: middle;\n",
       "    }\n",
       "\n",
       "    .dataframe tbody tr th {\n",
       "        vertical-align: top;\n",
       "    }\n",
       "\n",
       "    .dataframe thead th {\n",
       "        text-align: right;\n",
       "    }\n",
       "</style>\n",
       "<table border=\"1\" class=\"dataframe\">\n",
       "  <thead>\n",
       "    <tr style=\"text-align: right;\">\n",
       "      <th></th>\n",
       "      <th>topic</th>\n",
       "      <th>transcript</th>\n",
       "      <th>level1</th>\n",
       "      <th>level2</th>\n",
       "    </tr>\n",
       "  </thead>\n",
       "  <tbody>\n",
       "    <tr>\n",
       "      <th>0</th>\n",
       "      <td>3</td>\n",
       "      <td>T1.  If she will make a statement on her depar...</td>\n",
       "      <td>2</td>\n",
       "      <td>7</td>\n",
       "    </tr>\n",
       "    <tr>\n",
       "      <th>4</th>\n",
       "      <td>12</td>\n",
       "      <td>1. What steps the Government is taking to enco...</td>\n",
       "      <td>2</td>\n",
       "      <td>7</td>\n",
       "    </tr>\n",
       "    <tr>\n",
       "      <th>6</th>\n",
       "      <td>3</td>\n",
       "      <td>1. What assessment she has made of the potenti...</td>\n",
       "      <td>2</td>\n",
       "      <td>7</td>\n",
       "    </tr>\n",
       "    <tr>\n",
       "      <th>8</th>\n",
       "      <td>12</td>\n",
       "      <td>I beg to move, That the Bill be now read a sec...</td>\n",
       "      <td>2</td>\n",
       "      <td>7</td>\n",
       "    </tr>\n",
       "    <tr>\n",
       "      <th>10</th>\n",
       "      <td>12</td>\n",
       "      <td>I sought this Adjournment debate in an attempt...</td>\n",
       "      <td>2</td>\n",
       "      <td>7</td>\n",
       "    </tr>\n",
       "    <tr>\n",
       "      <th>...</th>\n",
       "      <td>...</td>\n",
       "      <td>...</td>\n",
       "      <td>...</td>\n",
       "      <td>...</td>\n",
       "    </tr>\n",
       "    <tr>\n",
       "      <th>15406</th>\n",
       "      <td>3</td>\n",
       "      <td>I beg to move,  That this House has considered...</td>\n",
       "      <td>2</td>\n",
       "      <td>7</td>\n",
       "    </tr>\n",
       "    <tr>\n",
       "      <th>15418</th>\n",
       "      <td>3</td>\n",
       "      <td>10.  If he will take steps to increase the num...</td>\n",
       "      <td>2</td>\n",
       "      <td>7</td>\n",
       "    </tr>\n",
       "    <tr>\n",
       "      <th>15424</th>\n",
       "      <td>12</td>\n",
       "      <td>1. How much funding is planned for mental heal...</td>\n",
       "      <td>2</td>\n",
       "      <td>7</td>\n",
       "    </tr>\n",
       "    <tr>\n",
       "      <th>15428</th>\n",
       "      <td>12</td>\n",
       "      <td>1.  How many (a) health visitors and (b) nurse...</td>\n",
       "      <td>2</td>\n",
       "      <td>7</td>\n",
       "    </tr>\n",
       "    <tr>\n",
       "      <th>15430</th>\n",
       "      <td>12</td>\n",
       "      <td>13.  What recent estimate he has made of the n...</td>\n",
       "      <td>2</td>\n",
       "      <td>7</td>\n",
       "    </tr>\n",
       "  </tbody>\n",
       "</table>\n",
       "<p>2260 rows × 4 columns</p>\n",
       "</div>"
      ],
      "text/plain": [
       "       topic                                         transcript  level1  \\\n",
       "0          3  T1.  If she will make a statement on her depar...       2   \n",
       "4         12  1. What steps the Government is taking to enco...       2   \n",
       "6          3  1. What assessment she has made of the potenti...       2   \n",
       "8         12  I beg to move, That the Bill be now read a sec...       2   \n",
       "10        12  I sought this Adjournment debate in an attempt...       2   \n",
       "...      ...                                                ...     ...   \n",
       "15406      3  I beg to move,  That this House has considered...       2   \n",
       "15418      3  10.  If he will take steps to increase the num...       2   \n",
       "15424     12  1. How much funding is planned for mental heal...       2   \n",
       "15428     12  1.  How many (a) health visitors and (b) nurse...       2   \n",
       "15430     12  13.  What recent estimate he has made of the n...       2   \n",
       "\n",
       "       level2  \n",
       "0           7  \n",
       "4           7  \n",
       "6           7  \n",
       "8           7  \n",
       "10          7  \n",
       "...       ...  \n",
       "15406       7  \n",
       "15418       7  \n",
       "15424       7  \n",
       "15428       7  \n",
       "15430       7  \n",
       "\n",
       "[2260 rows x 4 columns]"
      ]
     },
     "execution_count": 312,
     "metadata": {},
     "output_type": "execute_result"
    }
   ],
   "source": [
    "df_group2 = df.loc[df.level1 == 2]\n",
    "df_group2"
   ]
  },
  {
   "cell_type": "code",
   "execution_count": 313,
   "metadata": {},
   "outputs": [
    {
     "data": {
      "text/plain": [
       "12    1093\n",
       "3      993\n",
       "13     126\n",
       "18      48\n",
       "Name: topic, dtype: int64"
      ]
     },
     "execution_count": 313,
     "metadata": {},
     "output_type": "execute_result"
    }
   ],
   "source": [
    "df_group2.topic.value_counts()"
   ]
  },
  {
   "cell_type": "code",
   "execution_count": 314,
   "metadata": {},
   "outputs": [],
   "source": [
    "X = df_group2['transcript'].values\n",
    "Y = df_group2['topic'].values"
   ]
  },
  {
   "cell_type": "code",
   "execution_count": 315,
   "metadata": {},
   "outputs": [
    {
     "name": "stdout",
     "output_type": "stream",
     "text": [
      "preprocessing data!!\n"
     ]
    },
    {
     "name": "stderr",
     "output_type": "stream",
     "text": [
      "2268it [00:03, 689.44it/s]                           \n"
     ]
    },
    {
     "name": "stdout",
     "output_type": "stream",
     "text": [
      "preparing inputs\n"
     ]
    },
    {
     "name": "stderr",
     "output_type": "stream",
     "text": [
      "2268it [00:13, 173.39it/s]                         \n"
     ]
    },
    {
     "name": "stdout",
     "output_type": "stream",
     "text": [
      "X_train:  (1808, 100)\n",
      "y_train:  (1808, 4)\n",
      "X_test:  (452, 100)\n",
      "y_test:  (452, 4)\n",
      "Train on 1808 samples, validate on 452 samples\n",
      "Epoch 1/200\n"
     ]
    },
    {
     "name": "stderr",
     "output_type": "stream",
     "text": [
      "/home/ubuntu/anaconda3/envs/econ/lib/python3.7/site-packages/sklearn/utils/validation.py:71: FutureWarning: Pass classes=[ 3 12 13 18], y=[ 3 12  3 ... 12 12 12] as keyword args. From version 0.25 passing these as positional arguments will result in an error\n",
      "  FutureWarning)\n"
     ]
    },
    {
     "name": "stdout",
     "output_type": "stream",
     "text": [
      "1808/1808 [==============================] - 1s 681us/sample - loss: 4.4267 - accuracy: 0.7251 - val_loss: 3.1842 - val_accuracy: 0.8274\n",
      "Epoch 2/200\n",
      "1808/1808 [==============================] - 0s 113us/sample - loss: 2.4346 - accuracy: 0.8567 - val_loss: 1.7953 - val_accuracy: 0.8628\n",
      "Epoch 3/200\n",
      "1808/1808 [==============================] - 0s 115us/sample - loss: 1.3969 - accuracy: 0.8794 - val_loss: 1.0801 - val_accuracy: 0.8850\n",
      "Epoch 4/200\n",
      "1808/1808 [==============================] - 0s 115us/sample - loss: 0.8681 - accuracy: 0.8894 - val_loss: 0.7266 - val_accuracy: 0.8872\n",
      "Epoch 5/200\n",
      "1808/1808 [==============================] - 0s 115us/sample - loss: 0.6066 - accuracy: 0.9010 - val_loss: 0.5566 - val_accuracy: 0.8894\n",
      "Epoch 6/200\n",
      "1808/1808 [==============================] - 0s 115us/sample - loss: 0.4797 - accuracy: 0.9071 - val_loss: 0.4763 - val_accuracy: 0.9049\n",
      "Epoch 7/200\n",
      "1808/1808 [==============================] - 0s 118us/sample - loss: 0.4181 - accuracy: 0.9098 - val_loss: 0.4396 - val_accuracy: 0.8827\n",
      "Epoch 8/200\n",
      "1808/1808 [==============================] - 0s 79us/sample - loss: 0.3892 - accuracy: 0.9065 - val_loss: 0.4189 - val_accuracy: 0.9137\n",
      "Epoch 9/200\n",
      "1808/1808 [==============================] - 0s 77us/sample - loss: 0.3670 - accuracy: 0.9148 - val_loss: 0.4016 - val_accuracy: 0.9049\n",
      "Epoch 10/200\n",
      "1808/1808 [==============================] - 0s 70us/sample - loss: 0.3539 - accuracy: 0.9137 - val_loss: 0.3973 - val_accuracy: 0.8982\n",
      "Epoch 11/200\n",
      "1808/1808 [==============================] - 0s 66us/sample - loss: 0.3467 - accuracy: 0.9159 - val_loss: 0.3875 - val_accuracy: 0.9049\n",
      "Epoch 12/200\n",
      "1808/1808 [==============================] - 0s 61us/sample - loss: 0.3409 - accuracy: 0.9165 - val_loss: 0.3810 - val_accuracy: 0.9049\n",
      "Epoch 13/200\n",
      "1808/1808 [==============================] - 0s 63us/sample - loss: 0.3336 - accuracy: 0.9143 - val_loss: 0.3784 - val_accuracy: 0.9115\n",
      "Epoch 14/200\n",
      "1808/1808 [==============================] - 0s 63us/sample - loss: 0.3281 - accuracy: 0.9209 - val_loss: 0.3720 - val_accuracy: 0.9181\n",
      "Epoch 15/200\n",
      "1808/1808 [==============================] - 0s 63us/sample - loss: 0.3228 - accuracy: 0.9204 - val_loss: 0.3767 - val_accuracy: 0.9115\n",
      "Epoch 16/200\n",
      "1808/1808 [==============================] - 0s 64us/sample - loss: 0.3233 - accuracy: 0.9198 - val_loss: 0.3729 - val_accuracy: 0.9071\n",
      "Epoch 17/200\n",
      "1808/1808 [==============================] - 0s 65us/sample - loss: 0.3164 - accuracy: 0.9204 - val_loss: 0.3764 - val_accuracy: 0.9027\n"
     ]
    }
   ],
   "source": [
    "train(X, Y, '2')"
   ]
  },
  {
   "cell_type": "code",
   "execution_count": null,
   "metadata": {},
   "outputs": [],
   "source": []
  }
 ],
 "metadata": {
  "kernelspec": {
   "display_name": "Python [conda env:econ] *",
   "language": "python",
   "name": "conda-env-econ-py"
  },
  "language_info": {
   "codemirror_mode": {
    "name": "ipython",
    "version": 3
   },
   "file_extension": ".py",
   "mimetype": "text/x-python",
   "name": "python",
   "nbconvert_exporter": "python",
   "pygments_lexer": "ipython3",
   "version": "3.7.7"
  }
 },
 "nbformat": 4,
 "nbformat_minor": 4
}
